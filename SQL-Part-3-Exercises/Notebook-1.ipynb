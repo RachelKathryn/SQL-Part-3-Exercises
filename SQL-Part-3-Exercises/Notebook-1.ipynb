{
    "metadata": {
        "kernelspec": {
            "name": "SQL",
            "display_name": "SQL",
            "language": "sql"
        },
        "language_info": {
            "name": "sql",
            "version": ""
        },
        "extensions": {
            "azuredatastudio": {
                "version": 1,
                "views": []
            }
        }
    },
    "nbformat_minor": 2,
    "nbformat": 4,
    "cells": [
        {
            "cell_type": "markdown",
            "source": [
                "# SQL Part 3 Exercises Joins\n",
                "\n",
                "This notebook works with the BooksDB dataset.  \n",
                "\n",
                "**Questions 1-4** focus on how joins work in a more general sense.  If you are not sure how to best answer the questions, try manipulating the queries by changing the order of joins, the length of the TOP, or how they are ordered.  \n",
                "\n",
                "> <span style=\"background-color: rgba(127, 127, 127, 0.1);\"><i>Note</i>: If some of the queries are not returning quickly, you can try closing and restarting azure data studio after a few minutes.</span>\n",
                "\n",
                "In **questions 5-8**, you will be asked to join tables to find results about titles, tags, and the books users want to read.\n",
                "\n",
                "As you go through the questions, you will see 'Minimum Desired Output'.  This will provide you with the bare minimum columns needed to answer the questions.  When you write the queries, add as many additional columns as you need to best find your answers."
            ],
            "metadata": {
                "azdata_cell_guid": "db9534a9-c8a7-4c09-8180-bcba0690bb02"
            },
            "attachments": {}
        },
        {
            "cell_type": "markdown",
            "source": [
                "## **QUESTION 1:**  Exploring a LEFT JOIN using the **books** and **to\\_read** tables\n",
                "\n",
                "The code block below has been commented out. To answer this question, you will need to uncomment it by removing the **/\\*** (line 1) and **\\*/** (line 16).\n",
                "\n",
                "**Part A:** Look at Query 1, which table is the 'Left' table and which is the 'Right'?\n",
                "\n",
                "> Your Answer: Left = books, Right = to\\_read\n",
                "\n",
                "**Part B:** Using table 2, answer the following questions: \n",
                "\n",
                "- When we added a  '**WHERE tr.user\\_id IS NOT NULL'** clause (line 14), how did the table change?  Why?\n",
                "\n",
                "> Your Answer: Table 2 filtered out rows where the user\\_id from the to\\_read table is NULL."
            ],
            "metadata": {
                "azdata_cell_guid": "660be568-9a70-40ff-a2fa-a78e31e87b6f"
            },
            "attachments": {}
        },
        {
            "cell_type": "code",
            "source": [
                "\n",
                "-- Query 1: LEFT JOIN \n",
                "SELECT TOP 50 b.title, b.average_rating, b.books_count,tr.user_id, tr.book_id\n",
                "FROM BooksDB.dbo.books AS b\n",
                "LEFT JOIN BooksDB.dbo.to_read AS tr\n",
                "ON b.best_book_id = tr.book_id\n",
                "ORDER BY b.average_rating;\n",
                "\n",
                "-- Query 2: LEFT JOIN USING 'IS NOT NULL'\n",
                "SELECT TOP 50 b.title, b.average_rating, b.books_count,tr.user_id, tr.book_id\n",
                "FROM BooksDB.dbo.books AS b\n",
                "LEFT JOIN BooksDB.dbo.to_read AS tr\n",
                "ON b.best_book_id = tr.book_id\n",
                "WHERE tr.user_id IS NOT NULL\n",
                "ORDER BY b.average_rating;\n",
                ""
            ],
            "metadata": {
                "azdata_cell_guid": "25dcd34c-5e5d-4393-9da0-a4c0effb6455",
                "tags": [],
                "language": "sql"
            },
            "outputs": [
                {
                    "output_type": "display_data",
                    "data": {
                        "text/html": "(50 rows affected)"
                    },
                    "metadata": {}
                },
                {
                    "output_type": "display_data",
                    "data": {
                        "text/html": "(50 rows affected)"
                    },
                    "metadata": {}
                },
                {
                    "output_type": "display_data",
                    "data": {
                        "text/html": "Total execution time: 00:00:08.290"
                    },
                    "metadata": {}
                },
                {
                    "output_type": "execute_result",
                    "metadata": {},
                    "execution_count": 1,
                    "data": {
                        "application/vnd.dataresource+json": {
                            "schema": {
                                "fields": [
                                    {
                                        "name": "title"
                                    },
                                    {
                                        "name": "average_rating"
                                    },
                                    {
                                        "name": "books_count"
                                    },
                                    {
                                        "name": "user_id"
                                    },
                                    {
                                        "name": "book_id"
                                    }
                                ]
                            },
                            "data": [
                                {
                                    "title": "One Night at the Call Center",
                                    "average_rating": "2.47",
                                    "books_count": "25",
                                    "user_id": "NULL",
                                    "book_id": "NULL"
                                },
                                {
                                    "title": "The Almost Moon",
                                    "average_rating": "2.67",
                                    "books_count": "63",
                                    "user_id": "NULL",
                                    "book_id": "NULL"
                                },
                                {
                                    "title": "The Finkler Question",
                                    "average_rating": "2.76",
                                    "books_count": "45",
                                    "user_id": "NULL",
                                    "book_id": "NULL"
                                },
                                {
                                    "title": "Four Blondes",
                                    "average_rating": "2.8",
                                    "books_count": "57",
                                    "user_id": "449",
                                    "book_id": "6613"
                                },
                                {
                                    "title": "Four Blondes",
                                    "average_rating": "2.8",
                                    "books_count": "57",
                                    "user_id": "1378",
                                    "book_id": "6613"
                                },
                                {
                                    "title": "Four Blondes",
                                    "average_rating": "2.8",
                                    "books_count": "57",
                                    "user_id": "6465",
                                    "book_id": "6613"
                                },
                                {
                                    "title": "Four Blondes",
                                    "average_rating": "2.8",
                                    "books_count": "57",
                                    "user_id": "6700",
                                    "book_id": "6613"
                                },
                                {
                                    "title": "Four Blondes",
                                    "average_rating": "2.8",
                                    "books_count": "57",
                                    "user_id": "7830",
                                    "book_id": "6613"
                                },
                                {
                                    "title": "Four Blondes",
                                    "average_rating": "2.8",
                                    "books_count": "57",
                                    "user_id": "10085",
                                    "book_id": "6613"
                                },
                                {
                                    "title": "Four Blondes",
                                    "average_rating": "2.8",
                                    "books_count": "57",
                                    "user_id": "16298",
                                    "book_id": "6613"
                                },
                                {
                                    "title": "Four Blondes",
                                    "average_rating": "2.8",
                                    "books_count": "57",
                                    "user_id": "16845",
                                    "book_id": "6613"
                                },
                                {
                                    "title": "Four Blondes",
                                    "average_rating": "2.8",
                                    "books_count": "57",
                                    "user_id": "17470",
                                    "book_id": "6613"
                                },
                                {
                                    "title": "Four Blondes",
                                    "average_rating": "2.8",
                                    "books_count": "57",
                                    "user_id": "19763",
                                    "book_id": "6613"
                                },
                                {
                                    "title": "Four Blondes",
                                    "average_rating": "2.8",
                                    "books_count": "57",
                                    "user_id": "21938",
                                    "book_id": "6613"
                                },
                                {
                                    "title": "Four Blondes",
                                    "average_rating": "2.8",
                                    "books_count": "57",
                                    "user_id": "22289",
                                    "book_id": "6613"
                                },
                                {
                                    "title": "Four Blondes",
                                    "average_rating": "2.8",
                                    "books_count": "57",
                                    "user_id": "23758",
                                    "book_id": "6613"
                                },
                                {
                                    "title": "Four Blondes",
                                    "average_rating": "2.8",
                                    "books_count": "57",
                                    "user_id": "27874",
                                    "book_id": "6613"
                                },
                                {
                                    "title": "Four Blondes",
                                    "average_rating": "2.8",
                                    "books_count": "57",
                                    "user_id": "28690",
                                    "book_id": "6613"
                                },
                                {
                                    "title": "Four Blondes",
                                    "average_rating": "2.8",
                                    "books_count": "57",
                                    "user_id": "29023",
                                    "book_id": "6613"
                                },
                                {
                                    "title": "Four Blondes",
                                    "average_rating": "2.8",
                                    "books_count": "57",
                                    "user_id": "29315",
                                    "book_id": "6613"
                                },
                                {
                                    "title": "Four Blondes",
                                    "average_rating": "2.8",
                                    "books_count": "57",
                                    "user_id": "30245",
                                    "book_id": "6613"
                                },
                                {
                                    "title": "Four Blondes",
                                    "average_rating": "2.8",
                                    "books_count": "57",
                                    "user_id": "36128",
                                    "book_id": "6613"
                                },
                                {
                                    "title": "Four Blondes",
                                    "average_rating": "2.8",
                                    "books_count": "57",
                                    "user_id": "36554",
                                    "book_id": "6613"
                                },
                                {
                                    "title": "Four Blondes",
                                    "average_rating": "2.8",
                                    "books_count": "57",
                                    "user_id": "38159",
                                    "book_id": "6613"
                                },
                                {
                                    "title": "Four Blondes",
                                    "average_rating": "2.8",
                                    "books_count": "57",
                                    "user_id": "38800",
                                    "book_id": "6613"
                                },
                                {
                                    "title": "Four Blondes",
                                    "average_rating": "2.8",
                                    "books_count": "57",
                                    "user_id": "40361",
                                    "book_id": "6613"
                                },
                                {
                                    "title": "Four Blondes",
                                    "average_rating": "2.8",
                                    "books_count": "57",
                                    "user_id": "40529",
                                    "book_id": "6613"
                                },
                                {
                                    "title": "Four Blondes",
                                    "average_rating": "2.8",
                                    "books_count": "57",
                                    "user_id": "41485",
                                    "book_id": "6613"
                                },
                                {
                                    "title": "Four Blondes",
                                    "average_rating": "2.8",
                                    "books_count": "57",
                                    "user_id": "42706",
                                    "book_id": "6613"
                                },
                                {
                                    "title": "Four Blondes",
                                    "average_rating": "2.8",
                                    "books_count": "57",
                                    "user_id": "45206",
                                    "book_id": "6613"
                                },
                                {
                                    "title": "Four Blondes",
                                    "average_rating": "2.8",
                                    "books_count": "57",
                                    "user_id": "45689",
                                    "book_id": "6613"
                                },
                                {
                                    "title": "Four Blondes",
                                    "average_rating": "2.8",
                                    "books_count": "57",
                                    "user_id": "49499",
                                    "book_id": "6613"
                                },
                                {
                                    "title": "Four Blondes",
                                    "average_rating": "2.8",
                                    "books_count": "57",
                                    "user_id": "51105",
                                    "book_id": "6613"
                                },
                                {
                                    "title": "Four Blondes",
                                    "average_rating": "2.8",
                                    "books_count": "57",
                                    "user_id": "51671",
                                    "book_id": "6613"
                                },
                                {
                                    "title": "Four Blondes",
                                    "average_rating": "2.8",
                                    "books_count": "57",
                                    "user_id": "52109",
                                    "book_id": "6613"
                                },
                                {
                                    "title": "Lost",
                                    "average_rating": "2.8",
                                    "books_count": "18",
                                    "user_id": "NULL",
                                    "book_id": "NULL"
                                },
                                {
                                    "title": "Tell-All",
                                    "average_rating": "2.84",
                                    "books_count": "37",
                                    "user_id": "NULL",
                                    "book_id": "NULL"
                                },
                                {
                                    "title": "Revenge Wears Prada: The Devil Returns (The Devil Wears Prada, #2)",
                                    "average_rating": "2.84",
                                    "books_count": "59",
                                    "user_id": "NULL",
                                    "book_id": "NULL"
                                },
                                {
                                    "title": "Among the Ten Thousand Things",
                                    "average_rating": "2.84",
                                    "books_count": "19",
                                    "user_id": "NULL",
                                    "book_id": "NULL"
                                },
                                {
                                    "title": "The Emperor's Children",
                                    "average_rating": "2.93",
                                    "books_count": "45",
                                    "user_id": "7860",
                                    "book_id": "3648"
                                },
                                {
                                    "title": "The Emperor's Children",
                                    "average_rating": "2.93",
                                    "books_count": "45",
                                    "user_id": "11320",
                                    "book_id": "3648"
                                },
                                {
                                    "title": "The Emperor's Children",
                                    "average_rating": "2.93",
                                    "books_count": "45",
                                    "user_id": "12686",
                                    "book_id": "3648"
                                },
                                {
                                    "title": "The Emperor's Children",
                                    "average_rating": "2.93",
                                    "books_count": "45",
                                    "user_id": "12729",
                                    "book_id": "3648"
                                },
                                {
                                    "title": "The Emperor's Children",
                                    "average_rating": "2.93",
                                    "books_count": "45",
                                    "user_id": "12891",
                                    "book_id": "3648"
                                },
                                {
                                    "title": "The Emperor's Children",
                                    "average_rating": "2.93",
                                    "books_count": "45",
                                    "user_id": "16933",
                                    "book_id": "3648"
                                },
                                {
                                    "title": "The Emperor's Children",
                                    "average_rating": "2.93",
                                    "books_count": "45",
                                    "user_id": "17093",
                                    "book_id": "3648"
                                },
                                {
                                    "title": "The Emperor's Children",
                                    "average_rating": "2.93",
                                    "books_count": "45",
                                    "user_id": "24036",
                                    "book_id": "3648"
                                },
                                {
                                    "title": "The Emperor's Children",
                                    "average_rating": "2.93",
                                    "books_count": "45",
                                    "user_id": "35122",
                                    "book_id": "3648"
                                },
                                {
                                    "title": "The Emperor's Children",
                                    "average_rating": "2.93",
                                    "books_count": "45",
                                    "user_id": "36022",
                                    "book_id": "3648"
                                },
                                {
                                    "title": "The Emperor's Children",
                                    "average_rating": "2.93",
                                    "books_count": "45",
                                    "user_id": "36952",
                                    "book_id": "3648"
                                }
                            ]
                        },
                        "text/html": [
                            "<table>",
                            "<tr><th>title</th><th>average_rating</th><th>books_count</th><th>user_id</th><th>book_id</th></tr>",
                            "<tr><td>One Night at the Call Center</td><td>2.47</td><td>25</td><td>NULL</td><td>NULL</td></tr>",
                            "<tr><td>The Almost Moon</td><td>2.67</td><td>63</td><td>NULL</td><td>NULL</td></tr>",
                            "<tr><td>The Finkler Question</td><td>2.76</td><td>45</td><td>NULL</td><td>NULL</td></tr>",
                            "<tr><td>Four Blondes</td><td>2.8</td><td>57</td><td>449</td><td>6613</td></tr>",
                            "<tr><td>Four Blondes</td><td>2.8</td><td>57</td><td>1378</td><td>6613</td></tr>",
                            "<tr><td>Four Blondes</td><td>2.8</td><td>57</td><td>6465</td><td>6613</td></tr>",
                            "<tr><td>Four Blondes</td><td>2.8</td><td>57</td><td>6700</td><td>6613</td></tr>",
                            "<tr><td>Four Blondes</td><td>2.8</td><td>57</td><td>7830</td><td>6613</td></tr>",
                            "<tr><td>Four Blondes</td><td>2.8</td><td>57</td><td>10085</td><td>6613</td></tr>",
                            "<tr><td>Four Blondes</td><td>2.8</td><td>57</td><td>16298</td><td>6613</td></tr>",
                            "<tr><td>Four Blondes</td><td>2.8</td><td>57</td><td>16845</td><td>6613</td></tr>",
                            "<tr><td>Four Blondes</td><td>2.8</td><td>57</td><td>17470</td><td>6613</td></tr>",
                            "<tr><td>Four Blondes</td><td>2.8</td><td>57</td><td>19763</td><td>6613</td></tr>",
                            "<tr><td>Four Blondes</td><td>2.8</td><td>57</td><td>21938</td><td>6613</td></tr>",
                            "<tr><td>Four Blondes</td><td>2.8</td><td>57</td><td>22289</td><td>6613</td></tr>",
                            "<tr><td>Four Blondes</td><td>2.8</td><td>57</td><td>23758</td><td>6613</td></tr>",
                            "<tr><td>Four Blondes</td><td>2.8</td><td>57</td><td>27874</td><td>6613</td></tr>",
                            "<tr><td>Four Blondes</td><td>2.8</td><td>57</td><td>28690</td><td>6613</td></tr>",
                            "<tr><td>Four Blondes</td><td>2.8</td><td>57</td><td>29023</td><td>6613</td></tr>",
                            "<tr><td>Four Blondes</td><td>2.8</td><td>57</td><td>29315</td><td>6613</td></tr>",
                            "<tr><td>Four Blondes</td><td>2.8</td><td>57</td><td>30245</td><td>6613</td></tr>",
                            "<tr><td>Four Blondes</td><td>2.8</td><td>57</td><td>36128</td><td>6613</td></tr>",
                            "<tr><td>Four Blondes</td><td>2.8</td><td>57</td><td>36554</td><td>6613</td></tr>",
                            "<tr><td>Four Blondes</td><td>2.8</td><td>57</td><td>38159</td><td>6613</td></tr>",
                            "<tr><td>Four Blondes</td><td>2.8</td><td>57</td><td>38800</td><td>6613</td></tr>",
                            "<tr><td>Four Blondes</td><td>2.8</td><td>57</td><td>40361</td><td>6613</td></tr>",
                            "<tr><td>Four Blondes</td><td>2.8</td><td>57</td><td>40529</td><td>6613</td></tr>",
                            "<tr><td>Four Blondes</td><td>2.8</td><td>57</td><td>41485</td><td>6613</td></tr>",
                            "<tr><td>Four Blondes</td><td>2.8</td><td>57</td><td>42706</td><td>6613</td></tr>",
                            "<tr><td>Four Blondes</td><td>2.8</td><td>57</td><td>45206</td><td>6613</td></tr>",
                            "<tr><td>Four Blondes</td><td>2.8</td><td>57</td><td>45689</td><td>6613</td></tr>",
                            "<tr><td>Four Blondes</td><td>2.8</td><td>57</td><td>49499</td><td>6613</td></tr>",
                            "<tr><td>Four Blondes</td><td>2.8</td><td>57</td><td>51105</td><td>6613</td></tr>",
                            "<tr><td>Four Blondes</td><td>2.8</td><td>57</td><td>51671</td><td>6613</td></tr>",
                            "<tr><td>Four Blondes</td><td>2.8</td><td>57</td><td>52109</td><td>6613</td></tr>",
                            "<tr><td>Lost</td><td>2.8</td><td>18</td><td>NULL</td><td>NULL</td></tr>",
                            "<tr><td>Tell-All</td><td>2.84</td><td>37</td><td>NULL</td><td>NULL</td></tr>",
                            "<tr><td>Revenge Wears Prada: The Devil Returns (The Devil Wears Prada, #2)</td><td>2.84</td><td>59</td><td>NULL</td><td>NULL</td></tr>",
                            "<tr><td>Among the Ten Thousand Things</td><td>2.84</td><td>19</td><td>NULL</td><td>NULL</td></tr>",
                            "<tr><td>The Emperor's Children</td><td>2.93</td><td>45</td><td>7860</td><td>3648</td></tr>",
                            "<tr><td>The Emperor's Children</td><td>2.93</td><td>45</td><td>11320</td><td>3648</td></tr>",
                            "<tr><td>The Emperor's Children</td><td>2.93</td><td>45</td><td>12686</td><td>3648</td></tr>",
                            "<tr><td>The Emperor's Children</td><td>2.93</td><td>45</td><td>12729</td><td>3648</td></tr>",
                            "<tr><td>The Emperor's Children</td><td>2.93</td><td>45</td><td>12891</td><td>3648</td></tr>",
                            "<tr><td>The Emperor's Children</td><td>2.93</td><td>45</td><td>16933</td><td>3648</td></tr>",
                            "<tr><td>The Emperor's Children</td><td>2.93</td><td>45</td><td>17093</td><td>3648</td></tr>",
                            "<tr><td>The Emperor's Children</td><td>2.93</td><td>45</td><td>24036</td><td>3648</td></tr>",
                            "<tr><td>The Emperor's Children</td><td>2.93</td><td>45</td><td>35122</td><td>3648</td></tr>",
                            "<tr><td>The Emperor's Children</td><td>2.93</td><td>45</td><td>36022</td><td>3648</td></tr>",
                            "<tr><td>The Emperor's Children</td><td>2.93</td><td>45</td><td>36952</td><td>3648</td></tr>",
                            "</table>"
                        ]
                    }
                },
                {
                    "output_type": "execute_result",
                    "metadata": {},
                    "execution_count": 1,
                    "data": {
                        "application/vnd.dataresource+json": {
                            "schema": {
                                "fields": [
                                    {
                                        "name": "title"
                                    },
                                    {
                                        "name": "average_rating"
                                    },
                                    {
                                        "name": "books_count"
                                    },
                                    {
                                        "name": "user_id"
                                    },
                                    {
                                        "name": "book_id"
                                    }
                                ]
                            },
                            "data": [
                                {
                                    "title": "Four Blondes",
                                    "average_rating": "2.8",
                                    "books_count": "57",
                                    "user_id": "449",
                                    "book_id": "6613"
                                },
                                {
                                    "title": "Four Blondes",
                                    "average_rating": "2.8",
                                    "books_count": "57",
                                    "user_id": "1378",
                                    "book_id": "6613"
                                },
                                {
                                    "title": "Four Blondes",
                                    "average_rating": "2.8",
                                    "books_count": "57",
                                    "user_id": "6465",
                                    "book_id": "6613"
                                },
                                {
                                    "title": "Four Blondes",
                                    "average_rating": "2.8",
                                    "books_count": "57",
                                    "user_id": "6700",
                                    "book_id": "6613"
                                },
                                {
                                    "title": "Four Blondes",
                                    "average_rating": "2.8",
                                    "books_count": "57",
                                    "user_id": "7830",
                                    "book_id": "6613"
                                },
                                {
                                    "title": "Four Blondes",
                                    "average_rating": "2.8",
                                    "books_count": "57",
                                    "user_id": "10085",
                                    "book_id": "6613"
                                },
                                {
                                    "title": "Four Blondes",
                                    "average_rating": "2.8",
                                    "books_count": "57",
                                    "user_id": "16298",
                                    "book_id": "6613"
                                },
                                {
                                    "title": "Four Blondes",
                                    "average_rating": "2.8",
                                    "books_count": "57",
                                    "user_id": "16845",
                                    "book_id": "6613"
                                },
                                {
                                    "title": "Four Blondes",
                                    "average_rating": "2.8",
                                    "books_count": "57",
                                    "user_id": "17470",
                                    "book_id": "6613"
                                },
                                {
                                    "title": "Four Blondes",
                                    "average_rating": "2.8",
                                    "books_count": "57",
                                    "user_id": "19763",
                                    "book_id": "6613"
                                },
                                {
                                    "title": "Four Blondes",
                                    "average_rating": "2.8",
                                    "books_count": "57",
                                    "user_id": "21938",
                                    "book_id": "6613"
                                },
                                {
                                    "title": "Four Blondes",
                                    "average_rating": "2.8",
                                    "books_count": "57",
                                    "user_id": "22289",
                                    "book_id": "6613"
                                },
                                {
                                    "title": "Four Blondes",
                                    "average_rating": "2.8",
                                    "books_count": "57",
                                    "user_id": "23758",
                                    "book_id": "6613"
                                },
                                {
                                    "title": "Four Blondes",
                                    "average_rating": "2.8",
                                    "books_count": "57",
                                    "user_id": "27874",
                                    "book_id": "6613"
                                },
                                {
                                    "title": "Four Blondes",
                                    "average_rating": "2.8",
                                    "books_count": "57",
                                    "user_id": "28690",
                                    "book_id": "6613"
                                },
                                {
                                    "title": "Four Blondes",
                                    "average_rating": "2.8",
                                    "books_count": "57",
                                    "user_id": "29023",
                                    "book_id": "6613"
                                },
                                {
                                    "title": "Four Blondes",
                                    "average_rating": "2.8",
                                    "books_count": "57",
                                    "user_id": "29315",
                                    "book_id": "6613"
                                },
                                {
                                    "title": "Four Blondes",
                                    "average_rating": "2.8",
                                    "books_count": "57",
                                    "user_id": "30245",
                                    "book_id": "6613"
                                },
                                {
                                    "title": "Four Blondes",
                                    "average_rating": "2.8",
                                    "books_count": "57",
                                    "user_id": "36128",
                                    "book_id": "6613"
                                },
                                {
                                    "title": "Four Blondes",
                                    "average_rating": "2.8",
                                    "books_count": "57",
                                    "user_id": "36554",
                                    "book_id": "6613"
                                },
                                {
                                    "title": "Four Blondes",
                                    "average_rating": "2.8",
                                    "books_count": "57",
                                    "user_id": "38159",
                                    "book_id": "6613"
                                },
                                {
                                    "title": "Four Blondes",
                                    "average_rating": "2.8",
                                    "books_count": "57",
                                    "user_id": "38800",
                                    "book_id": "6613"
                                },
                                {
                                    "title": "Four Blondes",
                                    "average_rating": "2.8",
                                    "books_count": "57",
                                    "user_id": "40361",
                                    "book_id": "6613"
                                },
                                {
                                    "title": "Four Blondes",
                                    "average_rating": "2.8",
                                    "books_count": "57",
                                    "user_id": "40529",
                                    "book_id": "6613"
                                },
                                {
                                    "title": "Four Blondes",
                                    "average_rating": "2.8",
                                    "books_count": "57",
                                    "user_id": "41485",
                                    "book_id": "6613"
                                },
                                {
                                    "title": "Four Blondes",
                                    "average_rating": "2.8",
                                    "books_count": "57",
                                    "user_id": "42706",
                                    "book_id": "6613"
                                },
                                {
                                    "title": "Four Blondes",
                                    "average_rating": "2.8",
                                    "books_count": "57",
                                    "user_id": "45206",
                                    "book_id": "6613"
                                },
                                {
                                    "title": "Four Blondes",
                                    "average_rating": "2.8",
                                    "books_count": "57",
                                    "user_id": "45689",
                                    "book_id": "6613"
                                },
                                {
                                    "title": "Four Blondes",
                                    "average_rating": "2.8",
                                    "books_count": "57",
                                    "user_id": "49499",
                                    "book_id": "6613"
                                },
                                {
                                    "title": "Four Blondes",
                                    "average_rating": "2.8",
                                    "books_count": "57",
                                    "user_id": "51105",
                                    "book_id": "6613"
                                },
                                {
                                    "title": "Four Blondes",
                                    "average_rating": "2.8",
                                    "books_count": "57",
                                    "user_id": "51671",
                                    "book_id": "6613"
                                },
                                {
                                    "title": "Four Blondes",
                                    "average_rating": "2.8",
                                    "books_count": "57",
                                    "user_id": "52109",
                                    "book_id": "6613"
                                },
                                {
                                    "title": "The Emperor's Children",
                                    "average_rating": "2.93",
                                    "books_count": "45",
                                    "user_id": "7860",
                                    "book_id": "3648"
                                },
                                {
                                    "title": "The Emperor's Children",
                                    "average_rating": "2.93",
                                    "books_count": "45",
                                    "user_id": "11320",
                                    "book_id": "3648"
                                },
                                {
                                    "title": "The Emperor's Children",
                                    "average_rating": "2.93",
                                    "books_count": "45",
                                    "user_id": "12686",
                                    "book_id": "3648"
                                },
                                {
                                    "title": "The Emperor's Children",
                                    "average_rating": "2.93",
                                    "books_count": "45",
                                    "user_id": "12729",
                                    "book_id": "3648"
                                },
                                {
                                    "title": "The Emperor's Children",
                                    "average_rating": "2.93",
                                    "books_count": "45",
                                    "user_id": "12891",
                                    "book_id": "3648"
                                },
                                {
                                    "title": "The Emperor's Children",
                                    "average_rating": "2.93",
                                    "books_count": "45",
                                    "user_id": "16933",
                                    "book_id": "3648"
                                },
                                {
                                    "title": "The Emperor's Children",
                                    "average_rating": "2.93",
                                    "books_count": "45",
                                    "user_id": "17093",
                                    "book_id": "3648"
                                },
                                {
                                    "title": "The Emperor's Children",
                                    "average_rating": "2.93",
                                    "books_count": "45",
                                    "user_id": "24036",
                                    "book_id": "3648"
                                },
                                {
                                    "title": "The Emperor's Children",
                                    "average_rating": "2.93",
                                    "books_count": "45",
                                    "user_id": "35122",
                                    "book_id": "3648"
                                },
                                {
                                    "title": "The Emperor's Children",
                                    "average_rating": "2.93",
                                    "books_count": "45",
                                    "user_id": "36022",
                                    "book_id": "3648"
                                },
                                {
                                    "title": "The Emperor's Children",
                                    "average_rating": "2.93",
                                    "books_count": "45",
                                    "user_id": "36952",
                                    "book_id": "3648"
                                },
                                {
                                    "title": "The Emperor's Children",
                                    "average_rating": "2.93",
                                    "books_count": "45",
                                    "user_id": "38430",
                                    "book_id": "3648"
                                },
                                {
                                    "title": "The Emperor's Children",
                                    "average_rating": "2.93",
                                    "books_count": "45",
                                    "user_id": "39414",
                                    "book_id": "3648"
                                },
                                {
                                    "title": "The Emperor's Children",
                                    "average_rating": "2.93",
                                    "books_count": "45",
                                    "user_id": "45261",
                                    "book_id": "3648"
                                },
                                {
                                    "title": "The Emperor's Children",
                                    "average_rating": "2.93",
                                    "books_count": "45",
                                    "user_id": "45497",
                                    "book_id": "3648"
                                },
                                {
                                    "title": "The Emperor's Children",
                                    "average_rating": "2.93",
                                    "books_count": "45",
                                    "user_id": "45747",
                                    "book_id": "3648"
                                },
                                {
                                    "title": "The Emperor's Children",
                                    "average_rating": "2.93",
                                    "books_count": "45",
                                    "user_id": "48502",
                                    "book_id": "3648"
                                },
                                {
                                    "title": "The Emperor's Children",
                                    "average_rating": "2.93",
                                    "books_count": "45",
                                    "user_id": "49233",
                                    "book_id": "3648"
                                }
                            ]
                        },
                        "text/html": [
                            "<table>",
                            "<tr><th>title</th><th>average_rating</th><th>books_count</th><th>user_id</th><th>book_id</th></tr>",
                            "<tr><td>Four Blondes</td><td>2.8</td><td>57</td><td>449</td><td>6613</td></tr>",
                            "<tr><td>Four Blondes</td><td>2.8</td><td>57</td><td>1378</td><td>6613</td></tr>",
                            "<tr><td>Four Blondes</td><td>2.8</td><td>57</td><td>6465</td><td>6613</td></tr>",
                            "<tr><td>Four Blondes</td><td>2.8</td><td>57</td><td>6700</td><td>6613</td></tr>",
                            "<tr><td>Four Blondes</td><td>2.8</td><td>57</td><td>7830</td><td>6613</td></tr>",
                            "<tr><td>Four Blondes</td><td>2.8</td><td>57</td><td>10085</td><td>6613</td></tr>",
                            "<tr><td>Four Blondes</td><td>2.8</td><td>57</td><td>16298</td><td>6613</td></tr>",
                            "<tr><td>Four Blondes</td><td>2.8</td><td>57</td><td>16845</td><td>6613</td></tr>",
                            "<tr><td>Four Blondes</td><td>2.8</td><td>57</td><td>17470</td><td>6613</td></tr>",
                            "<tr><td>Four Blondes</td><td>2.8</td><td>57</td><td>19763</td><td>6613</td></tr>",
                            "<tr><td>Four Blondes</td><td>2.8</td><td>57</td><td>21938</td><td>6613</td></tr>",
                            "<tr><td>Four Blondes</td><td>2.8</td><td>57</td><td>22289</td><td>6613</td></tr>",
                            "<tr><td>Four Blondes</td><td>2.8</td><td>57</td><td>23758</td><td>6613</td></tr>",
                            "<tr><td>Four Blondes</td><td>2.8</td><td>57</td><td>27874</td><td>6613</td></tr>",
                            "<tr><td>Four Blondes</td><td>2.8</td><td>57</td><td>28690</td><td>6613</td></tr>",
                            "<tr><td>Four Blondes</td><td>2.8</td><td>57</td><td>29023</td><td>6613</td></tr>",
                            "<tr><td>Four Blondes</td><td>2.8</td><td>57</td><td>29315</td><td>6613</td></tr>",
                            "<tr><td>Four Blondes</td><td>2.8</td><td>57</td><td>30245</td><td>6613</td></tr>",
                            "<tr><td>Four Blondes</td><td>2.8</td><td>57</td><td>36128</td><td>6613</td></tr>",
                            "<tr><td>Four Blondes</td><td>2.8</td><td>57</td><td>36554</td><td>6613</td></tr>",
                            "<tr><td>Four Blondes</td><td>2.8</td><td>57</td><td>38159</td><td>6613</td></tr>",
                            "<tr><td>Four Blondes</td><td>2.8</td><td>57</td><td>38800</td><td>6613</td></tr>",
                            "<tr><td>Four Blondes</td><td>2.8</td><td>57</td><td>40361</td><td>6613</td></tr>",
                            "<tr><td>Four Blondes</td><td>2.8</td><td>57</td><td>40529</td><td>6613</td></tr>",
                            "<tr><td>Four Blondes</td><td>2.8</td><td>57</td><td>41485</td><td>6613</td></tr>",
                            "<tr><td>Four Blondes</td><td>2.8</td><td>57</td><td>42706</td><td>6613</td></tr>",
                            "<tr><td>Four Blondes</td><td>2.8</td><td>57</td><td>45206</td><td>6613</td></tr>",
                            "<tr><td>Four Blondes</td><td>2.8</td><td>57</td><td>45689</td><td>6613</td></tr>",
                            "<tr><td>Four Blondes</td><td>2.8</td><td>57</td><td>49499</td><td>6613</td></tr>",
                            "<tr><td>Four Blondes</td><td>2.8</td><td>57</td><td>51105</td><td>6613</td></tr>",
                            "<tr><td>Four Blondes</td><td>2.8</td><td>57</td><td>51671</td><td>6613</td></tr>",
                            "<tr><td>Four Blondes</td><td>2.8</td><td>57</td><td>52109</td><td>6613</td></tr>",
                            "<tr><td>The Emperor's Children</td><td>2.93</td><td>45</td><td>7860</td><td>3648</td></tr>",
                            "<tr><td>The Emperor's Children</td><td>2.93</td><td>45</td><td>11320</td><td>3648</td></tr>",
                            "<tr><td>The Emperor's Children</td><td>2.93</td><td>45</td><td>12686</td><td>3648</td></tr>",
                            "<tr><td>The Emperor's Children</td><td>2.93</td><td>45</td><td>12729</td><td>3648</td></tr>",
                            "<tr><td>The Emperor's Children</td><td>2.93</td><td>45</td><td>12891</td><td>3648</td></tr>",
                            "<tr><td>The Emperor's Children</td><td>2.93</td><td>45</td><td>16933</td><td>3648</td></tr>",
                            "<tr><td>The Emperor's Children</td><td>2.93</td><td>45</td><td>17093</td><td>3648</td></tr>",
                            "<tr><td>The Emperor's Children</td><td>2.93</td><td>45</td><td>24036</td><td>3648</td></tr>",
                            "<tr><td>The Emperor's Children</td><td>2.93</td><td>45</td><td>35122</td><td>3648</td></tr>",
                            "<tr><td>The Emperor's Children</td><td>2.93</td><td>45</td><td>36022</td><td>3648</td></tr>",
                            "<tr><td>The Emperor's Children</td><td>2.93</td><td>45</td><td>36952</td><td>3648</td></tr>",
                            "<tr><td>The Emperor's Children</td><td>2.93</td><td>45</td><td>38430</td><td>3648</td></tr>",
                            "<tr><td>The Emperor's Children</td><td>2.93</td><td>45</td><td>39414</td><td>3648</td></tr>",
                            "<tr><td>The Emperor's Children</td><td>2.93</td><td>45</td><td>45261</td><td>3648</td></tr>",
                            "<tr><td>The Emperor's Children</td><td>2.93</td><td>45</td><td>45497</td><td>3648</td></tr>",
                            "<tr><td>The Emperor's Children</td><td>2.93</td><td>45</td><td>45747</td><td>3648</td></tr>",
                            "<tr><td>The Emperor's Children</td><td>2.93</td><td>45</td><td>48502</td><td>3648</td></tr>",
                            "<tr><td>The Emperor's Children</td><td>2.93</td><td>45</td><td>49233</td><td>3648</td></tr>",
                            "</table>"
                        ]
                    }
                }
            ],
            "execution_count": 1
        },
        {
            "cell_type": "markdown",
            "source": [
                "## **QUESTION 2:** Exploring **RIGHT** joins with the **books** and **to\\_read** tables\n",
                "\n",
                "You will need to uncomment the Query to answer the question.\n",
                "\n",
                "**Part A:** Looking at the query, which table is the 'Left' and which is the 'Right'?\n",
                "\n",
                "> Your Answer: Left = books, Right = to\\_read\n",
                "\n",
                "**Part B:** How do the RIGHT-joined tables differ from the LEFT-joined tables in Question 1?  \n",
                "\n",
                "> Your Answer: The right join keeps all the rows from the right table (to\\_read) and adds NULL for any unmatched values in the left table."
            ],
            "metadata": {
                "azdata_cell_guid": "c1e417d9-89d2-4a7d-ab46-b43c8bddc54f"
            },
            "attachments": {}
        },
        {
            "cell_type": "code",
            "source": [
                "\n",
                "-- Query 1: RIGHT JOIN\n",
                "SELECT TOP 300 b.title, b.average_rating, b.books_count, tr.user_id, tr.book_id\n",
                "FROM BooksDB.dbo.books AS b\n",
                "RIGHT JOIN BooksDB.dbo.to_read AS tr\n",
                "ON b.best_book_id = tr.book_id;\n",
                ""
            ],
            "metadata": {
                "azdata_cell_guid": "8cf020b8-2a76-46a6-acff-97eb1acc7fed",
                "tags": [],
                "language": "sql"
            },
            "outputs": [
                {
                    "output_type": "display_data",
                    "data": {
                        "text/html": "(300 rows affected)"
                    },
                    "metadata": {}
                },
                {
                    "output_type": "display_data",
                    "data": {
                        "text/html": "Total execution time: 00:00:00.068"
                    },
                    "metadata": {}
                },
                {
                    "output_type": "execute_result",
                    "metadata": {},
                    "execution_count": 2,
                    "data": {
                        "application/vnd.dataresource+json": {
                            "schema": {
                                "fields": [
                                    {
                                        "name": "title"
                                    },
                                    {
                                        "name": "average_rating"
                                    },
                                    {
                                        "name": "books_count"
                                    },
                                    {
                                        "name": "user_id"
                                    },
                                    {
                                        "name": "book_id"
                                    }
                                ]
                            },
                            "data": [
                                {
                                    "title": "Children of Dune (Dune Chronicles #3)",
                                    "average_rating": "3.9",
                                    "books_count": "116",
                                    "user_id": "1",
                                    "book_id": "112"
                                },
                                {
                                    "title": "NULL",
                                    "average_rating": "NULL",
                                    "books_count": "NULL",
                                    "user_id": "1",
                                    "book_id": "235"
                                },
                                {
                                    "title": "NULL",
                                    "average_rating": "NULL",
                                    "books_count": "NULL",
                                    "user_id": "1",
                                    "book_id": "533"
                                },
                                {
                                    "title": "NULL",
                                    "average_rating": "NULL",
                                    "books_count": "NULL",
                                    "user_id": "1",
                                    "book_id": "1198"
                                },
                                {
                                    "title": "NULL",
                                    "average_rating": "NULL",
                                    "books_count": "NULL",
                                    "user_id": "1",
                                    "book_id": "1874"
                                },
                                {
                                    "title": "NULL",
                                    "average_rating": "NULL",
                                    "books_count": "NULL",
                                    "user_id": "1",
                                    "book_id": "2058"
                                },
                                {
                                    "title": "NULL",
                                    "average_rating": "NULL",
                                    "books_count": "NULL",
                                    "user_id": "1",
                                    "book_id": "3334"
                                },
                                {
                                    "title": "NULL",
                                    "average_rating": "NULL",
                                    "books_count": "NULL",
                                    "user_id": "2",
                                    "book_id": "4"
                                },
                                {
                                    "title": "NULL",
                                    "average_rating": "NULL",
                                    "books_count": "NULL",
                                    "user_id": "2",
                                    "book_id": "11"
                                },
                                {
                                    "title": "The Ultimate Hitchhiker's Guide to the Galaxy",
                                    "average_rating": "4.37",
                                    "books_count": "32",
                                    "user_id": "2",
                                    "book_id": "13"
                                },
                                {
                                    "title": "NULL",
                                    "average_rating": "NULL",
                                    "books_count": "NULL",
                                    "user_id": "2",
                                    "book_id": "16"
                                },
                                {
                                    "title": "NULL",
                                    "average_rating": "NULL",
                                    "books_count": "NULL",
                                    "user_id": "2",
                                    "book_id": "92"
                                },
                                {
                                    "title": "Dune Messiah (Dune Chronicles #2)",
                                    "average_rating": "3.86",
                                    "books_count": "140",
                                    "user_id": "2",
                                    "book_id": "106"
                                },
                                {
                                    "title": "NULL",
                                    "average_rating": "NULL",
                                    "books_count": "NULL",
                                    "user_id": "2",
                                    "book_id": "113"
                                },
                                {
                                    "title": "NULL",
                                    "average_rating": "NULL",
                                    "books_count": "NULL",
                                    "user_id": "2",
                                    "book_id": "233"
                                },
                                {
                                    "title": "NULL",
                                    "average_rating": "NULL",
                                    "books_count": "NULL",
                                    "user_id": "2",
                                    "book_id": "247"
                                },
                                {
                                    "title": "NULL",
                                    "average_rating": "NULL",
                                    "books_count": "NULL",
                                    "user_id": "2",
                                    "book_id": "380"
                                },
                                {
                                    "title": "NULL",
                                    "average_rating": "NULL",
                                    "books_count": "NULL",
                                    "user_id": "2",
                                    "book_id": "408"
                                },
                                {
                                    "title": "NULL",
                                    "average_rating": "NULL",
                                    "books_count": "NULL",
                                    "user_id": "2",
                                    "book_id": "439"
                                },
                                {
                                    "title": "NULL",
                                    "average_rating": "NULL",
                                    "books_count": "NULL",
                                    "user_id": "2",
                                    "book_id": "479"
                                },
                                {
                                    "title": "NULL",
                                    "average_rating": "NULL",
                                    "books_count": "NULL",
                                    "user_id": "2",
                                    "book_id": "516"
                                },
                                {
                                    "title": "NULL",
                                    "average_rating": "NULL",
                                    "books_count": "NULL",
                                    "user_id": "2",
                                    "book_id": "619"
                                },
                                {
                                    "title": "NULL",
                                    "average_rating": "NULL",
                                    "books_count": "NULL",
                                    "user_id": "2",
                                    "book_id": "1069"
                                },
                                {
                                    "title": "The Iliad",
                                    "average_rating": "3.83",
                                    "books_count": "1726",
                                    "user_id": "2",
                                    "book_id": "1371"
                                },
                                {
                                    "title": "NULL",
                                    "average_rating": "NULL",
                                    "books_count": "NULL",
                                    "user_id": "2",
                                    "book_id": "1384"
                                },
                                {
                                    "title": "NULL",
                                    "average_rating": "NULL",
                                    "books_count": "NULL",
                                    "user_id": "2",
                                    "book_id": "1597"
                                },
                                {
                                    "title": "NULL",
                                    "average_rating": "NULL",
                                    "books_count": "NULL",
                                    "user_id": "2",
                                    "book_id": "1926"
                                },
                                {
                                    "title": "NULL",
                                    "average_rating": "NULL",
                                    "books_count": "NULL",
                                    "user_id": "2",
                                    "book_id": "1967"
                                },
                                {
                                    "title": "NULL",
                                    "average_rating": "NULL",
                                    "books_count": "NULL",
                                    "user_id": "2",
                                    "book_id": "1969"
                                },
                                {
                                    "title": "NULL",
                                    "average_rating": "NULL",
                                    "books_count": "NULL",
                                    "user_id": "2",
                                    "book_id": "2220"
                                },
                                {
                                    "title": "NULL",
                                    "average_rating": "NULL",
                                    "books_count": "NULL",
                                    "user_id": "2",
                                    "book_id": "2388"
                                },
                                {
                                    "title": "NULL",
                                    "average_rating": "NULL",
                                    "books_count": "NULL",
                                    "user_id": "2",
                                    "book_id": "3222"
                                },
                                {
                                    "title": "NULL",
                                    "average_rating": "NULL",
                                    "books_count": "NULL",
                                    "user_id": "2",
                                    "book_id": "3227"
                                },
                                {
                                    "title": "NULL",
                                    "average_rating": "NULL",
                                    "books_count": "NULL",
                                    "user_id": "2",
                                    "book_id": "3733"
                                },
                                {
                                    "title": "NULL",
                                    "average_rating": "NULL",
                                    "books_count": "NULL",
                                    "user_id": "2",
                                    "book_id": "5418"
                                },
                                {
                                    "title": "NULL",
                                    "average_rating": "NULL",
                                    "books_count": "NULL",
                                    "user_id": "2",
                                    "book_id": "6937"
                                },
                                {
                                    "title": "NULL",
                                    "average_rating": "NULL",
                                    "books_count": "NULL",
                                    "user_id": "2",
                                    "book_id": "7146"
                                },
                                {
                                    "title": "NULL",
                                    "average_rating": "NULL",
                                    "books_count": "NULL",
                                    "user_id": "2",
                                    "book_id": "7873"
                                },
                                {
                                    "title": "NULL",
                                    "average_rating": "NULL",
                                    "books_count": "NULL",
                                    "user_id": "2",
                                    "book_id": "8417"
                                },
                                {
                                    "title": "Harry Potter Collection (Harry Potter, #1-6)",
                                    "average_rating": "4.73",
                                    "books_count": "6",
                                    "user_id": "3",
                                    "book_id": "10"
                                },
                                {
                                    "title": "NULL",
                                    "average_rating": "NULL",
                                    "books_count": "NULL",
                                    "user_id": "3",
                                    "book_id": "66"
                                },
                                {
                                    "title": "NULL",
                                    "average_rating": "NULL",
                                    "books_count": "NULL",
                                    "user_id": "3",
                                    "book_id": "233"
                                },
                                {
                                    "title": "NULL",
                                    "average_rating": "NULL",
                                    "books_count": "NULL",
                                    "user_id": "3",
                                    "book_id": "726"
                                },
                                {
                                    "title": "NULL",
                                    "average_rating": "NULL",
                                    "books_count": "NULL",
                                    "user_id": "3",
                                    "book_id": "932"
                                },
                                {
                                    "title": "NULL",
                                    "average_rating": "NULL",
                                    "books_count": "NULL",
                                    "user_id": "3",
                                    "book_id": "1146"
                                },
                                {
                                    "title": "NULL",
                                    "average_rating": "NULL",
                                    "books_count": "NULL",
                                    "user_id": "3",
                                    "book_id": "2439"
                                },
                                {
                                    "title": "NULL",
                                    "average_rating": "NULL",
                                    "books_count": "NULL",
                                    "user_id": "3",
                                    "book_id": "3566"
                                },
                                {
                                    "title": "NULL",
                                    "average_rating": "NULL",
                                    "books_count": "NULL",
                                    "user_id": "3",
                                    "book_id": "4582"
                                },
                                {
                                    "title": "NULL",
                                    "average_rating": "NULL",
                                    "books_count": "NULL",
                                    "user_id": "3",
                                    "book_id": "5448"
                                },
                                {
                                    "title": "NULL",
                                    "average_rating": "NULL",
                                    "books_count": "NULL",
                                    "user_id": "3",
                                    "book_id": "5765"
                                },
                                {
                                    "title": "NULL",
                                    "average_rating": "NULL",
                                    "books_count": "NULL",
                                    "user_id": "3",
                                    "book_id": "6274"
                                },
                                {
                                    "title": "NULL",
                                    "average_rating": "NULL",
                                    "books_count": "NULL",
                                    "user_id": "3",
                                    "book_id": "8403"
                                },
                                {
                                    "title": "NULL",
                                    "average_rating": "NULL",
                                    "books_count": "NULL",
                                    "user_id": "5",
                                    "book_id": "31"
                                },
                                {
                                    "title": "The Virtue of Selfishness: A New Concept of Egoism",
                                    "average_rating": "3.47",
                                    "books_count": "53",
                                    "user_id": "5",
                                    "book_id": "665"
                                },
                                {
                                    "title": "NULL",
                                    "average_rating": "NULL",
                                    "books_count": "NULL",
                                    "user_id": "5",
                                    "book_id": "3074"
                                },
                                {
                                    "title": "Sherlock Holmes: The Complete Novels and Stories, Volume I",
                                    "average_rating": "4.45",
                                    "books_count": "13",
                                    "user_id": "5",
                                    "book_id": "3581"
                                },
                                {
                                    "title": "NULL",
                                    "average_rating": "NULL",
                                    "books_count": "NULL",
                                    "user_id": "6",
                                    "book_id": "64"
                                },
                                {
                                    "title": "NULL",
                                    "average_rating": "NULL",
                                    "books_count": "NULL",
                                    "user_id": "6",
                                    "book_id": "459"
                                },
                                {
                                    "title": "NULL",
                                    "average_rating": "NULL",
                                    "books_count": "NULL",
                                    "user_id": "6",
                                    "book_id": "619"
                                },
                                {
                                    "title": "NULL",
                                    "average_rating": "NULL",
                                    "books_count": "NULL",
                                    "user_id": "6",
                                    "book_id": "649"
                                },
                                {
                                    "title": "NULL",
                                    "average_rating": "NULL",
                                    "books_count": "NULL",
                                    "user_id": "6",
                                    "book_id": "687"
                                },
                                {
                                    "title": "NULL",
                                    "average_rating": "NULL",
                                    "books_count": "NULL",
                                    "user_id": "6",
                                    "book_id": "874"
                                },
                                {
                                    "title": "The War of Art: Break Through the Blocks & Win Your Inner Creative Battles",
                                    "average_rating": "4.07",
                                    "books_count": "29",
                                    "user_id": "6",
                                    "book_id": "1319"
                                },
                                {
                                    "title": "NULL",
                                    "average_rating": "NULL",
                                    "books_count": "NULL",
                                    "user_id": "6",
                                    "book_id": "1912"
                                },
                                {
                                    "title": "NULL",
                                    "average_rating": "NULL",
                                    "books_count": "NULL",
                                    "user_id": "6",
                                    "book_id": "5269"
                                },
                                {
                                    "title": "NULL",
                                    "average_rating": "NULL",
                                    "books_count": "NULL",
                                    "user_id": "6",
                                    "book_id": "5537"
                                },
                                {
                                    "title": "NULL",
                                    "average_rating": "NULL",
                                    "books_count": "NULL",
                                    "user_id": "6",
                                    "book_id": "5820"
                                },
                                {
                                    "title": "NULL",
                                    "average_rating": "NULL",
                                    "books_count": "NULL",
                                    "user_id": "6",
                                    "book_id": "6220"
                                },
                                {
                                    "title": "NULL",
                                    "average_rating": "NULL",
                                    "books_count": "NULL",
                                    "user_id": "6",
                                    "book_id": "7480"
                                },
                                {
                                    "title": "Harry Potter Collection (Harry Potter, #1-6)",
                                    "average_rating": "4.73",
                                    "books_count": "6",
                                    "user_id": "7",
                                    "book_id": "10"
                                },
                                {
                                    "title": "NULL",
                                    "average_rating": "NULL",
                                    "books_count": "NULL",
                                    "user_id": "7",
                                    "book_id": "215"
                                },
                                {
                                    "title": "NULL",
                                    "average_rating": "NULL",
                                    "books_count": "NULL",
                                    "user_id": "7",
                                    "book_id": "225"
                                },
                                {
                                    "title": "NULL",
                                    "average_rating": "NULL",
                                    "books_count": "NULL",
                                    "user_id": "7",
                                    "book_id": "233"
                                },
                                {
                                    "title": "NULL",
                                    "average_rating": "NULL",
                                    "books_count": "NULL",
                                    "user_id": "7",
                                    "book_id": "1322"
                                },
                                {
                                    "title": "NULL",
                                    "average_rating": "NULL",
                                    "books_count": "NULL",
                                    "user_id": "7",
                                    "book_id": "3552"
                                },
                                {
                                    "title": "NULL",
                                    "average_rating": "NULL",
                                    "books_count": "NULL",
                                    "user_id": "7",
                                    "book_id": "3720"
                                },
                                {
                                    "title": "NULL",
                                    "average_rating": "NULL",
                                    "books_count": "NULL",
                                    "user_id": "7",
                                    "book_id": "4468"
                                },
                                {
                                    "title": "NULL",
                                    "average_rating": "NULL",
                                    "books_count": "NULL",
                                    "user_id": "8",
                                    "book_id": "19"
                                },
                                {
                                    "title": "NULL",
                                    "average_rating": "NULL",
                                    "books_count": "NULL",
                                    "user_id": "8",
                                    "book_id": "498"
                                },
                                {
                                    "title": "NULL",
                                    "average_rating": "NULL",
                                    "books_count": "NULL",
                                    "user_id": "8",
                                    "book_id": "1357"
                                },
                                {
                                    "title": "NULL",
                                    "average_rating": "NULL",
                                    "books_count": "NULL",
                                    "user_id": "8",
                                    "book_id": "2177"
                                },
                                {
                                    "title": "NULL",
                                    "average_rating": "NULL",
                                    "books_count": "NULL",
                                    "user_id": "8",
                                    "book_id": "3930"
                                },
                                {
                                    "title": "The Pilgrimage",
                                    "average_rating": "3.64",
                                    "books_count": "171",
                                    "user_id": "8",
                                    "book_id": "4004"
                                },
                                {
                                    "title": "NULL",
                                    "average_rating": "NULL",
                                    "books_count": "NULL",
                                    "user_id": "8",
                                    "book_id": "8792"
                                },
                                {
                                    "title": "NULL",
                                    "average_rating": "NULL",
                                    "books_count": "NULL",
                                    "user_id": "8",
                                    "book_id": "9304"
                                },
                                {
                                    "title": "Harry Potter Boxed Set, Books 1-5 (Harry Potter, #1-5)",
                                    "average_rating": "4.77",
                                    "books_count": "11",
                                    "user_id": "9",
                                    "book_id": "8"
                                },
                                {
                                    "title": "Children of Dune (Dune Chronicles #3)",
                                    "average_rating": "3.9",
                                    "books_count": "116",
                                    "user_id": "9",
                                    "book_id": "112"
                                },
                                {
                                    "title": "NULL",
                                    "average_rating": "NULL",
                                    "books_count": "NULL",
                                    "user_id": "9",
                                    "book_id": "139"
                                },
                                {
                                    "title": "NULL",
                                    "average_rating": "NULL",
                                    "books_count": "NULL",
                                    "user_id": "9",
                                    "book_id": "230"
                                },
                                {
                                    "title": "NULL",
                                    "average_rating": "NULL",
                                    "books_count": "NULL",
                                    "user_id": "9",
                                    "book_id": "233"
                                },
                                {
                                    "title": "NULL",
                                    "average_rating": "NULL",
                                    "books_count": "NULL",
                                    "user_id": "9",
                                    "book_id": "473"
                                },
                                {
                                    "title": "NULL",
                                    "average_rating": "NULL",
                                    "books_count": "NULL",
                                    "user_id": "9",
                                    "book_id": "638"
                                },
                                {
                                    "title": "NULL",
                                    "average_rating": "NULL",
                                    "books_count": "NULL",
                                    "user_id": "9",
                                    "book_id": "653"
                                },
                                {
                                    "title": "NULL",
                                    "average_rating": "NULL",
                                    "books_count": "NULL",
                                    "user_id": "9",
                                    "book_id": "672"
                                },
                                {
                                    "title": "NULL",
                                    "average_rating": "NULL",
                                    "books_count": "NULL",
                                    "user_id": "9",
                                    "book_id": "701"
                                },
                                {
                                    "title": "NULL",
                                    "average_rating": "NULL",
                                    "books_count": "NULL",
                                    "user_id": "9",
                                    "book_id": "736"
                                },
                                {
                                    "title": "NULL",
                                    "average_rating": "NULL",
                                    "books_count": "NULL",
                                    "user_id": "9",
                                    "book_id": "883"
                                },
                                {
                                    "title": "NULL",
                                    "average_rating": "NULL",
                                    "books_count": "NULL",
                                    "user_id": "9",
                                    "book_id": "895"
                                },
                                {
                                    "title": "NULL",
                                    "average_rating": "NULL",
                                    "books_count": "NULL",
                                    "user_id": "9",
                                    "book_id": "1467"
                                },
                                {
                                    "title": "NULL",
                                    "average_rating": "NULL",
                                    "books_count": "NULL",
                                    "user_id": "9",
                                    "book_id": "1582"
                                },
                                {
                                    "title": "NULL",
                                    "average_rating": "NULL",
                                    "books_count": "NULL",
                                    "user_id": "9",
                                    "book_id": "1873"
                                },
                                {
                                    "title": "NULL",
                                    "average_rating": "NULL",
                                    "books_count": "NULL",
                                    "user_id": "9",
                                    "book_id": "2516"
                                },
                                {
                                    "title": "NULL",
                                    "average_rating": "NULL",
                                    "books_count": "NULL",
                                    "user_id": "9",
                                    "book_id": "2630"
                                },
                                {
                                    "title": "NULL",
                                    "average_rating": "NULL",
                                    "books_count": "NULL",
                                    "user_id": "9",
                                    "book_id": "3210"
                                },
                                {
                                    "title": "Icy Sparks",
                                    "average_rating": "3.68",
                                    "books_count": "27",
                                    "user_id": "9",
                                    "book_id": "3476"
                                },
                                {
                                    "title": "NULL",
                                    "average_rating": "NULL",
                                    "books_count": "NULL",
                                    "user_id": "9",
                                    "book_id": "3560"
                                },
                                {
                                    "title": "NULL",
                                    "average_rating": "NULL",
                                    "books_count": "NULL",
                                    "user_id": "9",
                                    "book_id": "3650"
                                },
                                {
                                    "title": "NULL",
                                    "average_rating": "NULL",
                                    "books_count": "NULL",
                                    "user_id": "9",
                                    "book_id": "5286"
                                },
                                {
                                    "title": "NULL",
                                    "average_rating": "NULL",
                                    "books_count": "NULL",
                                    "user_id": "9",
                                    "book_id": "6636"
                                },
                                {
                                    "title": "Harry Potter and the Goblet of Fire (Harry Potter, #4)",
                                    "average_rating": "4.53",
                                    "books_count": "332",
                                    "user_id": "10",
                                    "book_id": "6"
                                },
                                {
                                    "title": "NULL",
                                    "average_rating": "NULL",
                                    "books_count": "NULL",
                                    "user_id": "10",
                                    "book_id": "385"
                                },
                                {
                                    "title": "Atlas Shrugged",
                                    "average_rating": "3.68",
                                    "books_count": "147",
                                    "user_id": "10",
                                    "book_id": "662"
                                },
                                {
                                    "title": "NULL",
                                    "average_rating": "NULL",
                                    "books_count": "NULL",
                                    "user_id": "10",
                                    "book_id": "896"
                                },
                                {
                                    "title": "NULL",
                                    "average_rating": "NULL",
                                    "books_count": "NULL",
                                    "user_id": "10",
                                    "book_id": "1076"
                                },
                                {
                                    "title": "NULL",
                                    "average_rating": "NULL",
                                    "books_count": "NULL",
                                    "user_id": "10",
                                    "book_id": "1082"
                                },
                                {
                                    "title": "NULL",
                                    "average_rating": "NULL",
                                    "books_count": "NULL",
                                    "user_id": "10",
                                    "book_id": "1220"
                                },
                                {
                                    "title": "NULL",
                                    "average_rating": "NULL",
                                    "books_count": "NULL",
                                    "user_id": "10",
                                    "book_id": "1281"
                                },
                                {
                                    "title": "NULL",
                                    "average_rating": "NULL",
                                    "books_count": "NULL",
                                    "user_id": "10",
                                    "book_id": "1439"
                                },
                                {
                                    "title": "NULL",
                                    "average_rating": "NULL",
                                    "books_count": "NULL",
                                    "user_id": "10",
                                    "book_id": "1851"
                                },
                                {
                                    "title": "NULL",
                                    "average_rating": "NULL",
                                    "books_count": "NULL",
                                    "user_id": "10",
                                    "book_id": "1920"
                                },
                                {
                                    "title": "NULL",
                                    "average_rating": "NULL",
                                    "books_count": "NULL",
                                    "user_id": "10",
                                    "book_id": "2441"
                                },
                                {
                                    "title": "NULL",
                                    "average_rating": "NULL",
                                    "books_count": "NULL",
                                    "user_id": "10",
                                    "book_id": "2570"
                                },
                                {
                                    "title": "NULL",
                                    "average_rating": "NULL",
                                    "books_count": "NULL",
                                    "user_id": "10",
                                    "book_id": "2616"
                                },
                                {
                                    "title": "NULL",
                                    "average_rating": "NULL",
                                    "books_count": "NULL",
                                    "user_id": "10",
                                    "book_id": "3059"
                                },
                                {
                                    "title": "NULL",
                                    "average_rating": "NULL",
                                    "books_count": "NULL",
                                    "user_id": "10",
                                    "book_id": "3545"
                                },
                                {
                                    "title": "NULL",
                                    "average_rating": "NULL",
                                    "books_count": "NULL",
                                    "user_id": "10",
                                    "book_id": "3961"
                                },
                                {
                                    "title": "NULL",
                                    "average_rating": "NULL",
                                    "books_count": "NULL",
                                    "user_id": "10",
                                    "book_id": "4369"
                                },
                                {
                                    "title": "NULL",
                                    "average_rating": "NULL",
                                    "books_count": "NULL",
                                    "user_id": "10",
                                    "book_id": "4510"
                                },
                                {
                                    "title": "NULL",
                                    "average_rating": "NULL",
                                    "books_count": "NULL",
                                    "user_id": "10",
                                    "book_id": "5104"
                                },
                                {
                                    "title": "NULL",
                                    "average_rating": "NULL",
                                    "books_count": "NULL",
                                    "user_id": "10",
                                    "book_id": "5254"
                                },
                                {
                                    "title": "NULL",
                                    "average_rating": "NULL",
                                    "books_count": "NULL",
                                    "user_id": "10",
                                    "book_id": "5556"
                                },
                                {
                                    "title": "NULL",
                                    "average_rating": "NULL",
                                    "books_count": "NULL",
                                    "user_id": "10",
                                    "book_id": "6114"
                                },
                                {
                                    "title": "NULL",
                                    "average_rating": "NULL",
                                    "books_count": "NULL",
                                    "user_id": "10",
                                    "book_id": "6917"
                                },
                                {
                                    "title": "NULL",
                                    "average_rating": "NULL",
                                    "books_count": "NULL",
                                    "user_id": "10",
                                    "book_id": "7545"
                                },
                                {
                                    "title": "NULL",
                                    "average_rating": "NULL",
                                    "books_count": "NULL",
                                    "user_id": "10",
                                    "book_id": "7842"
                                },
                                {
                                    "title": "NULL",
                                    "average_rating": "NULL",
                                    "books_count": "NULL",
                                    "user_id": "11",
                                    "book_id": "3643"
                                },
                                {
                                    "title": "Harry Potter and the Half-Blood Prince (Harry Potter, #6)",
                                    "average_rating": "4.54",
                                    "books_count": "275",
                                    "user_id": "12",
                                    "book_id": "1"
                                },
                                {
                                    "title": "NULL",
                                    "average_rating": "NULL",
                                    "books_count": "NULL",
                                    "user_id": "12",
                                    "book_id": "124"
                                },
                                {
                                    "title": "NULL",
                                    "average_rating": "NULL",
                                    "books_count": "NULL",
                                    "user_id": "12",
                                    "book_id": "1471"
                                },
                                {
                                    "title": "NULL",
                                    "average_rating": "NULL",
                                    "books_count": "NULL",
                                    "user_id": "12",
                                    "book_id": "2893"
                                },
                                {
                                    "title": "NULL",
                                    "average_rating": "NULL",
                                    "books_count": "NULL",
                                    "user_id": "13",
                                    "book_id": "81"
                                },
                                {
                                    "title": "NULL",
                                    "average_rating": "NULL",
                                    "books_count": "NULL",
                                    "user_id": "13",
                                    "book_id": "277"
                                },
                                {
                                    "title": "NULL",
                                    "average_rating": "NULL",
                                    "books_count": "NULL",
                                    "user_id": "13",
                                    "book_id": "318"
                                },
                                {
                                    "title": "NULL",
                                    "average_rating": "NULL",
                                    "books_count": "NULL",
                                    "user_id": "13",
                                    "book_id": "430"
                                },
                                {
                                    "title": "NULL",
                                    "average_rating": "NULL",
                                    "books_count": "NULL",
                                    "user_id": "13",
                                    "book_id": "437"
                                },
                                {
                                    "title": "NULL",
                                    "average_rating": "NULL",
                                    "books_count": "NULL",
                                    "user_id": "13",
                                    "book_id": "551"
                                },
                                {
                                    "title": "NULL",
                                    "average_rating": "NULL",
                                    "books_count": "NULL",
                                    "user_id": "13",
                                    "book_id": "560"
                                },
                                {
                                    "title": "NULL",
                                    "average_rating": "NULL",
                                    "books_count": "NULL",
                                    "user_id": "13",
                                    "book_id": "610"
                                },
                                {
                                    "title": "NULL",
                                    "average_rating": "NULL",
                                    "books_count": "NULL",
                                    "user_id": "13",
                                    "book_id": "678"
                                },
                                {
                                    "title": "NULL",
                                    "average_rating": "NULL",
                                    "books_count": "NULL",
                                    "user_id": "13",
                                    "book_id": "979"
                                },
                                {
                                    "title": "NULL",
                                    "average_rating": "NULL",
                                    "books_count": "NULL",
                                    "user_id": "13",
                                    "book_id": "1082"
                                },
                                {
                                    "title": "NULL",
                                    "average_rating": "NULL",
                                    "books_count": "NULL",
                                    "user_id": "13",
                                    "book_id": "1464"
                                },
                                {
                                    "title": "NULL",
                                    "average_rating": "NULL",
                                    "books_count": "NULL",
                                    "user_id": "13",
                                    "book_id": "1577"
                                },
                                {
                                    "title": "NULL",
                                    "average_rating": "NULL",
                                    "books_count": "NULL",
                                    "user_id": "13",
                                    "book_id": "2018"
                                },
                                {
                                    "title": "NULL",
                                    "average_rating": "NULL",
                                    "books_count": "NULL",
                                    "user_id": "13",
                                    "book_id": "2418"
                                },
                                {
                                    "title": "NULL",
                                    "average_rating": "NULL",
                                    "books_count": "NULL",
                                    "user_id": "13",
                                    "book_id": "3257"
                                },
                                {
                                    "title": "NULL",
                                    "average_rating": "NULL",
                                    "books_count": "NULL",
                                    "user_id": "13",
                                    "book_id": "4212"
                                },
                                {
                                    "title": "NULL",
                                    "average_rating": "NULL",
                                    "books_count": "NULL",
                                    "user_id": "13",
                                    "book_id": "4635"
                                },
                                {
                                    "title": "NULL",
                                    "average_rating": "NULL",
                                    "books_count": "NULL",
                                    "user_id": "13",
                                    "book_id": "4704"
                                },
                                {
                                    "title": "NULL",
                                    "average_rating": "NULL",
                                    "books_count": "NULL",
                                    "user_id": "13",
                                    "book_id": "4734"
                                },
                                {
                                    "title": "NULL",
                                    "average_rating": "NULL",
                                    "books_count": "NULL",
                                    "user_id": "13",
                                    "book_id": "4841"
                                },
                                {
                                    "title": "NULL",
                                    "average_rating": "NULL",
                                    "books_count": "NULL",
                                    "user_id": "13",
                                    "book_id": "4848"
                                },
                                {
                                    "title": "NULL",
                                    "average_rating": "NULL",
                                    "books_count": "NULL",
                                    "user_id": "13",
                                    "book_id": "4856"
                                },
                                {
                                    "title": "NULL",
                                    "average_rating": "NULL",
                                    "books_count": "NULL",
                                    "user_id": "13",
                                    "book_id": "4928"
                                },
                                {
                                    "title": "NULL",
                                    "average_rating": "NULL",
                                    "books_count": "NULL",
                                    "user_id": "13",
                                    "book_id": "6114"
                                },
                                {
                                    "title": "NULL",
                                    "average_rating": "NULL",
                                    "books_count": "NULL",
                                    "user_id": "13",
                                    "book_id": "6793"
                                },
                                {
                                    "title": "NULL",
                                    "average_rating": "NULL",
                                    "books_count": "NULL",
                                    "user_id": "13",
                                    "book_id": "6962"
                                },
                                {
                                    "title": "NULL",
                                    "average_rating": "NULL",
                                    "books_count": "NULL",
                                    "user_id": "13",
                                    "book_id": "8717"
                                },
                                {
                                    "title": "NULL",
                                    "average_rating": "NULL",
                                    "books_count": "NULL",
                                    "user_id": "14",
                                    "book_id": "493"
                                },
                                {
                                    "title": "NULL",
                                    "average_rating": "NULL",
                                    "books_count": "NULL",
                                    "user_id": "14",
                                    "book_id": "1179"
                                },
                                {
                                    "title": "NULL",
                                    "average_rating": "NULL",
                                    "books_count": "NULL",
                                    "user_id": "14",
                                    "book_id": "2693"
                                },
                                {
                                    "title": "Sherlock Holmes: The Complete Novels and Stories, Volume I",
                                    "average_rating": "4.45",
                                    "books_count": "13",
                                    "user_id": "14",
                                    "book_id": "3581"
                                },
                                {
                                    "title": "NULL",
                                    "average_rating": "NULL",
                                    "books_count": "NULL",
                                    "user_id": "14",
                                    "book_id": "3683"
                                },
                                {
                                    "title": "NULL",
                                    "average_rating": "NULL",
                                    "books_count": "NULL",
                                    "user_id": "14",
                                    "book_id": "3953"
                                },
                                {
                                    "title": "NULL",
                                    "average_rating": "NULL",
                                    "books_count": "NULL",
                                    "user_id": "14",
                                    "book_id": "4220"
                                },
                                {
                                    "title": "NULL",
                                    "average_rating": "NULL",
                                    "books_count": "NULL",
                                    "user_id": "14",
                                    "book_id": "5076"
                                },
                                {
                                    "title": "NULL",
                                    "average_rating": "NULL",
                                    "books_count": "NULL",
                                    "user_id": "14",
                                    "book_id": "5537"
                                },
                                {
                                    "title": "NULL",
                                    "average_rating": "NULL",
                                    "books_count": "NULL",
                                    "user_id": "14",
                                    "book_id": "7777"
                                },
                                {
                                    "title": "NULL",
                                    "average_rating": "NULL",
                                    "books_count": "NULL",
                                    "user_id": "15",
                                    "book_id": "191"
                                },
                                {
                                    "title": "The Lover",
                                    "average_rating": "3.76",
                                    "books_count": "148",
                                    "user_id": "15",
                                    "book_id": "275"
                                },
                                {
                                    "title": "NULL",
                                    "average_rating": "NULL",
                                    "books_count": "NULL",
                                    "user_id": "15",
                                    "book_id": "398"
                                },
                                {
                                    "title": "NULL",
                                    "average_rating": "NULL",
                                    "books_count": "NULL",
                                    "user_id": "15",
                                    "book_id": "666"
                                },
                                {
                                    "title": "NULL",
                                    "average_rating": "NULL",
                                    "books_count": "NULL",
                                    "user_id": "15",
                                    "book_id": "1491"
                                },
                                {
                                    "title": "NULL",
                                    "average_rating": "NULL",
                                    "books_count": "NULL",
                                    "user_id": "15",
                                    "book_id": "5210"
                                },
                                {
                                    "title": "NULL",
                                    "average_rating": "NULL",
                                    "books_count": "NULL",
                                    "user_id": "17",
                                    "book_id": "1344"
                                },
                                {
                                    "title": "The Good Soldier",
                                    "average_rating": "3.72",
                                    "books_count": "362",
                                    "user_id": "20",
                                    "book_id": "7628"
                                },
                                {
                                    "title": "NULL",
                                    "average_rating": "NULL",
                                    "books_count": "NULL",
                                    "user_id": "22",
                                    "book_id": "653"
                                },
                                {
                                    "title": "NULL",
                                    "average_rating": "NULL",
                                    "books_count": "NULL",
                                    "user_id": "22",
                                    "book_id": "1403"
                                },
                                {
                                    "title": "NULL",
                                    "average_rating": "NULL",
                                    "books_count": "NULL",
                                    "user_id": "22",
                                    "book_id": "1405"
                                },
                                {
                                    "title": "NULL",
                                    "average_rating": "NULL",
                                    "books_count": "NULL",
                                    "user_id": "22",
                                    "book_id": "1645"
                                },
                                {
                                    "title": "NULL",
                                    "average_rating": "NULL",
                                    "books_count": "NULL",
                                    "user_id": "22",
                                    "book_id": "2500"
                                },
                                {
                                    "title": "NULL",
                                    "average_rating": "NULL",
                                    "books_count": "NULL",
                                    "user_id": "22",
                                    "book_id": "2691"
                                },
                                {
                                    "title": "NULL",
                                    "average_rating": "NULL",
                                    "books_count": "NULL",
                                    "user_id": "22",
                                    "book_id": "4995"
                                },
                                {
                                    "title": "NULL",
                                    "average_rating": "NULL",
                                    "books_count": "NULL",
                                    "user_id": "23",
                                    "book_id": "273"
                                },
                                {
                                    "title": "NULL",
                                    "average_rating": "NULL",
                                    "books_count": "NULL",
                                    "user_id": "23",
                                    "book_id": "459"
                                },
                                {
                                    "title": "NULL",
                                    "average_rating": "NULL",
                                    "books_count": "NULL",
                                    "user_id": "23",
                                    "book_id": "791"
                                },
                                {
                                    "title": "NULL",
                                    "average_rating": "NULL",
                                    "books_count": "NULL",
                                    "user_id": "23",
                                    "book_id": "886"
                                },
                                {
                                    "title": "NULL",
                                    "average_rating": "NULL",
                                    "books_count": "NULL",
                                    "user_id": "23",
                                    "book_id": "925"
                                },
                                {
                                    "title": "NULL",
                                    "average_rating": "NULL",
                                    "books_count": "NULL",
                                    "user_id": "23",
                                    "book_id": "1198"
                                },
                                {
                                    "title": "NULL",
                                    "average_rating": "NULL",
                                    "books_count": "NULL",
                                    "user_id": "23",
                                    "book_id": "1597"
                                },
                                {
                                    "title": "NULL",
                                    "average_rating": "NULL",
                                    "books_count": "NULL",
                                    "user_id": "23",
                                    "book_id": "1688"
                                },
                                {
                                    "title": "NULL",
                                    "average_rating": "NULL",
                                    "books_count": "NULL",
                                    "user_id": "23",
                                    "book_id": "2251"
                                },
                                {
                                    "title": "NULL",
                                    "average_rating": "NULL",
                                    "books_count": "NULL",
                                    "user_id": "23",
                                    "book_id": "2350"
                                },
                                {
                                    "title": "NULL",
                                    "average_rating": "NULL",
                                    "books_count": "NULL",
                                    "user_id": "23",
                                    "book_id": "2613"
                                },
                                {
                                    "title": "NULL",
                                    "average_rating": "NULL",
                                    "books_count": "NULL",
                                    "user_id": "23",
                                    "book_id": "3312"
                                },
                                {
                                    "title": "NULL",
                                    "average_rating": "NULL",
                                    "books_count": "NULL",
                                    "user_id": "23",
                                    "book_id": "3343"
                                },
                                {
                                    "title": "NULL",
                                    "average_rating": "NULL",
                                    "books_count": "NULL",
                                    "user_id": "24",
                                    "book_id": "61"
                                },
                                {
                                    "title": "NULL",
                                    "average_rating": "NULL",
                                    "books_count": "NULL",
                                    "user_id": "24",
                                    "book_id": "143"
                                },
                                {
                                    "title": "NULL",
                                    "average_rating": "NULL",
                                    "books_count": "NULL",
                                    "user_id": "24",
                                    "book_id": "421"
                                },
                                {
                                    "title": "NULL",
                                    "average_rating": "NULL",
                                    "books_count": "NULL",
                                    "user_id": "24",
                                    "book_id": "467"
                                },
                                {
                                    "title": "NULL",
                                    "average_rating": "NULL",
                                    "books_count": "NULL",
                                    "user_id": "24",
                                    "book_id": "974"
                                },
                                {
                                    "title": "NULL",
                                    "average_rating": "NULL",
                                    "books_count": "NULL",
                                    "user_id": "26",
                                    "book_id": "508"
                                },
                                {
                                    "title": "NULL",
                                    "average_rating": "NULL",
                                    "books_count": "NULL",
                                    "user_id": "26",
                                    "book_id": "1796"
                                },
                                {
                                    "title": "NULL",
                                    "average_rating": "NULL",
                                    "books_count": "NULL",
                                    "user_id": "26",
                                    "book_id": "2257"
                                },
                                {
                                    "title": "NULL",
                                    "average_rating": "NULL",
                                    "books_count": "NULL",
                                    "user_id": "26",
                                    "book_id": "2314"
                                },
                                {
                                    "title": "NULL",
                                    "average_rating": "NULL",
                                    "books_count": "NULL",
                                    "user_id": "26",
                                    "book_id": "2357"
                                },
                                {
                                    "title": "NULL",
                                    "average_rating": "NULL",
                                    "books_count": "NULL",
                                    "user_id": "26",
                                    "book_id": "2738"
                                },
                                {
                                    "title": "NULL",
                                    "average_rating": "NULL",
                                    "books_count": "NULL",
                                    "user_id": "26",
                                    "book_id": "2810"
                                },
                                {
                                    "title": "NULL",
                                    "average_rating": "NULL",
                                    "books_count": "NULL",
                                    "user_id": "26",
                                    "book_id": "3207"
                                },
                                {
                                    "title": "The Thorn Birds",
                                    "average_rating": "4.22",
                                    "books_count": "201",
                                    "user_id": "26",
                                    "book_id": "3412"
                                },
                                {
                                    "title": "The Complete Sherlock Holmes, Vol 2",
                                    "average_rating": "4.46",
                                    "books_count": "117",
                                    "user_id": "26",
                                    "book_id": "3586"
                                },
                                {
                                    "title": "The Dark Tower (The Dark Tower, #7)",
                                    "average_rating": "4.27",
                                    "books_count": "105",
                                    "user_id": "26",
                                    "book_id": "5091"
                                },
                                {
                                    "title": "NULL",
                                    "average_rating": "NULL",
                                    "books_count": "NULL",
                                    "user_id": "26",
                                    "book_id": "5550"
                                },
                                {
                                    "title": "NULL",
                                    "average_rating": "NULL",
                                    "books_count": "NULL",
                                    "user_id": "26",
                                    "book_id": "6877"
                                },
                                {
                                    "title": "NULL",
                                    "average_rating": "NULL",
                                    "books_count": "NULL",
                                    "user_id": "26",
                                    "book_id": "7970"
                                },
                                {
                                    "title": "NULL",
                                    "average_rating": "NULL",
                                    "books_count": "NULL",
                                    "user_id": "28",
                                    "book_id": "265"
                                },
                                {
                                    "title": "NULL",
                                    "average_rating": "NULL",
                                    "books_count": "NULL",
                                    "user_id": "28",
                                    "book_id": "587"
                                },
                                {
                                    "title": "NULL",
                                    "average_rating": "NULL",
                                    "books_count": "NULL",
                                    "user_id": "28",
                                    "book_id": "3543"
                                },
                                {
                                    "title": "NULL",
                                    "average_rating": "NULL",
                                    "books_count": "NULL",
                                    "user_id": "28",
                                    "book_id": "5215"
                                },
                                {
                                    "title": "NULL",
                                    "average_rating": "NULL",
                                    "books_count": "NULL",
                                    "user_id": "28",
                                    "book_id": "7496"
                                },
                                {
                                    "title": "NULL",
                                    "average_rating": "NULL",
                                    "books_count": "NULL",
                                    "user_id": "28",
                                    "book_id": "8654"
                                },
                                {
                                    "title": "NULL",
                                    "average_rating": "NULL",
                                    "books_count": "NULL",
                                    "user_id": "29",
                                    "book_id": "31"
                                },
                                {
                                    "title": "NULL",
                                    "average_rating": "NULL",
                                    "books_count": "NULL",
                                    "user_id": "29",
                                    "book_id": "32"
                                },
                                {
                                    "title": "The Lord of the Rings: Weapons and Warfare",
                                    "average_rating": "4.53",
                                    "books_count": "12",
                                    "user_id": "29",
                                    "book_id": "36"
                                },
                                {
                                    "title": "NULL",
                                    "average_rating": "NULL",
                                    "books_count": "NULL",
                                    "user_id": "29",
                                    "book_id": "45"
                                },
                                {
                                    "title": "NULL",
                                    "average_rating": "NULL",
                                    "books_count": "NULL",
                                    "user_id": "29",
                                    "book_id": "65"
                                },
                                {
                                    "title": "NULL",
                                    "average_rating": "NULL",
                                    "books_count": "NULL",
                                    "user_id": "29",
                                    "book_id": "87"
                                },
                                {
                                    "title": "NULL",
                                    "average_rating": "NULL",
                                    "books_count": "NULL",
                                    "user_id": "29",
                                    "book_id": "115"
                                },
                                {
                                    "title": "NULL",
                                    "average_rating": "NULL",
                                    "books_count": "NULL",
                                    "user_id": "29",
                                    "book_id": "121"
                                },
                                {
                                    "title": "NULL",
                                    "average_rating": "NULL",
                                    "books_count": "NULL",
                                    "user_id": "29",
                                    "book_id": "131"
                                },
                                {
                                    "title": "NULL",
                                    "average_rating": "NULL",
                                    "books_count": "NULL",
                                    "user_id": "29",
                                    "book_id": "178"
                                },
                                {
                                    "title": "NULL",
                                    "average_rating": "NULL",
                                    "books_count": "NULL",
                                    "user_id": "29",
                                    "book_id": "256"
                                },
                                {
                                    "title": "NULL",
                                    "average_rating": "NULL",
                                    "books_count": "NULL",
                                    "user_id": "29",
                                    "book_id": "323"
                                },
                                {
                                    "title": "Slouching Towards Bethlehem",
                                    "average_rating": "4.24",
                                    "books_count": "34",
                                    "user_id": "29",
                                    "book_id": "424"
                                },
                                {
                                    "title": "NULL",
                                    "average_rating": "NULL",
                                    "books_count": "NULL",
                                    "user_id": "29",
                                    "book_id": "467"
                                },
                                {
                                    "title": "NULL",
                                    "average_rating": "NULL",
                                    "books_count": "NULL",
                                    "user_id": "29",
                                    "book_id": "550"
                                },
                                {
                                    "title": "NULL",
                                    "average_rating": "NULL",
                                    "books_count": "NULL",
                                    "user_id": "29",
                                    "book_id": "618"
                                },
                                {
                                    "title": "Atlas Shrugged",
                                    "average_rating": "3.68",
                                    "books_count": "147",
                                    "user_id": "29",
                                    "book_id": "662"
                                },
                                {
                                    "title": "NULL",
                                    "average_rating": "NULL",
                                    "books_count": "NULL",
                                    "user_id": "29",
                                    "book_id": "709"
                                },
                                {
                                    "title": "NULL",
                                    "average_rating": "NULL",
                                    "books_count": "NULL",
                                    "user_id": "29",
                                    "book_id": "730"
                                },
                                {
                                    "title": "NULL",
                                    "average_rating": "NULL",
                                    "books_count": "NULL",
                                    "user_id": "29",
                                    "book_id": "771"
                                },
                                {
                                    "title": "NULL",
                                    "average_rating": "NULL",
                                    "books_count": "NULL",
                                    "user_id": "29",
                                    "book_id": "809"
                                },
                                {
                                    "title": "NULL",
                                    "average_rating": "NULL",
                                    "books_count": "NULL",
                                    "user_id": "29",
                                    "book_id": "934"
                                },
                                {
                                    "title": "NULL",
                                    "average_rating": "NULL",
                                    "books_count": "NULL",
                                    "user_id": "29",
                                    "book_id": "1084"
                                },
                                {
                                    "title": "NULL",
                                    "average_rating": "NULL",
                                    "books_count": "NULL",
                                    "user_id": "29",
                                    "book_id": "1364"
                                },
                                {
                                    "title": "NULL",
                                    "average_rating": "NULL",
                                    "books_count": "NULL",
                                    "user_id": "29",
                                    "book_id": "1642"
                                },
                                {
                                    "title": "NULL",
                                    "average_rating": "NULL",
                                    "books_count": "NULL",
                                    "user_id": "29",
                                    "book_id": "1695"
                                },
                                {
                                    "title": "NULL",
                                    "average_rating": "NULL",
                                    "books_count": "NULL",
                                    "user_id": "29",
                                    "book_id": "2259"
                                },
                                {
                                    "title": "NULL",
                                    "average_rating": "NULL",
                                    "books_count": "NULL",
                                    "user_id": "29",
                                    "book_id": "2284"
                                },
                                {
                                    "title": "NULL",
                                    "average_rating": "NULL",
                                    "books_count": "NULL",
                                    "user_id": "29",
                                    "book_id": "2304"
                                },
                                {
                                    "title": "NULL",
                                    "average_rating": "NULL",
                                    "books_count": "NULL",
                                    "user_id": "29",
                                    "book_id": "2967"
                                },
                                {
                                    "title": "NULL",
                                    "average_rating": "NULL",
                                    "books_count": "NULL",
                                    "user_id": "29",
                                    "book_id": "3508"
                                },
                                {
                                    "title": "NULL",
                                    "average_rating": "NULL",
                                    "books_count": "NULL",
                                    "user_id": "29",
                                    "book_id": "4359"
                                },
                                {
                                    "title": "NULL",
                                    "average_rating": "NULL",
                                    "books_count": "NULL",
                                    "user_id": "29",
                                    "book_id": "4394"
                                },
                                {
                                    "title": "NULL",
                                    "average_rating": "NULL",
                                    "books_count": "NULL",
                                    "user_id": "29",
                                    "book_id": "4475"
                                },
                                {
                                    "title": "NULL",
                                    "average_rating": "NULL",
                                    "books_count": "NULL",
                                    "user_id": "29",
                                    "book_id": "4629"
                                },
                                {
                                    "title": "NULL",
                                    "average_rating": "NULL",
                                    "books_count": "NULL",
                                    "user_id": "29",
                                    "book_id": "5090"
                                },
                                {
                                    "title": "NULL",
                                    "average_rating": "NULL",
                                    "books_count": "NULL",
                                    "user_id": "29",
                                    "book_id": "5596"
                                },
                                {
                                    "title": "NULL",
                                    "average_rating": "NULL",
                                    "books_count": "NULL",
                                    "user_id": "29",
                                    "book_id": "5851"
                                },
                                {
                                    "title": "NULL",
                                    "average_rating": "NULL",
                                    "books_count": "NULL",
                                    "user_id": "29",
                                    "book_id": "6104"
                                },
                                {
                                    "title": "NULL",
                                    "average_rating": "NULL",
                                    "books_count": "NULL",
                                    "user_id": "30",
                                    "book_id": "47"
                                },
                                {
                                    "title": "The Known World",
                                    "average_rating": "3.82",
                                    "books_count": "42",
                                    "user_id": "30",
                                    "book_id": "67"
                                },
                                {
                                    "title": "NULL",
                                    "average_rating": "NULL",
                                    "books_count": "NULL",
                                    "user_id": "30",
                                    "book_id": "82"
                                },
                                {
                                    "title": "NULL",
                                    "average_rating": "NULL",
                                    "books_count": "NULL",
                                    "user_id": "30",
                                    "book_id": "121"
                                },
                                {
                                    "title": "NULL",
                                    "average_rating": "NULL",
                                    "books_count": "NULL",
                                    "user_id": "30",
                                    "book_id": "177"
                                },
                                {
                                    "title": "Tropic of Cancer",
                                    "average_rating": "3.71",
                                    "books_count": "205",
                                    "user_id": "30",
                                    "book_id": "249"
                                },
                                {
                                    "title": "NULL",
                                    "average_rating": "NULL",
                                    "books_count": "NULL",
                                    "user_id": "30",
                                    "book_id": "297"
                                },
                                {
                                    "title": "NULL",
                                    "average_rating": "NULL",
                                    "books_count": "NULL",
                                    "user_id": "30",
                                    "book_id": "407"
                                },
                                {
                                    "title": "NULL",
                                    "average_rating": "NULL",
                                    "books_count": "NULL",
                                    "user_id": "30",
                                    "book_id": "426"
                                },
                                {
                                    "title": "NULL",
                                    "average_rating": "NULL",
                                    "books_count": "NULL",
                                    "user_id": "30",
                                    "book_id": "430"
                                },
                                {
                                    "title": "NULL",
                                    "average_rating": "NULL",
                                    "books_count": "NULL",
                                    "user_id": "30",
                                    "book_id": "442"
                                },
                                {
                                    "title": "NULL",
                                    "average_rating": "NULL",
                                    "books_count": "NULL",
                                    "user_id": "30",
                                    "book_id": "516"
                                },
                                {
                                    "title": "NULL",
                                    "average_rating": "NULL",
                                    "books_count": "NULL",
                                    "user_id": "30",
                                    "book_id": "658"
                                },
                                {
                                    "title": "NULL",
                                    "average_rating": "NULL",
                                    "books_count": "NULL",
                                    "user_id": "30",
                                    "book_id": "895"
                                },
                                {
                                    "title": "NULL",
                                    "average_rating": "NULL",
                                    "books_count": "NULL",
                                    "user_id": "30",
                                    "book_id": "1039"
                                },
                                {
                                    "title": "NULL",
                                    "average_rating": "NULL",
                                    "books_count": "NULL",
                                    "user_id": "30",
                                    "book_id": "1094"
                                },
                                {
                                    "title": "The Odyssey",
                                    "average_rating": "3.73",
                                    "books_count": "1703",
                                    "user_id": "30",
                                    "book_id": "1381"
                                },
                                {
                                    "title": "NULL",
                                    "average_rating": "NULL",
                                    "books_count": "NULL",
                                    "user_id": "30",
                                    "book_id": "2117"
                                },
                                {
                                    "title": "NULL",
                                    "average_rating": "NULL",
                                    "books_count": "NULL",
                                    "user_id": "30",
                                    "book_id": "2426"
                                },
                                {
                                    "title": "NULL",
                                    "average_rating": "NULL",
                                    "books_count": "NULL",
                                    "user_id": "30",
                                    "book_id": "3444"
                                },
                                {
                                    "title": "The Pilgrimage",
                                    "average_rating": "3.64",
                                    "books_count": "171",
                                    "user_id": "30",
                                    "book_id": "4004"
                                },
                                {
                                    "title": "NULL",
                                    "average_rating": "NULL",
                                    "books_count": "NULL",
                                    "user_id": "30",
                                    "book_id": "4202"
                                },
                                {
                                    "title": "NULL",
                                    "average_rating": "NULL",
                                    "books_count": "NULL",
                                    "user_id": "30",
                                    "book_id": "4509"
                                },
                                {
                                    "title": "NULL",
                                    "average_rating": "NULL",
                                    "books_count": "NULL",
                                    "user_id": "30",
                                    "book_id": "5880"
                                },
                                {
                                    "title": "The Hobbit",
                                    "average_rating": "4.25",
                                    "books_count": "969",
                                    "user_id": "30",
                                    "book_id": "5907"
                                },
                                {
                                    "title": "NULL",
                                    "average_rating": "NULL",
                                    "books_count": "NULL",
                                    "user_id": "30",
                                    "book_id": "6828"
                                },
                                {
                                    "title": "NULL",
                                    "average_rating": "NULL",
                                    "books_count": "NULL",
                                    "user_id": "30",
                                    "book_id": "7563"
                                },
                                {
                                    "title": "NULL",
                                    "average_rating": "NULL",
                                    "books_count": "NULL",
                                    "user_id": "30",
                                    "book_id": "8737"
                                },
                                {
                                    "title": "NULL",
                                    "average_rating": "NULL",
                                    "books_count": "NULL",
                                    "user_id": "31",
                                    "book_id": "94"
                                },
                                {
                                    "title": "NULL",
                                    "average_rating": "NULL",
                                    "books_count": "NULL",
                                    "user_id": "31",
                                    "book_id": "584"
                                }
                            ]
                        },
                        "text/html": [
                            "<table>",
                            "<tr><th>title</th><th>average_rating</th><th>books_count</th><th>user_id</th><th>book_id</th></tr>",
                            "<tr><td>Children of Dune (Dune Chronicles #3)</td><td>3.9</td><td>116</td><td>1</td><td>112</td></tr>",
                            "<tr><td>NULL</td><td>NULL</td><td>NULL</td><td>1</td><td>235</td></tr>",
                            "<tr><td>NULL</td><td>NULL</td><td>NULL</td><td>1</td><td>533</td></tr>",
                            "<tr><td>NULL</td><td>NULL</td><td>NULL</td><td>1</td><td>1198</td></tr>",
                            "<tr><td>NULL</td><td>NULL</td><td>NULL</td><td>1</td><td>1874</td></tr>",
                            "<tr><td>NULL</td><td>NULL</td><td>NULL</td><td>1</td><td>2058</td></tr>",
                            "<tr><td>NULL</td><td>NULL</td><td>NULL</td><td>1</td><td>3334</td></tr>",
                            "<tr><td>NULL</td><td>NULL</td><td>NULL</td><td>2</td><td>4</td></tr>",
                            "<tr><td>NULL</td><td>NULL</td><td>NULL</td><td>2</td><td>11</td></tr>",
                            "<tr><td>The Ultimate Hitchhiker's Guide to the Galaxy</td><td>4.37</td><td>32</td><td>2</td><td>13</td></tr>",
                            "<tr><td>NULL</td><td>NULL</td><td>NULL</td><td>2</td><td>16</td></tr>",
                            "<tr><td>NULL</td><td>NULL</td><td>NULL</td><td>2</td><td>92</td></tr>",
                            "<tr><td>Dune Messiah (Dune Chronicles #2)</td><td>3.86</td><td>140</td><td>2</td><td>106</td></tr>",
                            "<tr><td>NULL</td><td>NULL</td><td>NULL</td><td>2</td><td>113</td></tr>",
                            "<tr><td>NULL</td><td>NULL</td><td>NULL</td><td>2</td><td>233</td></tr>",
                            "<tr><td>NULL</td><td>NULL</td><td>NULL</td><td>2</td><td>247</td></tr>",
                            "<tr><td>NULL</td><td>NULL</td><td>NULL</td><td>2</td><td>380</td></tr>",
                            "<tr><td>NULL</td><td>NULL</td><td>NULL</td><td>2</td><td>408</td></tr>",
                            "<tr><td>NULL</td><td>NULL</td><td>NULL</td><td>2</td><td>439</td></tr>",
                            "<tr><td>NULL</td><td>NULL</td><td>NULL</td><td>2</td><td>479</td></tr>",
                            "<tr><td>NULL</td><td>NULL</td><td>NULL</td><td>2</td><td>516</td></tr>",
                            "<tr><td>NULL</td><td>NULL</td><td>NULL</td><td>2</td><td>619</td></tr>",
                            "<tr><td>NULL</td><td>NULL</td><td>NULL</td><td>2</td><td>1069</td></tr>",
                            "<tr><td>The Iliad</td><td>3.83</td><td>1726</td><td>2</td><td>1371</td></tr>",
                            "<tr><td>NULL</td><td>NULL</td><td>NULL</td><td>2</td><td>1384</td></tr>",
                            "<tr><td>NULL</td><td>NULL</td><td>NULL</td><td>2</td><td>1597</td></tr>",
                            "<tr><td>NULL</td><td>NULL</td><td>NULL</td><td>2</td><td>1926</td></tr>",
                            "<tr><td>NULL</td><td>NULL</td><td>NULL</td><td>2</td><td>1967</td></tr>",
                            "<tr><td>NULL</td><td>NULL</td><td>NULL</td><td>2</td><td>1969</td></tr>",
                            "<tr><td>NULL</td><td>NULL</td><td>NULL</td><td>2</td><td>2220</td></tr>",
                            "<tr><td>NULL</td><td>NULL</td><td>NULL</td><td>2</td><td>2388</td></tr>",
                            "<tr><td>NULL</td><td>NULL</td><td>NULL</td><td>2</td><td>3222</td></tr>",
                            "<tr><td>NULL</td><td>NULL</td><td>NULL</td><td>2</td><td>3227</td></tr>",
                            "<tr><td>NULL</td><td>NULL</td><td>NULL</td><td>2</td><td>3733</td></tr>",
                            "<tr><td>NULL</td><td>NULL</td><td>NULL</td><td>2</td><td>5418</td></tr>",
                            "<tr><td>NULL</td><td>NULL</td><td>NULL</td><td>2</td><td>6937</td></tr>",
                            "<tr><td>NULL</td><td>NULL</td><td>NULL</td><td>2</td><td>7146</td></tr>",
                            "<tr><td>NULL</td><td>NULL</td><td>NULL</td><td>2</td><td>7873</td></tr>",
                            "<tr><td>NULL</td><td>NULL</td><td>NULL</td><td>2</td><td>8417</td></tr>",
                            "<tr><td>Harry Potter Collection (Harry Potter, #1-6)</td><td>4.73</td><td>6</td><td>3</td><td>10</td></tr>",
                            "<tr><td>NULL</td><td>NULL</td><td>NULL</td><td>3</td><td>66</td></tr>",
                            "<tr><td>NULL</td><td>NULL</td><td>NULL</td><td>3</td><td>233</td></tr>",
                            "<tr><td>NULL</td><td>NULL</td><td>NULL</td><td>3</td><td>726</td></tr>",
                            "<tr><td>NULL</td><td>NULL</td><td>NULL</td><td>3</td><td>932</td></tr>",
                            "<tr><td>NULL</td><td>NULL</td><td>NULL</td><td>3</td><td>1146</td></tr>",
                            "<tr><td>NULL</td><td>NULL</td><td>NULL</td><td>3</td><td>2439</td></tr>",
                            "<tr><td>NULL</td><td>NULL</td><td>NULL</td><td>3</td><td>3566</td></tr>",
                            "<tr><td>NULL</td><td>NULL</td><td>NULL</td><td>3</td><td>4582</td></tr>",
                            "<tr><td>NULL</td><td>NULL</td><td>NULL</td><td>3</td><td>5448</td></tr>",
                            "<tr><td>NULL</td><td>NULL</td><td>NULL</td><td>3</td><td>5765</td></tr>",
                            "<tr><td>NULL</td><td>NULL</td><td>NULL</td><td>3</td><td>6274</td></tr>",
                            "<tr><td>NULL</td><td>NULL</td><td>NULL</td><td>3</td><td>8403</td></tr>",
                            "<tr><td>NULL</td><td>NULL</td><td>NULL</td><td>5</td><td>31</td></tr>",
                            "<tr><td>The Virtue of Selfishness: A New Concept of Egoism</td><td>3.47</td><td>53</td><td>5</td><td>665</td></tr>",
                            "<tr><td>NULL</td><td>NULL</td><td>NULL</td><td>5</td><td>3074</td></tr>",
                            "<tr><td>Sherlock Holmes: The Complete Novels and Stories, Volume I</td><td>4.45</td><td>13</td><td>5</td><td>3581</td></tr>",
                            "<tr><td>NULL</td><td>NULL</td><td>NULL</td><td>6</td><td>64</td></tr>",
                            "<tr><td>NULL</td><td>NULL</td><td>NULL</td><td>6</td><td>459</td></tr>",
                            "<tr><td>NULL</td><td>NULL</td><td>NULL</td><td>6</td><td>619</td></tr>",
                            "<tr><td>NULL</td><td>NULL</td><td>NULL</td><td>6</td><td>649</td></tr>",
                            "<tr><td>NULL</td><td>NULL</td><td>NULL</td><td>6</td><td>687</td></tr>",
                            "<tr><td>NULL</td><td>NULL</td><td>NULL</td><td>6</td><td>874</td></tr>",
                            "<tr><td>The War of Art: Break Through the Blocks &amp; Win Your Inner Creative Battles</td><td>4.07</td><td>29</td><td>6</td><td>1319</td></tr>",
                            "<tr><td>NULL</td><td>NULL</td><td>NULL</td><td>6</td><td>1912</td></tr>",
                            "<tr><td>NULL</td><td>NULL</td><td>NULL</td><td>6</td><td>5269</td></tr>",
                            "<tr><td>NULL</td><td>NULL</td><td>NULL</td><td>6</td><td>5537</td></tr>",
                            "<tr><td>NULL</td><td>NULL</td><td>NULL</td><td>6</td><td>5820</td></tr>",
                            "<tr><td>NULL</td><td>NULL</td><td>NULL</td><td>6</td><td>6220</td></tr>",
                            "<tr><td>NULL</td><td>NULL</td><td>NULL</td><td>6</td><td>7480</td></tr>",
                            "<tr><td>Harry Potter Collection (Harry Potter, #1-6)</td><td>4.73</td><td>6</td><td>7</td><td>10</td></tr>",
                            "<tr><td>NULL</td><td>NULL</td><td>NULL</td><td>7</td><td>215</td></tr>",
                            "<tr><td>NULL</td><td>NULL</td><td>NULL</td><td>7</td><td>225</td></tr>",
                            "<tr><td>NULL</td><td>NULL</td><td>NULL</td><td>7</td><td>233</td></tr>",
                            "<tr><td>NULL</td><td>NULL</td><td>NULL</td><td>7</td><td>1322</td></tr>",
                            "<tr><td>NULL</td><td>NULL</td><td>NULL</td><td>7</td><td>3552</td></tr>",
                            "<tr><td>NULL</td><td>NULL</td><td>NULL</td><td>7</td><td>3720</td></tr>",
                            "<tr><td>NULL</td><td>NULL</td><td>NULL</td><td>7</td><td>4468</td></tr>",
                            "<tr><td>NULL</td><td>NULL</td><td>NULL</td><td>8</td><td>19</td></tr>",
                            "<tr><td>NULL</td><td>NULL</td><td>NULL</td><td>8</td><td>498</td></tr>",
                            "<tr><td>NULL</td><td>NULL</td><td>NULL</td><td>8</td><td>1357</td></tr>",
                            "<tr><td>NULL</td><td>NULL</td><td>NULL</td><td>8</td><td>2177</td></tr>",
                            "<tr><td>NULL</td><td>NULL</td><td>NULL</td><td>8</td><td>3930</td></tr>",
                            "<tr><td>The Pilgrimage</td><td>3.64</td><td>171</td><td>8</td><td>4004</td></tr>",
                            "<tr><td>NULL</td><td>NULL</td><td>NULL</td><td>8</td><td>8792</td></tr>",
                            "<tr><td>NULL</td><td>NULL</td><td>NULL</td><td>8</td><td>9304</td></tr>",
                            "<tr><td>Harry Potter Boxed Set, Books 1-5 (Harry Potter, #1-5)</td><td>4.77</td><td>11</td><td>9</td><td>8</td></tr>",
                            "<tr><td>Children of Dune (Dune Chronicles #3)</td><td>3.9</td><td>116</td><td>9</td><td>112</td></tr>",
                            "<tr><td>NULL</td><td>NULL</td><td>NULL</td><td>9</td><td>139</td></tr>",
                            "<tr><td>NULL</td><td>NULL</td><td>NULL</td><td>9</td><td>230</td></tr>",
                            "<tr><td>NULL</td><td>NULL</td><td>NULL</td><td>9</td><td>233</td></tr>",
                            "<tr><td>NULL</td><td>NULL</td><td>NULL</td><td>9</td><td>473</td></tr>",
                            "<tr><td>NULL</td><td>NULL</td><td>NULL</td><td>9</td><td>638</td></tr>",
                            "<tr><td>NULL</td><td>NULL</td><td>NULL</td><td>9</td><td>653</td></tr>",
                            "<tr><td>NULL</td><td>NULL</td><td>NULL</td><td>9</td><td>672</td></tr>",
                            "<tr><td>NULL</td><td>NULL</td><td>NULL</td><td>9</td><td>701</td></tr>",
                            "<tr><td>NULL</td><td>NULL</td><td>NULL</td><td>9</td><td>736</td></tr>",
                            "<tr><td>NULL</td><td>NULL</td><td>NULL</td><td>9</td><td>883</td></tr>",
                            "<tr><td>NULL</td><td>NULL</td><td>NULL</td><td>9</td><td>895</td></tr>",
                            "<tr><td>NULL</td><td>NULL</td><td>NULL</td><td>9</td><td>1467</td></tr>",
                            "<tr><td>NULL</td><td>NULL</td><td>NULL</td><td>9</td><td>1582</td></tr>",
                            "<tr><td>NULL</td><td>NULL</td><td>NULL</td><td>9</td><td>1873</td></tr>",
                            "<tr><td>NULL</td><td>NULL</td><td>NULL</td><td>9</td><td>2516</td></tr>",
                            "<tr><td>NULL</td><td>NULL</td><td>NULL</td><td>9</td><td>2630</td></tr>",
                            "<tr><td>NULL</td><td>NULL</td><td>NULL</td><td>9</td><td>3210</td></tr>",
                            "<tr><td>Icy Sparks</td><td>3.68</td><td>27</td><td>9</td><td>3476</td></tr>",
                            "<tr><td>NULL</td><td>NULL</td><td>NULL</td><td>9</td><td>3560</td></tr>",
                            "<tr><td>NULL</td><td>NULL</td><td>NULL</td><td>9</td><td>3650</td></tr>",
                            "<tr><td>NULL</td><td>NULL</td><td>NULL</td><td>9</td><td>5286</td></tr>",
                            "<tr><td>NULL</td><td>NULL</td><td>NULL</td><td>9</td><td>6636</td></tr>",
                            "<tr><td>Harry Potter and the Goblet of Fire (Harry Potter, #4)</td><td>4.53</td><td>332</td><td>10</td><td>6</td></tr>",
                            "<tr><td>NULL</td><td>NULL</td><td>NULL</td><td>10</td><td>385</td></tr>",
                            "<tr><td>Atlas Shrugged</td><td>3.68</td><td>147</td><td>10</td><td>662</td></tr>",
                            "<tr><td>NULL</td><td>NULL</td><td>NULL</td><td>10</td><td>896</td></tr>",
                            "<tr><td>NULL</td><td>NULL</td><td>NULL</td><td>10</td><td>1076</td></tr>",
                            "<tr><td>NULL</td><td>NULL</td><td>NULL</td><td>10</td><td>1082</td></tr>",
                            "<tr><td>NULL</td><td>NULL</td><td>NULL</td><td>10</td><td>1220</td></tr>",
                            "<tr><td>NULL</td><td>NULL</td><td>NULL</td><td>10</td><td>1281</td></tr>",
                            "<tr><td>NULL</td><td>NULL</td><td>NULL</td><td>10</td><td>1439</td></tr>",
                            "<tr><td>NULL</td><td>NULL</td><td>NULL</td><td>10</td><td>1851</td></tr>",
                            "<tr><td>NULL</td><td>NULL</td><td>NULL</td><td>10</td><td>1920</td></tr>",
                            "<tr><td>NULL</td><td>NULL</td><td>NULL</td><td>10</td><td>2441</td></tr>",
                            "<tr><td>NULL</td><td>NULL</td><td>NULL</td><td>10</td><td>2570</td></tr>",
                            "<tr><td>NULL</td><td>NULL</td><td>NULL</td><td>10</td><td>2616</td></tr>",
                            "<tr><td>NULL</td><td>NULL</td><td>NULL</td><td>10</td><td>3059</td></tr>",
                            "<tr><td>NULL</td><td>NULL</td><td>NULL</td><td>10</td><td>3545</td></tr>",
                            "<tr><td>NULL</td><td>NULL</td><td>NULL</td><td>10</td><td>3961</td></tr>",
                            "<tr><td>NULL</td><td>NULL</td><td>NULL</td><td>10</td><td>4369</td></tr>",
                            "<tr><td>NULL</td><td>NULL</td><td>NULL</td><td>10</td><td>4510</td></tr>",
                            "<tr><td>NULL</td><td>NULL</td><td>NULL</td><td>10</td><td>5104</td></tr>",
                            "<tr><td>NULL</td><td>NULL</td><td>NULL</td><td>10</td><td>5254</td></tr>",
                            "<tr><td>NULL</td><td>NULL</td><td>NULL</td><td>10</td><td>5556</td></tr>",
                            "<tr><td>NULL</td><td>NULL</td><td>NULL</td><td>10</td><td>6114</td></tr>",
                            "<tr><td>NULL</td><td>NULL</td><td>NULL</td><td>10</td><td>6917</td></tr>",
                            "<tr><td>NULL</td><td>NULL</td><td>NULL</td><td>10</td><td>7545</td></tr>",
                            "<tr><td>NULL</td><td>NULL</td><td>NULL</td><td>10</td><td>7842</td></tr>",
                            "<tr><td>NULL</td><td>NULL</td><td>NULL</td><td>11</td><td>3643</td></tr>",
                            "<tr><td>Harry Potter and the Half-Blood Prince (Harry Potter, #6)</td><td>4.54</td><td>275</td><td>12</td><td>1</td></tr>",
                            "<tr><td>NULL</td><td>NULL</td><td>NULL</td><td>12</td><td>124</td></tr>",
                            "<tr><td>NULL</td><td>NULL</td><td>NULL</td><td>12</td><td>1471</td></tr>",
                            "<tr><td>NULL</td><td>NULL</td><td>NULL</td><td>12</td><td>2893</td></tr>",
                            "<tr><td>NULL</td><td>NULL</td><td>NULL</td><td>13</td><td>81</td></tr>",
                            "<tr><td>NULL</td><td>NULL</td><td>NULL</td><td>13</td><td>277</td></tr>",
                            "<tr><td>NULL</td><td>NULL</td><td>NULL</td><td>13</td><td>318</td></tr>",
                            "<tr><td>NULL</td><td>NULL</td><td>NULL</td><td>13</td><td>430</td></tr>",
                            "<tr><td>NULL</td><td>NULL</td><td>NULL</td><td>13</td><td>437</td></tr>",
                            "<tr><td>NULL</td><td>NULL</td><td>NULL</td><td>13</td><td>551</td></tr>",
                            "<tr><td>NULL</td><td>NULL</td><td>NULL</td><td>13</td><td>560</td></tr>",
                            "<tr><td>NULL</td><td>NULL</td><td>NULL</td><td>13</td><td>610</td></tr>",
                            "<tr><td>NULL</td><td>NULL</td><td>NULL</td><td>13</td><td>678</td></tr>",
                            "<tr><td>NULL</td><td>NULL</td><td>NULL</td><td>13</td><td>979</td></tr>",
                            "<tr><td>NULL</td><td>NULL</td><td>NULL</td><td>13</td><td>1082</td></tr>",
                            "<tr><td>NULL</td><td>NULL</td><td>NULL</td><td>13</td><td>1464</td></tr>",
                            "<tr><td>NULL</td><td>NULL</td><td>NULL</td><td>13</td><td>1577</td></tr>",
                            "<tr><td>NULL</td><td>NULL</td><td>NULL</td><td>13</td><td>2018</td></tr>",
                            "<tr><td>NULL</td><td>NULL</td><td>NULL</td><td>13</td><td>2418</td></tr>",
                            "<tr><td>NULL</td><td>NULL</td><td>NULL</td><td>13</td><td>3257</td></tr>",
                            "<tr><td>NULL</td><td>NULL</td><td>NULL</td><td>13</td><td>4212</td></tr>",
                            "<tr><td>NULL</td><td>NULL</td><td>NULL</td><td>13</td><td>4635</td></tr>",
                            "<tr><td>NULL</td><td>NULL</td><td>NULL</td><td>13</td><td>4704</td></tr>",
                            "<tr><td>NULL</td><td>NULL</td><td>NULL</td><td>13</td><td>4734</td></tr>",
                            "<tr><td>NULL</td><td>NULL</td><td>NULL</td><td>13</td><td>4841</td></tr>",
                            "<tr><td>NULL</td><td>NULL</td><td>NULL</td><td>13</td><td>4848</td></tr>",
                            "<tr><td>NULL</td><td>NULL</td><td>NULL</td><td>13</td><td>4856</td></tr>",
                            "<tr><td>NULL</td><td>NULL</td><td>NULL</td><td>13</td><td>4928</td></tr>",
                            "<tr><td>NULL</td><td>NULL</td><td>NULL</td><td>13</td><td>6114</td></tr>",
                            "<tr><td>NULL</td><td>NULL</td><td>NULL</td><td>13</td><td>6793</td></tr>",
                            "<tr><td>NULL</td><td>NULL</td><td>NULL</td><td>13</td><td>6962</td></tr>",
                            "<tr><td>NULL</td><td>NULL</td><td>NULL</td><td>13</td><td>8717</td></tr>",
                            "<tr><td>NULL</td><td>NULL</td><td>NULL</td><td>14</td><td>493</td></tr>",
                            "<tr><td>NULL</td><td>NULL</td><td>NULL</td><td>14</td><td>1179</td></tr>",
                            "<tr><td>NULL</td><td>NULL</td><td>NULL</td><td>14</td><td>2693</td></tr>",
                            "<tr><td>Sherlock Holmes: The Complete Novels and Stories, Volume I</td><td>4.45</td><td>13</td><td>14</td><td>3581</td></tr>",
                            "<tr><td>NULL</td><td>NULL</td><td>NULL</td><td>14</td><td>3683</td></tr>",
                            "<tr><td>NULL</td><td>NULL</td><td>NULL</td><td>14</td><td>3953</td></tr>",
                            "<tr><td>NULL</td><td>NULL</td><td>NULL</td><td>14</td><td>4220</td></tr>",
                            "<tr><td>NULL</td><td>NULL</td><td>NULL</td><td>14</td><td>5076</td></tr>",
                            "<tr><td>NULL</td><td>NULL</td><td>NULL</td><td>14</td><td>5537</td></tr>",
                            "<tr><td>NULL</td><td>NULL</td><td>NULL</td><td>14</td><td>7777</td></tr>",
                            "<tr><td>NULL</td><td>NULL</td><td>NULL</td><td>15</td><td>191</td></tr>",
                            "<tr><td>The Lover</td><td>3.76</td><td>148</td><td>15</td><td>275</td></tr>",
                            "<tr><td>NULL</td><td>NULL</td><td>NULL</td><td>15</td><td>398</td></tr>",
                            "<tr><td>NULL</td><td>NULL</td><td>NULL</td><td>15</td><td>666</td></tr>",
                            "<tr><td>NULL</td><td>NULL</td><td>NULL</td><td>15</td><td>1491</td></tr>",
                            "<tr><td>NULL</td><td>NULL</td><td>NULL</td><td>15</td><td>5210</td></tr>",
                            "<tr><td>NULL</td><td>NULL</td><td>NULL</td><td>17</td><td>1344</td></tr>",
                            "<tr><td>The Good Soldier</td><td>3.72</td><td>362</td><td>20</td><td>7628</td></tr>",
                            "<tr><td>NULL</td><td>NULL</td><td>NULL</td><td>22</td><td>653</td></tr>",
                            "<tr><td>NULL</td><td>NULL</td><td>NULL</td><td>22</td><td>1403</td></tr>",
                            "<tr><td>NULL</td><td>NULL</td><td>NULL</td><td>22</td><td>1405</td></tr>",
                            "<tr><td>NULL</td><td>NULL</td><td>NULL</td><td>22</td><td>1645</td></tr>",
                            "<tr><td>NULL</td><td>NULL</td><td>NULL</td><td>22</td><td>2500</td></tr>",
                            "<tr><td>NULL</td><td>NULL</td><td>NULL</td><td>22</td><td>2691</td></tr>",
                            "<tr><td>NULL</td><td>NULL</td><td>NULL</td><td>22</td><td>4995</td></tr>",
                            "<tr><td>NULL</td><td>NULL</td><td>NULL</td><td>23</td><td>273</td></tr>",
                            "<tr><td>NULL</td><td>NULL</td><td>NULL</td><td>23</td><td>459</td></tr>",
                            "<tr><td>NULL</td><td>NULL</td><td>NULL</td><td>23</td><td>791</td></tr>",
                            "<tr><td>NULL</td><td>NULL</td><td>NULL</td><td>23</td><td>886</td></tr>",
                            "<tr><td>NULL</td><td>NULL</td><td>NULL</td><td>23</td><td>925</td></tr>",
                            "<tr><td>NULL</td><td>NULL</td><td>NULL</td><td>23</td><td>1198</td></tr>",
                            "<tr><td>NULL</td><td>NULL</td><td>NULL</td><td>23</td><td>1597</td></tr>",
                            "<tr><td>NULL</td><td>NULL</td><td>NULL</td><td>23</td><td>1688</td></tr>",
                            "<tr><td>NULL</td><td>NULL</td><td>NULL</td><td>23</td><td>2251</td></tr>",
                            "<tr><td>NULL</td><td>NULL</td><td>NULL</td><td>23</td><td>2350</td></tr>",
                            "<tr><td>NULL</td><td>NULL</td><td>NULL</td><td>23</td><td>2613</td></tr>",
                            "<tr><td>NULL</td><td>NULL</td><td>NULL</td><td>23</td><td>3312</td></tr>",
                            "<tr><td>NULL</td><td>NULL</td><td>NULL</td><td>23</td><td>3343</td></tr>",
                            "<tr><td>NULL</td><td>NULL</td><td>NULL</td><td>24</td><td>61</td></tr>",
                            "<tr><td>NULL</td><td>NULL</td><td>NULL</td><td>24</td><td>143</td></tr>",
                            "<tr><td>NULL</td><td>NULL</td><td>NULL</td><td>24</td><td>421</td></tr>",
                            "<tr><td>NULL</td><td>NULL</td><td>NULL</td><td>24</td><td>467</td></tr>",
                            "<tr><td>NULL</td><td>NULL</td><td>NULL</td><td>24</td><td>974</td></tr>",
                            "<tr><td>NULL</td><td>NULL</td><td>NULL</td><td>26</td><td>508</td></tr>",
                            "<tr><td>NULL</td><td>NULL</td><td>NULL</td><td>26</td><td>1796</td></tr>",
                            "<tr><td>NULL</td><td>NULL</td><td>NULL</td><td>26</td><td>2257</td></tr>",
                            "<tr><td>NULL</td><td>NULL</td><td>NULL</td><td>26</td><td>2314</td></tr>",
                            "<tr><td>NULL</td><td>NULL</td><td>NULL</td><td>26</td><td>2357</td></tr>",
                            "<tr><td>NULL</td><td>NULL</td><td>NULL</td><td>26</td><td>2738</td></tr>",
                            "<tr><td>NULL</td><td>NULL</td><td>NULL</td><td>26</td><td>2810</td></tr>",
                            "<tr><td>NULL</td><td>NULL</td><td>NULL</td><td>26</td><td>3207</td></tr>",
                            "<tr><td>The Thorn Birds</td><td>4.22</td><td>201</td><td>26</td><td>3412</td></tr>",
                            "<tr><td>The Complete Sherlock Holmes, Vol 2</td><td>4.46</td><td>117</td><td>26</td><td>3586</td></tr>",
                            "<tr><td>The Dark Tower (The Dark Tower, #7)</td><td>4.27</td><td>105</td><td>26</td><td>5091</td></tr>",
                            "<tr><td>NULL</td><td>NULL</td><td>NULL</td><td>26</td><td>5550</td></tr>",
                            "<tr><td>NULL</td><td>NULL</td><td>NULL</td><td>26</td><td>6877</td></tr>",
                            "<tr><td>NULL</td><td>NULL</td><td>NULL</td><td>26</td><td>7970</td></tr>",
                            "<tr><td>NULL</td><td>NULL</td><td>NULL</td><td>28</td><td>265</td></tr>",
                            "<tr><td>NULL</td><td>NULL</td><td>NULL</td><td>28</td><td>587</td></tr>",
                            "<tr><td>NULL</td><td>NULL</td><td>NULL</td><td>28</td><td>3543</td></tr>",
                            "<tr><td>NULL</td><td>NULL</td><td>NULL</td><td>28</td><td>5215</td></tr>",
                            "<tr><td>NULL</td><td>NULL</td><td>NULL</td><td>28</td><td>7496</td></tr>",
                            "<tr><td>NULL</td><td>NULL</td><td>NULL</td><td>28</td><td>8654</td></tr>",
                            "<tr><td>NULL</td><td>NULL</td><td>NULL</td><td>29</td><td>31</td></tr>",
                            "<tr><td>NULL</td><td>NULL</td><td>NULL</td><td>29</td><td>32</td></tr>",
                            "<tr><td>The Lord of the Rings: Weapons and Warfare</td><td>4.53</td><td>12</td><td>29</td><td>36</td></tr>",
                            "<tr><td>NULL</td><td>NULL</td><td>NULL</td><td>29</td><td>45</td></tr>",
                            "<tr><td>NULL</td><td>NULL</td><td>NULL</td><td>29</td><td>65</td></tr>",
                            "<tr><td>NULL</td><td>NULL</td><td>NULL</td><td>29</td><td>87</td></tr>",
                            "<tr><td>NULL</td><td>NULL</td><td>NULL</td><td>29</td><td>115</td></tr>",
                            "<tr><td>NULL</td><td>NULL</td><td>NULL</td><td>29</td><td>121</td></tr>",
                            "<tr><td>NULL</td><td>NULL</td><td>NULL</td><td>29</td><td>131</td></tr>",
                            "<tr><td>NULL</td><td>NULL</td><td>NULL</td><td>29</td><td>178</td></tr>",
                            "<tr><td>NULL</td><td>NULL</td><td>NULL</td><td>29</td><td>256</td></tr>",
                            "<tr><td>NULL</td><td>NULL</td><td>NULL</td><td>29</td><td>323</td></tr>",
                            "<tr><td>Slouching Towards Bethlehem</td><td>4.24</td><td>34</td><td>29</td><td>424</td></tr>",
                            "<tr><td>NULL</td><td>NULL</td><td>NULL</td><td>29</td><td>467</td></tr>",
                            "<tr><td>NULL</td><td>NULL</td><td>NULL</td><td>29</td><td>550</td></tr>",
                            "<tr><td>NULL</td><td>NULL</td><td>NULL</td><td>29</td><td>618</td></tr>",
                            "<tr><td>Atlas Shrugged</td><td>3.68</td><td>147</td><td>29</td><td>662</td></tr>",
                            "<tr><td>NULL</td><td>NULL</td><td>NULL</td><td>29</td><td>709</td></tr>",
                            "<tr><td>NULL</td><td>NULL</td><td>NULL</td><td>29</td><td>730</td></tr>",
                            "<tr><td>NULL</td><td>NULL</td><td>NULL</td><td>29</td><td>771</td></tr>",
                            "<tr><td>NULL</td><td>NULL</td><td>NULL</td><td>29</td><td>809</td></tr>",
                            "<tr><td>NULL</td><td>NULL</td><td>NULL</td><td>29</td><td>934</td></tr>",
                            "<tr><td>NULL</td><td>NULL</td><td>NULL</td><td>29</td><td>1084</td></tr>",
                            "<tr><td>NULL</td><td>NULL</td><td>NULL</td><td>29</td><td>1364</td></tr>",
                            "<tr><td>NULL</td><td>NULL</td><td>NULL</td><td>29</td><td>1642</td></tr>",
                            "<tr><td>NULL</td><td>NULL</td><td>NULL</td><td>29</td><td>1695</td></tr>",
                            "<tr><td>NULL</td><td>NULL</td><td>NULL</td><td>29</td><td>2259</td></tr>",
                            "<tr><td>NULL</td><td>NULL</td><td>NULL</td><td>29</td><td>2284</td></tr>",
                            "<tr><td>NULL</td><td>NULL</td><td>NULL</td><td>29</td><td>2304</td></tr>",
                            "<tr><td>NULL</td><td>NULL</td><td>NULL</td><td>29</td><td>2967</td></tr>",
                            "<tr><td>NULL</td><td>NULL</td><td>NULL</td><td>29</td><td>3508</td></tr>",
                            "<tr><td>NULL</td><td>NULL</td><td>NULL</td><td>29</td><td>4359</td></tr>",
                            "<tr><td>NULL</td><td>NULL</td><td>NULL</td><td>29</td><td>4394</td></tr>",
                            "<tr><td>NULL</td><td>NULL</td><td>NULL</td><td>29</td><td>4475</td></tr>",
                            "<tr><td>NULL</td><td>NULL</td><td>NULL</td><td>29</td><td>4629</td></tr>",
                            "<tr><td>NULL</td><td>NULL</td><td>NULL</td><td>29</td><td>5090</td></tr>",
                            "<tr><td>NULL</td><td>NULL</td><td>NULL</td><td>29</td><td>5596</td></tr>",
                            "<tr><td>NULL</td><td>NULL</td><td>NULL</td><td>29</td><td>5851</td></tr>",
                            "<tr><td>NULL</td><td>NULL</td><td>NULL</td><td>29</td><td>6104</td></tr>",
                            "<tr><td>NULL</td><td>NULL</td><td>NULL</td><td>30</td><td>47</td></tr>",
                            "<tr><td>The Known World</td><td>3.82</td><td>42</td><td>30</td><td>67</td></tr>",
                            "<tr><td>NULL</td><td>NULL</td><td>NULL</td><td>30</td><td>82</td></tr>",
                            "<tr><td>NULL</td><td>NULL</td><td>NULL</td><td>30</td><td>121</td></tr>",
                            "<tr><td>NULL</td><td>NULL</td><td>NULL</td><td>30</td><td>177</td></tr>",
                            "<tr><td>Tropic of Cancer</td><td>3.71</td><td>205</td><td>30</td><td>249</td></tr>",
                            "<tr><td>NULL</td><td>NULL</td><td>NULL</td><td>30</td><td>297</td></tr>",
                            "<tr><td>NULL</td><td>NULL</td><td>NULL</td><td>30</td><td>407</td></tr>",
                            "<tr><td>NULL</td><td>NULL</td><td>NULL</td><td>30</td><td>426</td></tr>",
                            "<tr><td>NULL</td><td>NULL</td><td>NULL</td><td>30</td><td>430</td></tr>",
                            "<tr><td>NULL</td><td>NULL</td><td>NULL</td><td>30</td><td>442</td></tr>",
                            "<tr><td>NULL</td><td>NULL</td><td>NULL</td><td>30</td><td>516</td></tr>",
                            "<tr><td>NULL</td><td>NULL</td><td>NULL</td><td>30</td><td>658</td></tr>",
                            "<tr><td>NULL</td><td>NULL</td><td>NULL</td><td>30</td><td>895</td></tr>",
                            "<tr><td>NULL</td><td>NULL</td><td>NULL</td><td>30</td><td>1039</td></tr>",
                            "<tr><td>NULL</td><td>NULL</td><td>NULL</td><td>30</td><td>1094</td></tr>",
                            "<tr><td>The Odyssey</td><td>3.73</td><td>1703</td><td>30</td><td>1381</td></tr>",
                            "<tr><td>NULL</td><td>NULL</td><td>NULL</td><td>30</td><td>2117</td></tr>",
                            "<tr><td>NULL</td><td>NULL</td><td>NULL</td><td>30</td><td>2426</td></tr>",
                            "<tr><td>NULL</td><td>NULL</td><td>NULL</td><td>30</td><td>3444</td></tr>",
                            "<tr><td>The Pilgrimage</td><td>3.64</td><td>171</td><td>30</td><td>4004</td></tr>",
                            "<tr><td>NULL</td><td>NULL</td><td>NULL</td><td>30</td><td>4202</td></tr>",
                            "<tr><td>NULL</td><td>NULL</td><td>NULL</td><td>30</td><td>4509</td></tr>",
                            "<tr><td>NULL</td><td>NULL</td><td>NULL</td><td>30</td><td>5880</td></tr>",
                            "<tr><td>The Hobbit</td><td>4.25</td><td>969</td><td>30</td><td>5907</td></tr>",
                            "<tr><td>NULL</td><td>NULL</td><td>NULL</td><td>30</td><td>6828</td></tr>",
                            "<tr><td>NULL</td><td>NULL</td><td>NULL</td><td>30</td><td>7563</td></tr>",
                            "<tr><td>NULL</td><td>NULL</td><td>NULL</td><td>30</td><td>8737</td></tr>",
                            "<tr><td>NULL</td><td>NULL</td><td>NULL</td><td>31</td><td>94</td></tr>",
                            "<tr><td>NULL</td><td>NULL</td><td>NULL</td><td>31</td><td>584</td></tr>",
                            "</table>"
                        ]
                    }
                }
            ],
            "execution_count": 2
        },
        {
            "cell_type": "markdown",
            "source": [
                "## **QUESTION 3:** Exploring FULL JOINS with the **books** and **to\\_read** tables\n",
                "\n",
                "You will need to uncomment the Query to answer the question.\n",
                "\n",
                "**Part A:**  Look at the table and explore how it was populated.  Try manipulating the query to better understand how this table works.  Try adding a WHERE clause, or ORDER BY a column on the **books** table.  Based on your exploration, can you think of when you might want a FULL join rather than a LEFT, RIGHT, or INNER?\n",
                "\n",
                "> Your Answer: I would want to do a full join when I want all rows, regardless of null data in either table. I would want a left join when I want all the information from the books table, regardless of null values in the to\\_read table, and vice versa for a right join. I would want an inner join when I only want information that is matched in both tables."
            ],
            "metadata": {
                "azdata_cell_guid": "8f6b8f22-3e5a-4b87-a2f2-07279f1deb94"
            },
            "attachments": {}
        },
        {
            "cell_type": "code",
            "source": [
                "-- FULL JOIN\n",
                "SELECT TOP 30 b.title, b.average_rating, b.books_count,tr.user_id, tr.book_id\n",
                "FROM BooksDB.dbo.books AS b\n",
                "FULL JOIN BooksDB.dbo.to_read AS tr\n",
                "ON b.book_id = tr.book_id\n",
                "WHERE tr.user_id IS NOT NULL AND b.title IS NOT NULL\n",
                "ORDER BY b.average_rating DESC;\n",
                "\n",
                ""
            ],
            "metadata": {
                "azdata_cell_guid": "7c2a3dff-ef55-4222-aef0-7c0ab4f942eb",
                "tags": [],
                "language": "sql"
            },
            "outputs": [
                {
                    "output_type": "display_data",
                    "data": {
                        "text/html": "(30 rows affected)"
                    },
                    "metadata": {}
                },
                {
                    "output_type": "display_data",
                    "data": {
                        "text/html": "Total execution time: 00:00:02.398"
                    },
                    "metadata": {}
                },
                {
                    "output_type": "execute_result",
                    "metadata": {},
                    "execution_count": 14,
                    "data": {
                        "application/vnd.dataresource+json": {
                            "schema": {
                                "fields": [
                                    {
                                        "name": "title"
                                    },
                                    {
                                        "name": "average_rating"
                                    },
                                    {
                                        "name": "books_count"
                                    },
                                    {
                                        "name": "user_id"
                                    },
                                    {
                                        "name": "book_id"
                                    }
                                ]
                            },
                            "data": [
                                {
                                    "title": "Harry Potter Boxed Set, Books 1-5 (Harry Potter, #1-5)",
                                    "average_rating": "4.77",
                                    "books_count": "11",
                                    "user_id": "9",
                                    "book_id": "8"
                                },
                                {
                                    "title": "Harry Potter Boxed Set, Books 1-5 (Harry Potter, #1-5)",
                                    "average_rating": "4.77",
                                    "books_count": "11",
                                    "user_id": "245",
                                    "book_id": "8"
                                },
                                {
                                    "title": "Harry Potter Boxed Set, Books 1-5 (Harry Potter, #1-5)",
                                    "average_rating": "4.77",
                                    "books_count": "11",
                                    "user_id": "265",
                                    "book_id": "8"
                                },
                                {
                                    "title": "Harry Potter Boxed Set, Books 1-5 (Harry Potter, #1-5)",
                                    "average_rating": "4.77",
                                    "books_count": "11",
                                    "user_id": "318",
                                    "book_id": "8"
                                },
                                {
                                    "title": "Harry Potter Boxed Set, Books 1-5 (Harry Potter, #1-5)",
                                    "average_rating": "4.77",
                                    "books_count": "11",
                                    "user_id": "361",
                                    "book_id": "8"
                                },
                                {
                                    "title": "Harry Potter Boxed Set, Books 1-5 (Harry Potter, #1-5)",
                                    "average_rating": "4.77",
                                    "books_count": "11",
                                    "user_id": "422",
                                    "book_id": "8"
                                },
                                {
                                    "title": "Harry Potter Boxed Set, Books 1-5 (Harry Potter, #1-5)",
                                    "average_rating": "4.77",
                                    "books_count": "11",
                                    "user_id": "435",
                                    "book_id": "8"
                                },
                                {
                                    "title": "Harry Potter Boxed Set, Books 1-5 (Harry Potter, #1-5)",
                                    "average_rating": "4.77",
                                    "books_count": "11",
                                    "user_id": "457",
                                    "book_id": "8"
                                },
                                {
                                    "title": "Harry Potter Boxed Set, Books 1-5 (Harry Potter, #1-5)",
                                    "average_rating": "4.77",
                                    "books_count": "11",
                                    "user_id": "615",
                                    "book_id": "8"
                                },
                                {
                                    "title": "Harry Potter Boxed Set, Books 1-5 (Harry Potter, #1-5)",
                                    "average_rating": "4.77",
                                    "books_count": "11",
                                    "user_id": "654",
                                    "book_id": "8"
                                },
                                {
                                    "title": "Harry Potter Boxed Set, Books 1-5 (Harry Potter, #1-5)",
                                    "average_rating": "4.77",
                                    "books_count": "11",
                                    "user_id": "1153",
                                    "book_id": "8"
                                },
                                {
                                    "title": "Harry Potter Boxed Set, Books 1-5 (Harry Potter, #1-5)",
                                    "average_rating": "4.77",
                                    "books_count": "11",
                                    "user_id": "1235",
                                    "book_id": "8"
                                },
                                {
                                    "title": "Harry Potter Boxed Set, Books 1-5 (Harry Potter, #1-5)",
                                    "average_rating": "4.77",
                                    "books_count": "11",
                                    "user_id": "1280",
                                    "book_id": "8"
                                },
                                {
                                    "title": "Harry Potter Boxed Set, Books 1-5 (Harry Potter, #1-5)",
                                    "average_rating": "4.77",
                                    "books_count": "11",
                                    "user_id": "1337",
                                    "book_id": "8"
                                },
                                {
                                    "title": "Harry Potter Boxed Set, Books 1-5 (Harry Potter, #1-5)",
                                    "average_rating": "4.77",
                                    "books_count": "11",
                                    "user_id": "1447",
                                    "book_id": "8"
                                },
                                {
                                    "title": "Harry Potter Boxed Set, Books 1-5 (Harry Potter, #1-5)",
                                    "average_rating": "4.77",
                                    "books_count": "11",
                                    "user_id": "1509",
                                    "book_id": "8"
                                },
                                {
                                    "title": "Harry Potter Boxed Set, Books 1-5 (Harry Potter, #1-5)",
                                    "average_rating": "4.77",
                                    "books_count": "11",
                                    "user_id": "1591",
                                    "book_id": "8"
                                },
                                {
                                    "title": "Harry Potter Boxed Set, Books 1-5 (Harry Potter, #1-5)",
                                    "average_rating": "4.77",
                                    "books_count": "11",
                                    "user_id": "1640",
                                    "book_id": "8"
                                },
                                {
                                    "title": "Harry Potter Boxed Set, Books 1-5 (Harry Potter, #1-5)",
                                    "average_rating": "4.77",
                                    "books_count": "11",
                                    "user_id": "1743",
                                    "book_id": "8"
                                },
                                {
                                    "title": "Harry Potter Boxed Set, Books 1-5 (Harry Potter, #1-5)",
                                    "average_rating": "4.77",
                                    "books_count": "11",
                                    "user_id": "1786",
                                    "book_id": "8"
                                },
                                {
                                    "title": "Harry Potter Boxed Set, Books 1-5 (Harry Potter, #1-5)",
                                    "average_rating": "4.77",
                                    "books_count": "11",
                                    "user_id": "1826",
                                    "book_id": "8"
                                },
                                {
                                    "title": "Harry Potter Boxed Set, Books 1-5 (Harry Potter, #1-5)",
                                    "average_rating": "4.77",
                                    "books_count": "11",
                                    "user_id": "1840",
                                    "book_id": "8"
                                },
                                {
                                    "title": "Harry Potter Boxed Set, Books 1-5 (Harry Potter, #1-5)",
                                    "average_rating": "4.77",
                                    "books_count": "11",
                                    "user_id": "1845",
                                    "book_id": "8"
                                },
                                {
                                    "title": "Harry Potter Boxed Set, Books 1-5 (Harry Potter, #1-5)",
                                    "average_rating": "4.77",
                                    "books_count": "11",
                                    "user_id": "1903",
                                    "book_id": "8"
                                },
                                {
                                    "title": "Harry Potter Boxed Set, Books 1-5 (Harry Potter, #1-5)",
                                    "average_rating": "4.77",
                                    "books_count": "11",
                                    "user_id": "1935",
                                    "book_id": "8"
                                },
                                {
                                    "title": "Harry Potter Boxed Set, Books 1-5 (Harry Potter, #1-5)",
                                    "average_rating": "4.77",
                                    "books_count": "11",
                                    "user_id": "1940",
                                    "book_id": "8"
                                },
                                {
                                    "title": "Harry Potter Boxed Set, Books 1-5 (Harry Potter, #1-5)",
                                    "average_rating": "4.77",
                                    "books_count": "11",
                                    "user_id": "2000",
                                    "book_id": "8"
                                },
                                {
                                    "title": "Harry Potter Boxed Set, Books 1-5 (Harry Potter, #1-5)",
                                    "average_rating": "4.77",
                                    "books_count": "11",
                                    "user_id": "2006",
                                    "book_id": "8"
                                },
                                {
                                    "title": "Harry Potter Boxed Set, Books 1-5 (Harry Potter, #1-5)",
                                    "average_rating": "4.77",
                                    "books_count": "11",
                                    "user_id": "2151",
                                    "book_id": "8"
                                },
                                {
                                    "title": "Harry Potter Boxed Set, Books 1-5 (Harry Potter, #1-5)",
                                    "average_rating": "4.77",
                                    "books_count": "11",
                                    "user_id": "2180",
                                    "book_id": "8"
                                }
                            ]
                        },
                        "text/html": [
                            "<table>",
                            "<tr><th>title</th><th>average_rating</th><th>books_count</th><th>user_id</th><th>book_id</th></tr>",
                            "<tr><td>Harry Potter Boxed Set, Books 1-5 (Harry Potter, #1-5)</td><td>4.77</td><td>11</td><td>9</td><td>8</td></tr>",
                            "<tr><td>Harry Potter Boxed Set, Books 1-5 (Harry Potter, #1-5)</td><td>4.77</td><td>11</td><td>245</td><td>8</td></tr>",
                            "<tr><td>Harry Potter Boxed Set, Books 1-5 (Harry Potter, #1-5)</td><td>4.77</td><td>11</td><td>265</td><td>8</td></tr>",
                            "<tr><td>Harry Potter Boxed Set, Books 1-5 (Harry Potter, #1-5)</td><td>4.77</td><td>11</td><td>318</td><td>8</td></tr>",
                            "<tr><td>Harry Potter Boxed Set, Books 1-5 (Harry Potter, #1-5)</td><td>4.77</td><td>11</td><td>361</td><td>8</td></tr>",
                            "<tr><td>Harry Potter Boxed Set, Books 1-5 (Harry Potter, #1-5)</td><td>4.77</td><td>11</td><td>422</td><td>8</td></tr>",
                            "<tr><td>Harry Potter Boxed Set, Books 1-5 (Harry Potter, #1-5)</td><td>4.77</td><td>11</td><td>435</td><td>8</td></tr>",
                            "<tr><td>Harry Potter Boxed Set, Books 1-5 (Harry Potter, #1-5)</td><td>4.77</td><td>11</td><td>457</td><td>8</td></tr>",
                            "<tr><td>Harry Potter Boxed Set, Books 1-5 (Harry Potter, #1-5)</td><td>4.77</td><td>11</td><td>615</td><td>8</td></tr>",
                            "<tr><td>Harry Potter Boxed Set, Books 1-5 (Harry Potter, #1-5)</td><td>4.77</td><td>11</td><td>654</td><td>8</td></tr>",
                            "<tr><td>Harry Potter Boxed Set, Books 1-5 (Harry Potter, #1-5)</td><td>4.77</td><td>11</td><td>1153</td><td>8</td></tr>",
                            "<tr><td>Harry Potter Boxed Set, Books 1-5 (Harry Potter, #1-5)</td><td>4.77</td><td>11</td><td>1235</td><td>8</td></tr>",
                            "<tr><td>Harry Potter Boxed Set, Books 1-5 (Harry Potter, #1-5)</td><td>4.77</td><td>11</td><td>1280</td><td>8</td></tr>",
                            "<tr><td>Harry Potter Boxed Set, Books 1-5 (Harry Potter, #1-5)</td><td>4.77</td><td>11</td><td>1337</td><td>8</td></tr>",
                            "<tr><td>Harry Potter Boxed Set, Books 1-5 (Harry Potter, #1-5)</td><td>4.77</td><td>11</td><td>1447</td><td>8</td></tr>",
                            "<tr><td>Harry Potter Boxed Set, Books 1-5 (Harry Potter, #1-5)</td><td>4.77</td><td>11</td><td>1509</td><td>8</td></tr>",
                            "<tr><td>Harry Potter Boxed Set, Books 1-5 (Harry Potter, #1-5)</td><td>4.77</td><td>11</td><td>1591</td><td>8</td></tr>",
                            "<tr><td>Harry Potter Boxed Set, Books 1-5 (Harry Potter, #1-5)</td><td>4.77</td><td>11</td><td>1640</td><td>8</td></tr>",
                            "<tr><td>Harry Potter Boxed Set, Books 1-5 (Harry Potter, #1-5)</td><td>4.77</td><td>11</td><td>1743</td><td>8</td></tr>",
                            "<tr><td>Harry Potter Boxed Set, Books 1-5 (Harry Potter, #1-5)</td><td>4.77</td><td>11</td><td>1786</td><td>8</td></tr>",
                            "<tr><td>Harry Potter Boxed Set, Books 1-5 (Harry Potter, #1-5)</td><td>4.77</td><td>11</td><td>1826</td><td>8</td></tr>",
                            "<tr><td>Harry Potter Boxed Set, Books 1-5 (Harry Potter, #1-5)</td><td>4.77</td><td>11</td><td>1840</td><td>8</td></tr>",
                            "<tr><td>Harry Potter Boxed Set, Books 1-5 (Harry Potter, #1-5)</td><td>4.77</td><td>11</td><td>1845</td><td>8</td></tr>",
                            "<tr><td>Harry Potter Boxed Set, Books 1-5 (Harry Potter, #1-5)</td><td>4.77</td><td>11</td><td>1903</td><td>8</td></tr>",
                            "<tr><td>Harry Potter Boxed Set, Books 1-5 (Harry Potter, #1-5)</td><td>4.77</td><td>11</td><td>1935</td><td>8</td></tr>",
                            "<tr><td>Harry Potter Boxed Set, Books 1-5 (Harry Potter, #1-5)</td><td>4.77</td><td>11</td><td>1940</td><td>8</td></tr>",
                            "<tr><td>Harry Potter Boxed Set, Books 1-5 (Harry Potter, #1-5)</td><td>4.77</td><td>11</td><td>2000</td><td>8</td></tr>",
                            "<tr><td>Harry Potter Boxed Set, Books 1-5 (Harry Potter, #1-5)</td><td>4.77</td><td>11</td><td>2006</td><td>8</td></tr>",
                            "<tr><td>Harry Potter Boxed Set, Books 1-5 (Harry Potter, #1-5)</td><td>4.77</td><td>11</td><td>2151</td><td>8</td></tr>",
                            "<tr><td>Harry Potter Boxed Set, Books 1-5 (Harry Potter, #1-5)</td><td>4.77</td><td>11</td><td>2180</td><td>8</td></tr>",
                            "</table>"
                        ]
                    }
                }
            ],
            "execution_count": 14
        },
        {
            "cell_type": "markdown",
            "source": [
                "## **QUESTION 4:** Exploring INNER Joins with the **books** and **to\\_read** tables\n",
                "\n",
                "You will need to uncomment the Query to answer the question.\n",
                "\n",
                "**Part A:**  What does an inner join do?\n",
                "\n",
                "> <span style=\"background-color: rgba(127, 127, 127, 0.1); font-family: -apple-system, BlinkMacSystemFont, sans-serif;\">Your Answer: Inner join joins the two tables based on their match of book_id.</span>\n",
                "\n",
                "<span style=\"background-color: rgba(127, 127, 127, 0.1); font-family: -apple-system, BlinkMacSystemFont, sans-serif;\"><b>Part B:</b>&nbsp;Currently this table has an <b>'IS NOT NULL'</b> in the <b>WHERE</b> clause.&nbsp; Is this necessary for this table?&nbsp; Why or Why not?&nbsp;</span> \n",
                "\n",
                "> Your Answer: This is not necessary because columns containing NULL do not match any values on an inner join and will be automatically excluded. \n",
                "\n",
                "**Part C:**  When using SQL, you are usually returning much larger tables so every line of code will add to the compilation and return time.  Rewrite this inner join query so that it contains no redundant code.   \n",
                "\n",
                "> Your Answer:  Update the query in the code box below."
            ],
            "metadata": {
                "azdata_cell_guid": "4dab11ce-7995-4444-92dd-4cb2c0bc02c8"
            },
            "attachments": {}
        },
        {
            "cell_type": "code",
            "source": [
                "\n",
                "-- INNER JOIN\n",
                "SELECT TOP 30 b.title, b.average_rating, b.books_count,tr.user_id, tr.book_id\n",
                "FROM BooksDB.dbo.books AS b\n",
                "INNER JOIN BooksDB.dbo.to_read AS tr\n",
                "ON b.book_id = tr.book_id\n",
                "ORDER BY tr.book_id;\n",
                ""
            ],
            "metadata": {
                "azdata_cell_guid": "66d430ab-18aa-4a29-a32d-0585445e417c",
                "tags": [],
                "language": "sql"
            },
            "outputs": [
                {
                    "output_type": "display_data",
                    "data": {
                        "text/html": "(30 rows affected)"
                    },
                    "metadata": {}
                },
                {
                    "output_type": "display_data",
                    "data": {
                        "text/html": "Total execution time: 00:00:00.124"
                    },
                    "metadata": {}
                },
                {
                    "output_type": "execute_result",
                    "metadata": {},
                    "execution_count": 16,
                    "data": {
                        "application/vnd.dataresource+json": {
                            "schema": {
                                "fields": [
                                    {
                                        "name": "title"
                                    },
                                    {
                                        "name": "average_rating"
                                    },
                                    {
                                        "name": "books_count"
                                    },
                                    {
                                        "name": "user_id"
                                    },
                                    {
                                        "name": "book_id"
                                    }
                                ]
                            },
                            "data": [
                                {
                                    "title": "Harry Potter and the Half-Blood Prince (Harry Potter, #6)",
                                    "average_rating": "4.54",
                                    "books_count": "275",
                                    "user_id": "12",
                                    "book_id": "1"
                                },
                                {
                                    "title": "Harry Potter and the Half-Blood Prince (Harry Potter, #6)",
                                    "average_rating": "4.54",
                                    "books_count": "275",
                                    "user_id": "192",
                                    "book_id": "1"
                                },
                                {
                                    "title": "Harry Potter and the Half-Blood Prince (Harry Potter, #6)",
                                    "average_rating": "4.54",
                                    "books_count": "275",
                                    "user_id": "202",
                                    "book_id": "1"
                                },
                                {
                                    "title": "Harry Potter and the Half-Blood Prince (Harry Potter, #6)",
                                    "average_rating": "4.54",
                                    "books_count": "275",
                                    "user_id": "244",
                                    "book_id": "1"
                                },
                                {
                                    "title": "Harry Potter and the Half-Blood Prince (Harry Potter, #6)",
                                    "average_rating": "4.54",
                                    "books_count": "275",
                                    "user_id": "253",
                                    "book_id": "1"
                                },
                                {
                                    "title": "Harry Potter and the Half-Blood Prince (Harry Potter, #6)",
                                    "average_rating": "4.54",
                                    "books_count": "275",
                                    "user_id": "350",
                                    "book_id": "1"
                                },
                                {
                                    "title": "Harry Potter and the Half-Blood Prince (Harry Potter, #6)",
                                    "average_rating": "4.54",
                                    "books_count": "275",
                                    "user_id": "478",
                                    "book_id": "1"
                                },
                                {
                                    "title": "Harry Potter and the Half-Blood Prince (Harry Potter, #6)",
                                    "average_rating": "4.54",
                                    "books_count": "275",
                                    "user_id": "511",
                                    "book_id": "1"
                                },
                                {
                                    "title": "Harry Potter and the Half-Blood Prince (Harry Potter, #6)",
                                    "average_rating": "4.54",
                                    "books_count": "275",
                                    "user_id": "525",
                                    "book_id": "1"
                                },
                                {
                                    "title": "Harry Potter and the Half-Blood Prince (Harry Potter, #6)",
                                    "average_rating": "4.54",
                                    "books_count": "275",
                                    "user_id": "527",
                                    "book_id": "1"
                                },
                                {
                                    "title": "Harry Potter and the Half-Blood Prince (Harry Potter, #6)",
                                    "average_rating": "4.54",
                                    "books_count": "275",
                                    "user_id": "552",
                                    "book_id": "1"
                                },
                                {
                                    "title": "Harry Potter and the Half-Blood Prince (Harry Potter, #6)",
                                    "average_rating": "4.54",
                                    "books_count": "275",
                                    "user_id": "644",
                                    "book_id": "1"
                                },
                                {
                                    "title": "Harry Potter and the Half-Blood Prince (Harry Potter, #6)",
                                    "average_rating": "4.54",
                                    "books_count": "275",
                                    "user_id": "754",
                                    "book_id": "1"
                                },
                                {
                                    "title": "Harry Potter and the Half-Blood Prince (Harry Potter, #6)",
                                    "average_rating": "4.54",
                                    "books_count": "275",
                                    "user_id": "826",
                                    "book_id": "1"
                                },
                                {
                                    "title": "Harry Potter and the Half-Blood Prince (Harry Potter, #6)",
                                    "average_rating": "4.54",
                                    "books_count": "275",
                                    "user_id": "1043",
                                    "book_id": "1"
                                },
                                {
                                    "title": "Harry Potter and the Half-Blood Prince (Harry Potter, #6)",
                                    "average_rating": "4.54",
                                    "books_count": "275",
                                    "user_id": "1205",
                                    "book_id": "1"
                                },
                                {
                                    "title": "Harry Potter and the Half-Blood Prince (Harry Potter, #6)",
                                    "average_rating": "4.54",
                                    "books_count": "275",
                                    "user_id": "1442",
                                    "book_id": "1"
                                },
                                {
                                    "title": "Harry Potter and the Half-Blood Prince (Harry Potter, #6)",
                                    "average_rating": "4.54",
                                    "books_count": "275",
                                    "user_id": "1470",
                                    "book_id": "1"
                                },
                                {
                                    "title": "Harry Potter and the Half-Blood Prince (Harry Potter, #6)",
                                    "average_rating": "4.54",
                                    "books_count": "275",
                                    "user_id": "1712",
                                    "book_id": "1"
                                },
                                {
                                    "title": "Harry Potter and the Half-Blood Prince (Harry Potter, #6)",
                                    "average_rating": "4.54",
                                    "books_count": "275",
                                    "user_id": "1814",
                                    "book_id": "1"
                                },
                                {
                                    "title": "Harry Potter and the Half-Blood Prince (Harry Potter, #6)",
                                    "average_rating": "4.54",
                                    "books_count": "275",
                                    "user_id": "1919",
                                    "book_id": "1"
                                },
                                {
                                    "title": "Harry Potter and the Half-Blood Prince (Harry Potter, #6)",
                                    "average_rating": "4.54",
                                    "books_count": "275",
                                    "user_id": "2051",
                                    "book_id": "1"
                                },
                                {
                                    "title": "Harry Potter and the Half-Blood Prince (Harry Potter, #6)",
                                    "average_rating": "4.54",
                                    "books_count": "275",
                                    "user_id": "2052",
                                    "book_id": "1"
                                },
                                {
                                    "title": "Harry Potter and the Half-Blood Prince (Harry Potter, #6)",
                                    "average_rating": "4.54",
                                    "books_count": "275",
                                    "user_id": "2158",
                                    "book_id": "1"
                                },
                                {
                                    "title": "Harry Potter and the Half-Blood Prince (Harry Potter, #6)",
                                    "average_rating": "4.54",
                                    "books_count": "275",
                                    "user_id": "2160",
                                    "book_id": "1"
                                },
                                {
                                    "title": "Harry Potter and the Half-Blood Prince (Harry Potter, #6)",
                                    "average_rating": "4.54",
                                    "books_count": "275",
                                    "user_id": "2345",
                                    "book_id": "1"
                                },
                                {
                                    "title": "Harry Potter and the Half-Blood Prince (Harry Potter, #6)",
                                    "average_rating": "4.54",
                                    "books_count": "275",
                                    "user_id": "2476",
                                    "book_id": "1"
                                },
                                {
                                    "title": "Harry Potter and the Half-Blood Prince (Harry Potter, #6)",
                                    "average_rating": "4.54",
                                    "books_count": "275",
                                    "user_id": "2523",
                                    "book_id": "1"
                                },
                                {
                                    "title": "Harry Potter and the Half-Blood Prince (Harry Potter, #6)",
                                    "average_rating": "4.54",
                                    "books_count": "275",
                                    "user_id": "2623",
                                    "book_id": "1"
                                },
                                {
                                    "title": "Harry Potter and the Half-Blood Prince (Harry Potter, #6)",
                                    "average_rating": "4.54",
                                    "books_count": "275",
                                    "user_id": "2673",
                                    "book_id": "1"
                                }
                            ]
                        },
                        "text/html": [
                            "<table>",
                            "<tr><th>title</th><th>average_rating</th><th>books_count</th><th>user_id</th><th>book_id</th></tr>",
                            "<tr><td>Harry Potter and the Half-Blood Prince (Harry Potter, #6)</td><td>4.54</td><td>275</td><td>12</td><td>1</td></tr>",
                            "<tr><td>Harry Potter and the Half-Blood Prince (Harry Potter, #6)</td><td>4.54</td><td>275</td><td>192</td><td>1</td></tr>",
                            "<tr><td>Harry Potter and the Half-Blood Prince (Harry Potter, #6)</td><td>4.54</td><td>275</td><td>202</td><td>1</td></tr>",
                            "<tr><td>Harry Potter and the Half-Blood Prince (Harry Potter, #6)</td><td>4.54</td><td>275</td><td>244</td><td>1</td></tr>",
                            "<tr><td>Harry Potter and the Half-Blood Prince (Harry Potter, #6)</td><td>4.54</td><td>275</td><td>253</td><td>1</td></tr>",
                            "<tr><td>Harry Potter and the Half-Blood Prince (Harry Potter, #6)</td><td>4.54</td><td>275</td><td>350</td><td>1</td></tr>",
                            "<tr><td>Harry Potter and the Half-Blood Prince (Harry Potter, #6)</td><td>4.54</td><td>275</td><td>478</td><td>1</td></tr>",
                            "<tr><td>Harry Potter and the Half-Blood Prince (Harry Potter, #6)</td><td>4.54</td><td>275</td><td>511</td><td>1</td></tr>",
                            "<tr><td>Harry Potter and the Half-Blood Prince (Harry Potter, #6)</td><td>4.54</td><td>275</td><td>525</td><td>1</td></tr>",
                            "<tr><td>Harry Potter and the Half-Blood Prince (Harry Potter, #6)</td><td>4.54</td><td>275</td><td>527</td><td>1</td></tr>",
                            "<tr><td>Harry Potter and the Half-Blood Prince (Harry Potter, #6)</td><td>4.54</td><td>275</td><td>552</td><td>1</td></tr>",
                            "<tr><td>Harry Potter and the Half-Blood Prince (Harry Potter, #6)</td><td>4.54</td><td>275</td><td>644</td><td>1</td></tr>",
                            "<tr><td>Harry Potter and the Half-Blood Prince (Harry Potter, #6)</td><td>4.54</td><td>275</td><td>754</td><td>1</td></tr>",
                            "<tr><td>Harry Potter and the Half-Blood Prince (Harry Potter, #6)</td><td>4.54</td><td>275</td><td>826</td><td>1</td></tr>",
                            "<tr><td>Harry Potter and the Half-Blood Prince (Harry Potter, #6)</td><td>4.54</td><td>275</td><td>1043</td><td>1</td></tr>",
                            "<tr><td>Harry Potter and the Half-Blood Prince (Harry Potter, #6)</td><td>4.54</td><td>275</td><td>1205</td><td>1</td></tr>",
                            "<tr><td>Harry Potter and the Half-Blood Prince (Harry Potter, #6)</td><td>4.54</td><td>275</td><td>1442</td><td>1</td></tr>",
                            "<tr><td>Harry Potter and the Half-Blood Prince (Harry Potter, #6)</td><td>4.54</td><td>275</td><td>1470</td><td>1</td></tr>",
                            "<tr><td>Harry Potter and the Half-Blood Prince (Harry Potter, #6)</td><td>4.54</td><td>275</td><td>1712</td><td>1</td></tr>",
                            "<tr><td>Harry Potter and the Half-Blood Prince (Harry Potter, #6)</td><td>4.54</td><td>275</td><td>1814</td><td>1</td></tr>",
                            "<tr><td>Harry Potter and the Half-Blood Prince (Harry Potter, #6)</td><td>4.54</td><td>275</td><td>1919</td><td>1</td></tr>",
                            "<tr><td>Harry Potter and the Half-Blood Prince (Harry Potter, #6)</td><td>4.54</td><td>275</td><td>2051</td><td>1</td></tr>",
                            "<tr><td>Harry Potter and the Half-Blood Prince (Harry Potter, #6)</td><td>4.54</td><td>275</td><td>2052</td><td>1</td></tr>",
                            "<tr><td>Harry Potter and the Half-Blood Prince (Harry Potter, #6)</td><td>4.54</td><td>275</td><td>2158</td><td>1</td></tr>",
                            "<tr><td>Harry Potter and the Half-Blood Prince (Harry Potter, #6)</td><td>4.54</td><td>275</td><td>2160</td><td>1</td></tr>",
                            "<tr><td>Harry Potter and the Half-Blood Prince (Harry Potter, #6)</td><td>4.54</td><td>275</td><td>2345</td><td>1</td></tr>",
                            "<tr><td>Harry Potter and the Half-Blood Prince (Harry Potter, #6)</td><td>4.54</td><td>275</td><td>2476</td><td>1</td></tr>",
                            "<tr><td>Harry Potter and the Half-Blood Prince (Harry Potter, #6)</td><td>4.54</td><td>275</td><td>2523</td><td>1</td></tr>",
                            "<tr><td>Harry Potter and the Half-Blood Prince (Harry Potter, #6)</td><td>4.54</td><td>275</td><td>2623</td><td>1</td></tr>",
                            "<tr><td>Harry Potter and the Half-Blood Prince (Harry Potter, #6)</td><td>4.54</td><td>275</td><td>2673</td><td>1</td></tr>",
                            "</table>"
                        ]
                    }
                }
            ],
            "execution_count": 16
        },
        {
            "cell_type": "markdown",
            "source": [
                "## **QUESTION 5:**  Using joins to find the most tagged book and the most popular tag\n",
                "\n",
                "We will be writing 3 queries to find both the most tagged book and that book's most popular tag.\n",
                "\n",
                "**Part A:**  What is the most tagged book?\n",
                "\n",
                "> <span style=\"background-color: rgba(127, 127, 127, 0.1); font-family: -apple-system, BlinkMacSystemFont, sans-serif;\">Start by joining the </span> **books** <span style=\"background-color: rgba(127, 127, 127, 0.1); font-family: -apple-system, BlinkMacSystemFont, sans-serif;\">and </span> **book\\_tags**  <span style=\"background-color: rgba(127, 127, 127, 0.1); font-family: -apple-system, BlinkMacSystemFont, sans-serif;\">&nbsp;tables ON the books.best_book_id and book_tags.goodreads_book_id.&nbsp;&nbsp;<br></span>  <span style=\"background-color: rgba(127, 127, 127, 0.1); font-family: -apple-system, BlinkMacSystemFont, sans-serif;\">We want the <i>most popular</i> book, so think about ordering the table in a way that will display both the book title and the number of times a book tag has been used.</span>\n",
                "> \n",
                "> _MInimum Desired output:_  The title of the most tagged book, and the number of times the book has been tagged.\n",
                "> \n",
                "> **Title:** **Harry Potter and the Sorcerer's Stone (Harry Potter, #1), tagged 786374 times**\n",
                "\n",
                "**Part B:** How many different tags have been used for the most tagged book?\n",
                "\n",
                "> <span style=\"font-family: -apple-system, BlinkMacSystemFont, sans-serif; background-color: rgba(127, 127, 127, 0.1);\">Start by joining the&nbsp;</span>  **books** <span style=\"font-family: -apple-system, BlinkMacSystemFont, sans-serif; background-color: rgba(127, 127, 127, 0.1);\">and&nbsp;</span>  **book\\_tags**  <span style=\"font-family: -apple-system, BlinkMacSystemFont, sans-serif; background-color: rgba(127, 127, 127, 0.1);\">&nbsp;tables ON the books.best_book_id and book_tags.goodreads_book_id.&nbsp;&nbsp;<br></span>  We want to find the _most popular_ tag id, so think about ordering in a way that will display the most popular tag id.\n",
                "> \n",
                "> <span style=\"font-family: -apple-system, BlinkMacSystemFont, sans-serif; background-color: rgba(127, 127, 127, 0.1);\"><i>Minimum Desired Output:</i> The tag id for the most popular tag used for the most tagged book.&nbsp;</span> \n",
                "> \n",
                "> <span style=\"font-family: -apple-system, BlinkMacSystemFont, sans-serif; background-color: rgba(127, 127, 127, 0.1);\"><b>Tag Id:</b></span>\n",
                "\n",
                "<span style=\"font-family: -apple-system, BlinkMacSystemFont, sans-serif; background-color: rgba(127, 127, 127, 0.1);\"><b>Part C: </b>What is this particular tag?</span>\n",
                "\n",
                "> You may return this answer with a simple query.\n",
                "\n",
                "> <span style=\"font-family: -apple-system, BlinkMacSystemFont, sans-serif; background-color: rgba(127, 127, 127, 0.1);\"><i>Minimum Desired Output:</i>&nbsp;The tag name for the most popular tag used for the most tagged book.&nbsp;</span> \n",
                "> \n",
                "> <span style=\"font-family: -apple-system, BlinkMacSystemFont, sans-serif; background-color: rgba(127, 127, 127, 0.1);\"><b>Tag Name:</b></span>"
            ],
            "metadata": {
                "azdata_cell_guid": "a685e9cc-2ae2-40e8-8cc1-022c8064d66d"
            },
            "attachments": {}
        },
        {
            "cell_type": "code",
            "source": [
                "-- Code Here:\n",
                "SELECT TOP 3 b.title, SUM(bt.count) AS sum_count\n",
                "FROM BooksDB.dbo.books AS b\n",
                "INNER JOIN BooksDB.dbo.book_tags AS bt\n",
                "ON b.best_book_id = bt.goodreads_book_id\n",
                "GROUP BY b.title\n",
                "ORDER BY sum_count DESC;\n",
                ""
            ],
            "metadata": {
                "azdata_cell_guid": "de3ac253-6b47-4740-8c6e-5f9d1b0ce36b",
                "language": "sql"
            },
            "outputs": [
                {
                    "output_type": "display_data",
                    "data": {
                        "text/html": "(3 rows affected)"
                    },
                    "metadata": {}
                },
                {
                    "output_type": "display_data",
                    "data": {
                        "text/html": "Total execution time: 00:00:00.244"
                    },
                    "metadata": {}
                },
                {
                    "output_type": "execute_result",
                    "metadata": {},
                    "execution_count": 54,
                    "data": {
                        "application/vnd.dataresource+json": {
                            "schema": {
                                "fields": [
                                    {
                                        "name": "title"
                                    },
                                    {
                                        "name": "sum_count"
                                    }
                                ]
                            },
                            "data": [
                                {
                                    "title": "Harry Potter and the Sorcerer's Stone (Harry Potter, #1)",
                                    "sum_count": "786374"
                                },
                                {
                                    "title": "The Girl with the Dragon Tattoo (Millennium, #1)",
                                    "sum_count": "679219"
                                },
                                {
                                    "title": "The Alchemist",
                                    "sum_count": "675971"
                                }
                            ]
                        },
                        "text/html": [
                            "<table>",
                            "<tr><th>title</th><th>sum_count</th></tr>",
                            "<tr><td>Harry Potter and the Sorcerer's Stone (Harry Potter, #1)</td><td>786374</td></tr>",
                            "<tr><td>The Girl with the Dragon Tattoo (Millennium, #1)</td><td>679219</td></tr>",
                            "<tr><td>The Alchemist</td><td>675971</td></tr>",
                            "</table>"
                        ]
                    }
                }
            ],
            "execution_count": 54
        },
        {
            "cell_type": "code",
            "source": [
                "-- Code Here: THIS CODE GIVES THE NUMBER OF UNIQUE TAGS FOR HP1\n",
                "-- SELECT COUNT(DISTINCT(bt.tag_id)) AS count_tags\n",
                "-- FROM BooksDB.dbo.books AS b\n",
                "-- INNER JOIN BooksDB.dbo.book_tags AS bt\n",
                "-- ON b.best_book_id = bt.goodreads_book_id\n",
                "-- WHERE b.title LIKE 'Harry Potter and the Sorcerer%'\n",
                "\n",
                "SELECT bt.tag_id, COUNT(bt.tag_id) AS count_tags\n",
                "FROM BooksDB.dbo.books AS b\n",
                "INNER JOIN BooksDB.dbo.book_tags AS bt\n",
                "ON b.best_book_id = bt.goodreads_book_id\n",
                "WHERE b.title LIKE 'Harry Potter and the Sorcer%'\n",
                "GROUP BY bt.tag_id\n",
                "ORDER BY count_tags DESC;\n",
                "\n",
                ""
            ],
            "metadata": {
                "language": "sql",
                "azdata_cell_guid": "86c708b8-8a67-4219-bf96-16754f43752d"
            },
            "outputs": [
                {
                    "output_type": "display_data",
                    "data": {
                        "text/html": "(99 rows affected)"
                    },
                    "metadata": {}
                },
                {
                    "output_type": "display_data",
                    "data": {
                        "text/html": "Total execution time: 00:00:00.136"
                    },
                    "metadata": {}
                },
                {
                    "output_type": "execute_result",
                    "metadata": {},
                    "execution_count": 92,
                    "data": {
                        "application/vnd.dataresource+json": {
                            "schema": {
                                "fields": [
                                    {
                                        "name": "tag_id"
                                    },
                                    {
                                        "name": "count_tags"
                                    }
                                ]
                            },
                            "data": [
                                {
                                    "tag_id": "22743",
                                    "count_tags": "2"
                                },
                                {
                                    "tag_id": "17213",
                                    "count_tags": "1"
                                },
                                {
                                    "tag_id": "18045",
                                    "count_tags": "1"
                                },
                                {
                                    "tag_id": "18886",
                                    "count_tags": "1"
                                },
                                {
                                    "tag_id": "19974",
                                    "count_tags": "1"
                                },
                                {
                                    "tag_id": "20774",
                                    "count_tags": "1"
                                },
                                {
                                    "tag_id": "20781",
                                    "count_tags": "1"
                                },
                                {
                                    "tag_id": "20824",
                                    "count_tags": "1"
                                },
                                {
                                    "tag_id": "20849",
                                    "count_tags": "1"
                                },
                                {
                                    "tag_id": "20939",
                                    "count_tags": "1"
                                },
                                {
                                    "tag_id": "21989",
                                    "count_tags": "1"
                                },
                                {
                                    "tag_id": "22034",
                                    "count_tags": "1"
                                },
                                {
                                    "tag_id": "22352",
                                    "count_tags": "1"
                                },
                                {
                                    "tag_id": "22689",
                                    "count_tags": "1"
                                },
                                {
                                    "tag_id": "22753",
                                    "count_tags": "1"
                                },
                                {
                                    "tag_id": "22973",
                                    "count_tags": "1"
                                },
                                {
                                    "tag_id": "24960",
                                    "count_tags": "1"
                                },
                                {
                                    "tag_id": "24963",
                                    "count_tags": "1"
                                },
                                {
                                    "tag_id": "24964",
                                    "count_tags": "1"
                                },
                                {
                                    "tag_id": "24997",
                                    "count_tags": "1"
                                },
                                {
                                    "tag_id": "24999",
                                    "count_tags": "1"
                                },
                                {
                                    "tag_id": "25149",
                                    "count_tags": "1"
                                },
                                {
                                    "tag_id": "25150",
                                    "count_tags": "1"
                                },
                                {
                                    "tag_id": "25151",
                                    "count_tags": "1"
                                },
                                {
                                    "tag_id": "25152",
                                    "count_tags": "1"
                                },
                                {
                                    "tag_id": "25153",
                                    "count_tags": "1"
                                },
                                {
                                    "tag_id": "25167",
                                    "count_tags": "1"
                                },
                                {
                                    "tag_id": "25234",
                                    "count_tags": "1"
                                },
                                {
                                    "tag_id": "25765",
                                    "count_tags": "1"
                                },
                                {
                                    "tag_id": "25770",
                                    "count_tags": "1"
                                },
                                {
                                    "tag_id": "26785",
                                    "count_tags": "1"
                                },
                                {
                                    "tag_id": "26842",
                                    "count_tags": "1"
                                },
                                {
                                    "tag_id": "26897",
                                    "count_tags": "1"
                                },
                                {
                                    "tag_id": "27199",
                                    "count_tags": "1"
                                },
                                {
                                    "tag_id": "27535",
                                    "count_tags": "1"
                                },
                                {
                                    "tag_id": "29011",
                                    "count_tags": "1"
                                },
                                {
                                    "tag_id": "29452",
                                    "count_tags": "1"
                                },
                                {
                                    "tag_id": "30521",
                                    "count_tags": "1"
                                },
                                {
                                    "tag_id": "30573",
                                    "count_tags": "1"
                                },
                                {
                                    "tag_id": "30574",
                                    "count_tags": "1"
                                },
                                {
                                    "tag_id": "31617",
                                    "count_tags": "1"
                                },
                                {
                                    "tag_id": "32623",
                                    "count_tags": "1"
                                },
                                {
                                    "tag_id": "32654",
                                    "count_tags": "1"
                                },
                                {
                                    "tag_id": "32989",
                                    "count_tags": "1"
                                },
                                {
                                    "tag_id": "33009",
                                    "count_tags": "1"
                                },
                                {
                                    "tag_id": "33012",
                                    "count_tags": "1"
                                },
                                {
                                    "tag_id": "33114",
                                    "count_tags": "1"
                                },
                                {
                                    "tag_id": "33124",
                                    "count_tags": "1"
                                },
                                {
                                    "tag_id": "33165",
                                    "count_tags": "1"
                                },
                                {
                                    "tag_id": "1128",
                                    "count_tags": "1"
                                },
                                {
                                    "tag_id": "1691",
                                    "count_tags": "1"
                                },
                                {
                                    "tag_id": "2104",
                                    "count_tags": "1"
                                },
                                {
                                    "tag_id": "2106",
                                    "count_tags": "1"
                                },
                                {
                                    "tag_id": "3371",
                                    "count_tags": "1"
                                },
                                {
                                    "tag_id": "3389",
                                    "count_tags": "1"
                                },
                                {
                                    "tag_id": "3392",
                                    "count_tags": "1"
                                },
                                {
                                    "tag_id": "5090",
                                    "count_tags": "1"
                                },
                                {
                                    "tag_id": "5207",
                                    "count_tags": "1"
                                },
                                {
                                    "tag_id": "5444",
                                    "count_tags": "1"
                                },
                                {
                                    "tag_id": "5751",
                                    "count_tags": "1"
                                },
                                {
                                    "tag_id": "6828",
                                    "count_tags": "1"
                                },
                                {
                                    "tag_id": "6829",
                                    "count_tags": "1"
                                },
                                {
                                    "tag_id": "6838",
                                    "count_tags": "1"
                                },
                                {
                                    "tag_id": "6857",
                                    "count_tags": "1"
                                },
                                {
                                    "tag_id": "6888",
                                    "count_tags": "1"
                                },
                                {
                                    "tag_id": "6895",
                                    "count_tags": "1"
                                },
                                {
                                    "tag_id": "6914",
                                    "count_tags": "1"
                                },
                                {
                                    "tag_id": "6920",
                                    "count_tags": "1"
                                },
                                {
                                    "tag_id": "6953",
                                    "count_tags": "1"
                                },
                                {
                                    "tag_id": "6960",
                                    "count_tags": "1"
                                },
                                {
                                    "tag_id": "7404",
                                    "count_tags": "1"
                                },
                                {
                                    "tag_id": "7457",
                                    "count_tags": "1"
                                },
                                {
                                    "tag_id": "8055",
                                    "count_tags": "1"
                                },
                                {
                                    "tag_id": "8717",
                                    "count_tags": "1"
                                },
                                {
                                    "tag_id": "9221",
                                    "count_tags": "1"
                                },
                                {
                                    "tag_id": "10197",
                                    "count_tags": "1"
                                },
                                {
                                    "tag_id": "10641",
                                    "count_tags": "1"
                                },
                                {
                                    "tag_id": "10644",
                                    "count_tags": "1"
                                },
                                {
                                    "tag_id": "11305",
                                    "count_tags": "1"
                                },
                                {
                                    "tag_id": "11370",
                                    "count_tags": "1"
                                },
                                {
                                    "tag_id": "11491",
                                    "count_tags": "1"
                                },
                                {
                                    "tag_id": "11497",
                                    "count_tags": "1"
                                },
                                {
                                    "tag_id": "11505",
                                    "count_tags": "1"
                                },
                                {
                                    "tag_id": "11550",
                                    "count_tags": "1"
                                },
                                {
                                    "tag_id": "11557",
                                    "count_tags": "1"
                                },
                                {
                                    "tag_id": "11574",
                                    "count_tags": "1"
                                },
                                {
                                    "tag_id": "11579",
                                    "count_tags": "1"
                                },
                                {
                                    "tag_id": "11590",
                                    "count_tags": "1"
                                },
                                {
                                    "tag_id": "11595",
                                    "count_tags": "1"
                                },
                                {
                                    "tag_id": "11743",
                                    "count_tags": "1"
                                },
                                {
                                    "tag_id": "12600",
                                    "count_tags": "1"
                                },
                                {
                                    "tag_id": "14017",
                                    "count_tags": "1"
                                },
                                {
                                    "tag_id": "14024",
                                    "count_tags": "1"
                                },
                                {
                                    "tag_id": "15169",
                                    "count_tags": "1"
                                },
                                {
                                    "tag_id": "15965",
                                    "count_tags": "1"
                                },
                                {
                                    "tag_id": "16427",
                                    "count_tags": "1"
                                },
                                {
                                    "tag_id": "16799",
                                    "count_tags": "1"
                                },
                                {
                                    "tag_id": "17124",
                                    "count_tags": "1"
                                },
                                {
                                    "tag_id": "17129",
                                    "count_tags": "1"
                                }
                            ]
                        },
                        "text/html": [
                            "<table>",
                            "<tr><th>tag_id</th><th>count_tags</th></tr>",
                            "<tr><td>22743</td><td>2</td></tr>",
                            "<tr><td>17213</td><td>1</td></tr>",
                            "<tr><td>18045</td><td>1</td></tr>",
                            "<tr><td>18886</td><td>1</td></tr>",
                            "<tr><td>19974</td><td>1</td></tr>",
                            "<tr><td>20774</td><td>1</td></tr>",
                            "<tr><td>20781</td><td>1</td></tr>",
                            "<tr><td>20824</td><td>1</td></tr>",
                            "<tr><td>20849</td><td>1</td></tr>",
                            "<tr><td>20939</td><td>1</td></tr>",
                            "<tr><td>21989</td><td>1</td></tr>",
                            "<tr><td>22034</td><td>1</td></tr>",
                            "<tr><td>22352</td><td>1</td></tr>",
                            "<tr><td>22689</td><td>1</td></tr>",
                            "<tr><td>22753</td><td>1</td></tr>",
                            "<tr><td>22973</td><td>1</td></tr>",
                            "<tr><td>24960</td><td>1</td></tr>",
                            "<tr><td>24963</td><td>1</td></tr>",
                            "<tr><td>24964</td><td>1</td></tr>",
                            "<tr><td>24997</td><td>1</td></tr>",
                            "<tr><td>24999</td><td>1</td></tr>",
                            "<tr><td>25149</td><td>1</td></tr>",
                            "<tr><td>25150</td><td>1</td></tr>",
                            "<tr><td>25151</td><td>1</td></tr>",
                            "<tr><td>25152</td><td>1</td></tr>",
                            "<tr><td>25153</td><td>1</td></tr>",
                            "<tr><td>25167</td><td>1</td></tr>",
                            "<tr><td>25234</td><td>1</td></tr>",
                            "<tr><td>25765</td><td>1</td></tr>",
                            "<tr><td>25770</td><td>1</td></tr>",
                            "<tr><td>26785</td><td>1</td></tr>",
                            "<tr><td>26842</td><td>1</td></tr>",
                            "<tr><td>26897</td><td>1</td></tr>",
                            "<tr><td>27199</td><td>1</td></tr>",
                            "<tr><td>27535</td><td>1</td></tr>",
                            "<tr><td>29011</td><td>1</td></tr>",
                            "<tr><td>29452</td><td>1</td></tr>",
                            "<tr><td>30521</td><td>1</td></tr>",
                            "<tr><td>30573</td><td>1</td></tr>",
                            "<tr><td>30574</td><td>1</td></tr>",
                            "<tr><td>31617</td><td>1</td></tr>",
                            "<tr><td>32623</td><td>1</td></tr>",
                            "<tr><td>32654</td><td>1</td></tr>",
                            "<tr><td>32989</td><td>1</td></tr>",
                            "<tr><td>33009</td><td>1</td></tr>",
                            "<tr><td>33012</td><td>1</td></tr>",
                            "<tr><td>33114</td><td>1</td></tr>",
                            "<tr><td>33124</td><td>1</td></tr>",
                            "<tr><td>33165</td><td>1</td></tr>",
                            "<tr><td>1128</td><td>1</td></tr>",
                            "<tr><td>1691</td><td>1</td></tr>",
                            "<tr><td>2104</td><td>1</td></tr>",
                            "<tr><td>2106</td><td>1</td></tr>",
                            "<tr><td>3371</td><td>1</td></tr>",
                            "<tr><td>3389</td><td>1</td></tr>",
                            "<tr><td>3392</td><td>1</td></tr>",
                            "<tr><td>5090</td><td>1</td></tr>",
                            "<tr><td>5207</td><td>1</td></tr>",
                            "<tr><td>5444</td><td>1</td></tr>",
                            "<tr><td>5751</td><td>1</td></tr>",
                            "<tr><td>6828</td><td>1</td></tr>",
                            "<tr><td>6829</td><td>1</td></tr>",
                            "<tr><td>6838</td><td>1</td></tr>",
                            "<tr><td>6857</td><td>1</td></tr>",
                            "<tr><td>6888</td><td>1</td></tr>",
                            "<tr><td>6895</td><td>1</td></tr>",
                            "<tr><td>6914</td><td>1</td></tr>",
                            "<tr><td>6920</td><td>1</td></tr>",
                            "<tr><td>6953</td><td>1</td></tr>",
                            "<tr><td>6960</td><td>1</td></tr>",
                            "<tr><td>7404</td><td>1</td></tr>",
                            "<tr><td>7457</td><td>1</td></tr>",
                            "<tr><td>8055</td><td>1</td></tr>",
                            "<tr><td>8717</td><td>1</td></tr>",
                            "<tr><td>9221</td><td>1</td></tr>",
                            "<tr><td>10197</td><td>1</td></tr>",
                            "<tr><td>10641</td><td>1</td></tr>",
                            "<tr><td>10644</td><td>1</td></tr>",
                            "<tr><td>11305</td><td>1</td></tr>",
                            "<tr><td>11370</td><td>1</td></tr>",
                            "<tr><td>11491</td><td>1</td></tr>",
                            "<tr><td>11497</td><td>1</td></tr>",
                            "<tr><td>11505</td><td>1</td></tr>",
                            "<tr><td>11550</td><td>1</td></tr>",
                            "<tr><td>11557</td><td>1</td></tr>",
                            "<tr><td>11574</td><td>1</td></tr>",
                            "<tr><td>11579</td><td>1</td></tr>",
                            "<tr><td>11590</td><td>1</td></tr>",
                            "<tr><td>11595</td><td>1</td></tr>",
                            "<tr><td>11743</td><td>1</td></tr>",
                            "<tr><td>12600</td><td>1</td></tr>",
                            "<tr><td>14017</td><td>1</td></tr>",
                            "<tr><td>14024</td><td>1</td></tr>",
                            "<tr><td>15169</td><td>1</td></tr>",
                            "<tr><td>15965</td><td>1</td></tr>",
                            "<tr><td>16427</td><td>1</td></tr>",
                            "<tr><td>16799</td><td>1</td></tr>",
                            "<tr><td>17124</td><td>1</td></tr>",
                            "<tr><td>17129</td><td>1</td></tr>",
                            "</table>"
                        ]
                    }
                }
            ],
            "execution_count": 92
        },
        {
            "cell_type": "code",
            "source": [
                "SELECT tag_id, tag_name\n",
                "FROM BooksDB.dbo.tags\n",
                "WHERE tag_id = 22743"
            ],
            "metadata": {
                "azdata_cell_guid": "b8217c3e-6790-429c-9ef6-e11c98653188",
                "language": "sql"
            },
            "outputs": [
                {
                    "output_type": "display_data",
                    "data": {
                        "text/html": "(1 row affected)"
                    },
                    "metadata": {}
                },
                {
                    "output_type": "display_data",
                    "data": {
                        "text/html": "Total execution time: 00:00:00.043"
                    },
                    "metadata": {}
                },
                {
                    "output_type": "execute_result",
                    "metadata": {},
                    "execution_count": 93,
                    "data": {
                        "application/vnd.dataresource+json": {
                            "schema": {
                                "fields": [
                                    {
                                        "name": "tag_id"
                                    },
                                    {
                                        "name": "tag_name"
                                    }
                                ]
                            },
                            "data": [
                                {
                                    "tag_id": "22743",
                                    "tag_name": "owned"
                                }
                            ]
                        },
                        "text/html": [
                            "<table>",
                            "<tr><th>tag_id</th><th>tag_name</th></tr>",
                            "<tr><td>22743</td><td>owned</td></tr>",
                            "</table>"
                        ]
                    }
                }
            ],
            "execution_count": 93
        },
        {
            "cell_type": "markdown",
            "source": [
                "## **QUESTION 6:** Find a book based on a tag of your choice using joins.\n",
                "\n",
                "Some suggestions: any hobbies you like? baking, drawing, etc. how about favorite holidays, subjects, animals, etc?\n",
                "\n",
                "**Part A:** Explore the tags table for a tag of your choice.  Suggested ideas, try searching for one of your hobbies, a favorite time of year, favorite animal, etc.  Start by querying the tag table for your chosen tag.  (_Hint:_ in order to make sure you find all combinations of your tags, use the wildcard).  If your query returns more than one result, pick your favorite.\n",
                "\n",
                "> > _Here is an example.  Alyce wanted to search for halloween books.  She used the wildcard, '%halloween%' and 8 different combinations were found.  Alyce selected '**halloween-storytime**', with a tag id of 13877._\n",
                "\n",
                "> _Minimum Desired Output:_ <span style=\"font-family: -apple-system, BlinkMacSystemFont, sans-serif; background-color: rgba(127, 127, 127, 0.1);\">tag name and tag id</span>\n",
                "\n",
                "> **Your Tag and Tag Id:** **supernatural-thriller, 29021**\n",
                "\n",
                "**Part B:** Now that you have the **tag id**, find the title that was tagged the most with this tag by joining the books and books\\_tags tables.\n",
                "\n",
                "> > _Alyce joined the book table with the tags table and discovered that <u>The Little Old Lady Who Was Not Afraid of Anything</u> was tagged as '**halloween-storytime**' the most._\n",
                "\n",
                "> _Minimum Desired Output:_ <span style=\"background-color: rgba(127, 127, 127, 0.1); font-family: -apple-system, BlinkMacSystemFont, sans-serif;\">title and tag count</span>\n",
                "\n",
                "> **Your Title and Number of times the tag was used:**"
            ],
            "metadata": {
                "azdata_cell_guid": "df783e7e-3aff-4e63-9edb-f2e729c7d1c8"
            },
            "attachments": {}
        },
        {
            "cell_type": "code",
            "source": [
                "-- Code Here:\n",
                "SELECT tag_name, tag_id FROM BooksDB.dbo.tags \n",
                "WHERE tag_name LIKE '%thriller%';"
            ],
            "metadata": {
                "azdata_cell_guid": "c4b0b67c-7cfa-4f52-be97-ffe5cc28ed54",
                "tags": [],
                "language": "sql"
            },
            "outputs": [
                {
                    "output_type": "display_data",
                    "data": {
                        "text/html": "(170 rows affected)"
                    },
                    "metadata": {}
                },
                {
                    "output_type": "display_data",
                    "data": {
                        "text/html": "Total execution time: 00:00:00.116"
                    },
                    "metadata": {}
                },
                {
                    "output_type": "execute_result",
                    "metadata": {},
                    "execution_count": 81,
                    "data": {
                        "application/vnd.dataresource+json": {
                            "schema": {
                                "fields": [
                                    {
                                        "name": "tag_name"
                                    },
                                    {
                                        "name": "tag_id"
                                    }
                                ]
                            },
                            "data": [
                                {
                                    "tag_name": "3-mystery-thrillers",
                                    "tag_id": "1000"
                                },
                                {
                                    "tag_name": "5-thriller",
                                    "tag_id": "1130"
                                },
                                {
                                    "tag_name": "70-spy-thriller",
                                    "tag_id": "1218"
                                },
                                {
                                    "tag_name": "a-thriller-serial-killer",
                                    "tag_id": "1382"
                                },
                                {
                                    "tag_name": "about-to-read-mystery-thriller",
                                    "tag_id": "1476"
                                },
                                {
                                    "tag_name": "action-adventure-thriller",
                                    "tag_id": "1543"
                                },
                                {
                                    "tag_name": "action-suspense-thriller",
                                    "tag_id": "1553"
                                },
                                {
                                    "tag_name": "action-thriller",
                                    "tag_id": "1554"
                                },
                                {
                                    "tag_name": "action-thriller-jack-west-jr",
                                    "tag_id": "1555"
                                },
                                {
                                    "tag_name": "action-thriller-mystery",
                                    "tag_id": "1556"
                                },
                                {
                                    "tag_name": "action-thrillers",
                                    "tag_id": "1557"
                                },
                                {
                                    "tag_name": "adventure-thriller",
                                    "tag_id": "1708"
                                },
                                {
                                    "tag_name": "archaeological-thrillers",
                                    "tag_id": "2857"
                                },
                                {
                                    "tag_name": "art-history-thriller",
                                    "tag_id": "3037"
                                },
                                {
                                    "tag_name": "british-thrillers",
                                    "tag_id": "5785"
                                },
                                {
                                    "tag_name": "c-thriller-horror",
                                    "tag_id": "6074"
                                },
                                {
                                    "tag_name": "catherine-coulter-fbi-thriller",
                                    "tag_id": "6422"
                                },
                                {
                                    "tag_name": "christian-fiction-thriller",
                                    "tag_id": "7123"
                                },
                                {
                                    "tag_name": "christian-psychological-thriller",
                                    "tag_id": "7163"
                                },
                                {
                                    "tag_name": "christian-thriller",
                                    "tag_id": "7188"
                                },
                                {
                                    "tag_name": "christian-thrillers",
                                    "tag_id": "7189"
                                },
                                {
                                    "tag_name": "conspiracy-thriller",
                                    "tag_id": "8025"
                                },
                                {
                                    "tag_name": "cotton-malone-thriller-charlemagne",
                                    "tag_id": "8340"
                                },
                                {
                                    "tag_name": "crime-and-thriller",
                                    "tag_id": "8521"
                                },
                                {
                                    "tag_name": "crime-and-thrillers",
                                    "tag_id": "8522"
                                },
                                {
                                    "tag_name": "crime-legal-thriller",
                                    "tag_id": "8531"
                                },
                                {
                                    "tag_name": "crime-mystery-thriller",
                                    "tag_id": "8535"
                                },
                                {
                                    "tag_name": "crime-thriller",
                                    "tag_id": "8545"
                                },
                                {
                                    "tag_name": "crime-thriller-horror",
                                    "tag_id": "8546"
                                },
                                {
                                    "tag_name": "crime-thriller-mystery",
                                    "tag_id": "8547"
                                },
                                {
                                    "tag_name": "crime-thriller-suspense",
                                    "tag_id": "8548"
                                },
                                {
                                    "tag_name": "crime-thrillers",
                                    "tag_id": "8549"
                                },
                                {
                                    "tag_name": "detective-mystery-suspense-thriller",
                                    "tag_id": "9348"
                                },
                                {
                                    "tag_name": "detective-thriller",
                                    "tag_id": "9356"
                                },
                                {
                                    "tag_name": "eco-thriller",
                                    "tag_id": "10231"
                                },
                                {
                                    "tag_name": "espionage-thriller",
                                    "tag_id": "10871"
                                },
                                {
                                    "tag_name": "eve-duncan-forensic-thriller",
                                    "tag_id": "10965"
                                },
                                {
                                    "tag_name": "favourite-horror-and-thriller",
                                    "tag_id": "11586"
                                },
                                {
                                    "tag_name": "fbi-thriller",
                                    "tag_id": "11603"
                                },
                                {
                                    "tag_name": "fbi-thriller-series",
                                    "tag_id": "11604"
                                },
                                {
                                    "tag_name": "fiction-action-thriller",
                                    "tag_id": "11748"
                                },
                                {
                                    "tag_name": "fiction-thriller",
                                    "tag_id": "11833"
                                },
                                {
                                    "tag_name": "forensic-medicine-thriller",
                                    "tag_id": "12360"
                                },
                                {
                                    "tag_name": "forensic-thriller",
                                    "tag_id": "12365"
                                },
                                {
                                    "tag_name": "genre-thriller",
                                    "tag_id": "13036"
                                },
                                {
                                    "tag_name": "gialli-e-thriller",
                                    "tag_id": "13158"
                                },
                                {
                                    "tag_name": "historical-thriller",
                                    "tag_id": "14535"
                                },
                                {
                                    "tag_name": "historical-thrillers",
                                    "tag_id": "14536"
                                },
                                {
                                    "tag_name": "horror-mystery-thriller",
                                    "tag_id": "14842"
                                },
                                {
                                    "tag_name": "horror-suspense-thriller",
                                    "tag_id": "14853"
                                },
                                {
                                    "tag_name": "horror-thriller",
                                    "tag_id": "14856"
                                },
                                {
                                    "tag_name": "horror-thriller-crime-mystery",
                                    "tag_id": "14857"
                                },
                                {
                                    "tag_name": "horror-thriller-mystery",
                                    "tag_id": "14858"
                                },
                                {
                                    "tag_name": "horror-thrillers",
                                    "tag_id": "14859"
                                },
                                {
                                    "tag_name": "horror-und-thriller",
                                    "tag_id": "14861"
                                },
                                {
                                    "tag_name": "international-thriller",
                                    "tag_id": "15708"
                                },
                                {
                                    "tag_name": "kindle-county-legal-thriller",
                                    "tag_id": "17225"
                                },
                                {
                                    "tag_name": "krimi-thriller",
                                    "tag_id": "17443"
                                },
                                {
                                    "tag_name": "legal-drama-thriller",
                                    "tag_id": "17859"
                                },
                                {
                                    "tag_name": "legal-thriller",
                                    "tag_id": "17863"
                                },
                                {
                                    "tag_name": "legal-thrillers",
                                    "tag_id": "17864"
                                },
                                {
                                    "tag_name": "literary-thriller",
                                    "tag_id": "18336"
                                },
                                {
                                    "tag_name": "medical-thriller",
                                    "tag_id": "19654"
                                },
                                {
                                    "tag_name": "medical-thrillers",
                                    "tag_id": "19655"
                                },
                                {
                                    "tag_name": "military-political-thriller",
                                    "tag_id": "20062"
                                },
                                {
                                    "tag_name": "military-thriller",
                                    "tag_id": "20072"
                                },
                                {
                                    "tag_name": "military-thrillers",
                                    "tag_id": "20073"
                                },
                                {
                                    "tag_name": "my-thrillers",
                                    "tag_id": "20893"
                                },
                                {
                                    "tag_name": "myster-suspense-thriller",
                                    "tag_id": "20924"
                                },
                                {
                                    "tag_name": "mysteries-and-thrillers",
                                    "tag_id": "20927"
                                },
                                {
                                    "tag_name": "mysteries-thrillers",
                                    "tag_id": "20933"
                                },
                                {
                                    "tag_name": "mysteries-thrillers-to-read",
                                    "tag_id": "20934"
                                },
                                {
                                    "tag_name": "mystery---thrillers",
                                    "tag_id": "20940"
                                },
                                {
                                    "tag_name": "mystery-adventure-thrillers",
                                    "tag_id": "20944"
                                },
                                {
                                    "tag_name": "mystery-and-thriller",
                                    "tag_id": "20949"
                                },
                                {
                                    "tag_name": "mystery-and-thrillers",
                                    "tag_id": "20950"
                                },
                                {
                                    "tag_name": "mystery-crime-thriller",
                                    "tag_id": "20961"
                                },
                                {
                                    "tag_name": "mystery-detective-thriller",
                                    "tag_id": "20966"
                                },
                                {
                                    "tag_name": "mystery-horror-thriller",
                                    "tag_id": "20973"
                                },
                                {
                                    "tag_name": "mystery-suspense-thriller",
                                    "tag_id": "20991"
                                },
                                {
                                    "tag_name": "mystery-suspense-thriller-horror",
                                    "tag_id": "20992"
                                },
                                {
                                    "tag_name": "mystery-suspense-thrillers",
                                    "tag_id": "20993"
                                },
                                {
                                    "tag_name": "mystery-thriller",
                                    "tag_id": "20994"
                                },
                                {
                                    "tag_name": "mystery-thriller-and-suspense",
                                    "tag_id": "20995"
                                },
                                {
                                    "tag_name": "mystery-thriller-crime",
                                    "tag_id": "20996"
                                },
                                {
                                    "tag_name": "mystery-thriller-detective-spy",
                                    "tag_id": "20997"
                                },
                                {
                                    "tag_name": "mystery-thriller-horror",
                                    "tag_id": "20998"
                                },
                                {
                                    "tag_name": "mystery-thriller-spy",
                                    "tag_id": "20999"
                                },
                                {
                                    "tag_name": "mystery-thriller-suspence",
                                    "tag_id": "21000"
                                },
                                {
                                    "tag_name": "mystery-thriller-suspense",
                                    "tag_id": "21001"
                                },
                                {
                                    "tag_name": "mystery-thriller-suspense-horror",
                                    "tag_id": "21002"
                                },
                                {
                                    "tag_name": "mystery-thrillers",
                                    "tag_id": "21003"
                                },
                                {
                                    "tag_name": "nchs-legal-thrillers",
                                    "tag_id": "21233"
                                },
                                {
                                    "tag_name": "novel-thriller",
                                    "tag_id": "22008"
                                },
                                {
                                    "tag_name": "npr-top-100-killer-thrillers",
                                    "tag_id": "22074"
                                },
                                {
                                    "tag_name": "npr-top-100-thrillers",
                                    "tag_id": "22079"
                                },
                                {
                                    "tag_name": "police-thriller",
                                    "tag_id": "23890"
                                },
                                {
                                    "tag_name": "policier-thriller",
                                    "tag_id": "23897"
                                },
                                {
                                    "tag_name": "political-spy-thriller",
                                    "tag_id": "23924"
                                },
                                {
                                    "tag_name": "political-thriller",
                                    "tag_id": "23928"
                                },
                                {
                                    "tag_name": "political-thrillers",
                                    "tag_id": "23929"
                                },
                                {
                                    "tag_name": "psych-thriller",
                                    "tag_id": "24498"
                                },
                                {
                                    "tag_name": "psychological-thriller",
                                    "tag_id": "24521"
                                },
                                {
                                    "tag_name": "psychological-thrillers",
                                    "tag_id": "24522"
                                },
                                {
                                    "tag_name": "psychothriller",
                                    "tag_id": "24559"
                                },
                                {
                                    "tag_name": "religious-conspiracy-thriller",
                                    "tag_id": "25687"
                                },
                                {
                                    "tag_name": "religious-thriller",
                                    "tag_id": "25707"
                                },
                                {
                                    "tag_name": "romance-thriller",
                                    "tag_id": "26173"
                                },
                                {
                                    "tag_name": "romantic-thriller",
                                    "tag_id": "26208"
                                },
                                {
                                    "tag_name": "scandinavian-thrillers",
                                    "tag_id": "26694"
                                },
                                {
                                    "tag_name": "sci-fi-thriller",
                                    "tag_id": "26806"
                                },
                                {
                                    "tag_name": "science-fiction-thriller",
                                    "tag_id": "26849"
                                },
                                {
                                    "tag_name": "science-thriller",
                                    "tag_id": "26878"
                                },
                                {
                                    "tag_name": "science-thrillers",
                                    "tag_id": "26879"
                                },
                                {
                                    "tag_name": "scifi-thriller",
                                    "tag_id": "26903"
                                },
                                {
                                    "tag_name": "spy-novel-or-thriller",
                                    "tag_id": "28478"
                                },
                                {
                                    "tag_name": "spy-thriller",
                                    "tag_id": "28482"
                                },
                                {
                                    "tag_name": "spy-thriller-espionage",
                                    "tag_id": "28483"
                                },
                                {
                                    "tag_name": "spy-thrillers",
                                    "tag_id": "28484"
                                },
                                {
                                    "tag_name": "supence-thriller",
                                    "tag_id": "28990"
                                },
                                {
                                    "tag_name": "supernatural-thriller",
                                    "tag_id": "29021"
                                },
                                {
                                    "tag_name": "suspence-thriller",
                                    "tag_id": "29075"
                                },
                                {
                                    "tag_name": "suspense-and-thriller",
                                    "tag_id": "29077"
                                },
                                {
                                    "tag_name": "suspense-thriller",
                                    "tag_id": "29083"
                                },
                                {
                                    "tag_name": "suspense-thriller-horror",
                                    "tag_id": "29084"
                                },
                                {
                                    "tag_name": "suspense-thriller-mystery",
                                    "tag_id": "29085"
                                },
                                {
                                    "tag_name": "suspense-thrillers",
                                    "tag_id": "29086"
                                },
                                {
                                    "tag_name": "tbr-mystery-or-thriller",
                                    "tag_id": "29343"
                                },
                                {
                                    "tag_name": "tech-thriller",
                                    "tag_id": "29421"
                                },
                                {
                                    "tag_name": "techno-thriller",
                                    "tag_id": "29431"
                                },
                                {
                                    "tag_name": "techno-thrillers",
                                    "tag_id": "29432"
                                },
                                {
                                    "tag_name": "technothriller",
                                    "tag_id": "29436"
                                },
                                {
                                    "tag_name": "terrorism-thriller",
                                    "tag_id": "29554"
                                },
                                {
                                    "tag_name": "thriller",
                                    "tag_id": "30358"
                                },
                                {
                                    "tag_name": "thriller-action",
                                    "tag_id": "30359"
                                },
                                {
                                    "tag_name": "thriller-adventure",
                                    "tag_id": "30360"
                                },
                                {
                                    "tag_name": "thriller-and-horror",
                                    "tag_id": "30361"
                                },
                                {
                                    "tag_name": "thriller-crime",
                                    "tag_id": "30362"
                                },
                                {
                                    "tag_name": "thriller-deckare",
                                    "tag_id": "30363"
                                },
                                {
                                    "tag_name": "thriller-detective",
                                    "tag_id": "30364"
                                },
                                {
                                    "tag_name": "thriller-espionage",
                                    "tag_id": "30365"
                                },
                                {
                                    "tag_name": "thriller-espionage-mystery",
                                    "tag_id": "30366"
                                },
                                {
                                    "tag_name": "thriller-fiction",
                                    "tag_id": "30367"
                                },
                                {
                                    "tag_name": "thriller-horror",
                                    "tag_id": "30368"
                                },
                                {
                                    "tag_name": "thriller-legal",
                                    "tag_id": "30369"
                                },
                                {
                                    "tag_name": "thriller-legal-thriller",
                                    "tag_id": "30370"
                                },
                                {
                                    "tag_name": "thriller-medical",
                                    "tag_id": "30371"
                                },
                                {
                                    "tag_name": "thriller-military",
                                    "tag_id": "30372"
                                },
                                {
                                    "tag_name": "thriller-mystery",
                                    "tag_id": "30373"
                                },
                                {
                                    "tag_name": "thriller-mystery-horror",
                                    "tag_id": "30374"
                                },
                                {
                                    "tag_name": "thriller-mystery-suspense",
                                    "tag_id": "30375"
                                },
                                {
                                    "tag_name": "thriller-political",
                                    "tag_id": "30376"
                                },
                                {
                                    "tag_name": "thriller-psicológico",
                                    "tag_id": "30377"
                                },
                                {
                                    "tag_name": "thriller-romance",
                                    "tag_id": "30378"
                                },
                                {
                                    "tag_name": "thriller-spy",
                                    "tag_id": "30379"
                                },
                                {
                                    "tag_name": "thriller-spy-thriller",
                                    "tag_id": "30380"
                                },
                                {
                                    "tag_name": "thriller-suspense",
                                    "tag_id": "30381"
                                },
                                {
                                    "tag_name": "thriller-suspense-mystery",
                                    "tag_id": "30382"
                                },
                                {
                                    "tag_name": "thriller-to-read",
                                    "tag_id": "30383"
                                },
                                {
                                    "tag_name": "thriller_horror_mystery_sci-fi",
                                    "tag_id": "30384"
                                },
                                {
                                    "tag_name": "thrillere",
                                    "tag_id": "30385"
                                },
                                {
                                    "tag_name": "thrillers",
                                    "tag_id": "30386"
                                },
                                {
                                    "tag_name": "thrillers-and-crime",
                                    "tag_id": "30387"
                                },
                                {
                                    "tag_name": "thrillers-horror",
                                    "tag_id": "30388"
                                },
                                {
                                    "tag_name": "thrillers-mysteries",
                                    "tag_id": "30389"
                                },
                                {
                                    "tag_name": "thrillers-mystery",
                                    "tag_id": "30390"
                                },
                                {
                                    "tag_name": "thrillers-normal",
                                    "tag_id": "30391"
                                },
                                {
                                    "tag_name": "to-read-thriller",
                                    "tag_id": "30834"
                                },
                                {
                                    "tag_name": "war-thriller",
                                    "tag_id": "32154"
                                },
                                {
                                    "tag_name": "y-mystery-thriller",
                                    "tag_id": "32980"
                                }
                            ]
                        },
                        "text/html": [
                            "<table>",
                            "<tr><th>tag_name</th><th>tag_id</th></tr>",
                            "<tr><td>3-mystery-thrillers</td><td>1000</td></tr>",
                            "<tr><td>5-thriller</td><td>1130</td></tr>",
                            "<tr><td>70-spy-thriller</td><td>1218</td></tr>",
                            "<tr><td>a-thriller-serial-killer</td><td>1382</td></tr>",
                            "<tr><td>about-to-read-mystery-thriller</td><td>1476</td></tr>",
                            "<tr><td>action-adventure-thriller</td><td>1543</td></tr>",
                            "<tr><td>action-suspense-thriller</td><td>1553</td></tr>",
                            "<tr><td>action-thriller</td><td>1554</td></tr>",
                            "<tr><td>action-thriller-jack-west-jr</td><td>1555</td></tr>",
                            "<tr><td>action-thriller-mystery</td><td>1556</td></tr>",
                            "<tr><td>action-thrillers</td><td>1557</td></tr>",
                            "<tr><td>adventure-thriller</td><td>1708</td></tr>",
                            "<tr><td>archaeological-thrillers</td><td>2857</td></tr>",
                            "<tr><td>art-history-thriller</td><td>3037</td></tr>",
                            "<tr><td>british-thrillers</td><td>5785</td></tr>",
                            "<tr><td>c-thriller-horror</td><td>6074</td></tr>",
                            "<tr><td>catherine-coulter-fbi-thriller</td><td>6422</td></tr>",
                            "<tr><td>christian-fiction-thriller</td><td>7123</td></tr>",
                            "<tr><td>christian-psychological-thriller</td><td>7163</td></tr>",
                            "<tr><td>christian-thriller</td><td>7188</td></tr>",
                            "<tr><td>christian-thrillers</td><td>7189</td></tr>",
                            "<tr><td>conspiracy-thriller</td><td>8025</td></tr>",
                            "<tr><td>cotton-malone-thriller-charlemagne</td><td>8340</td></tr>",
                            "<tr><td>crime-and-thriller</td><td>8521</td></tr>",
                            "<tr><td>crime-and-thrillers</td><td>8522</td></tr>",
                            "<tr><td>crime-legal-thriller</td><td>8531</td></tr>",
                            "<tr><td>crime-mystery-thriller</td><td>8535</td></tr>",
                            "<tr><td>crime-thriller</td><td>8545</td></tr>",
                            "<tr><td>crime-thriller-horror</td><td>8546</td></tr>",
                            "<tr><td>crime-thriller-mystery</td><td>8547</td></tr>",
                            "<tr><td>crime-thriller-suspense</td><td>8548</td></tr>",
                            "<tr><td>crime-thrillers</td><td>8549</td></tr>",
                            "<tr><td>detective-mystery-suspense-thriller</td><td>9348</td></tr>",
                            "<tr><td>detective-thriller</td><td>9356</td></tr>",
                            "<tr><td>eco-thriller</td><td>10231</td></tr>",
                            "<tr><td>espionage-thriller</td><td>10871</td></tr>",
                            "<tr><td>eve-duncan-forensic-thriller</td><td>10965</td></tr>",
                            "<tr><td>favourite-horror-and-thriller</td><td>11586</td></tr>",
                            "<tr><td>fbi-thriller</td><td>11603</td></tr>",
                            "<tr><td>fbi-thriller-series</td><td>11604</td></tr>",
                            "<tr><td>fiction-action-thriller</td><td>11748</td></tr>",
                            "<tr><td>fiction-thriller</td><td>11833</td></tr>",
                            "<tr><td>forensic-medicine-thriller</td><td>12360</td></tr>",
                            "<tr><td>forensic-thriller</td><td>12365</td></tr>",
                            "<tr><td>genre-thriller</td><td>13036</td></tr>",
                            "<tr><td>gialli-e-thriller</td><td>13158</td></tr>",
                            "<tr><td>historical-thriller</td><td>14535</td></tr>",
                            "<tr><td>historical-thrillers</td><td>14536</td></tr>",
                            "<tr><td>horror-mystery-thriller</td><td>14842</td></tr>",
                            "<tr><td>horror-suspense-thriller</td><td>14853</td></tr>",
                            "<tr><td>horror-thriller</td><td>14856</td></tr>",
                            "<tr><td>horror-thriller-crime-mystery</td><td>14857</td></tr>",
                            "<tr><td>horror-thriller-mystery</td><td>14858</td></tr>",
                            "<tr><td>horror-thrillers</td><td>14859</td></tr>",
                            "<tr><td>horror-und-thriller</td><td>14861</td></tr>",
                            "<tr><td>international-thriller</td><td>15708</td></tr>",
                            "<tr><td>kindle-county-legal-thriller</td><td>17225</td></tr>",
                            "<tr><td>krimi-thriller</td><td>17443</td></tr>",
                            "<tr><td>legal-drama-thriller</td><td>17859</td></tr>",
                            "<tr><td>legal-thriller</td><td>17863</td></tr>",
                            "<tr><td>legal-thrillers</td><td>17864</td></tr>",
                            "<tr><td>literary-thriller</td><td>18336</td></tr>",
                            "<tr><td>medical-thriller</td><td>19654</td></tr>",
                            "<tr><td>medical-thrillers</td><td>19655</td></tr>",
                            "<tr><td>military-political-thriller</td><td>20062</td></tr>",
                            "<tr><td>military-thriller</td><td>20072</td></tr>",
                            "<tr><td>military-thrillers</td><td>20073</td></tr>",
                            "<tr><td>my-thrillers</td><td>20893</td></tr>",
                            "<tr><td>myster-suspense-thriller</td><td>20924</td></tr>",
                            "<tr><td>mysteries-and-thrillers</td><td>20927</td></tr>",
                            "<tr><td>mysteries-thrillers</td><td>20933</td></tr>",
                            "<tr><td>mysteries-thrillers-to-read</td><td>20934</td></tr>",
                            "<tr><td>mystery---thrillers</td><td>20940</td></tr>",
                            "<tr><td>mystery-adventure-thrillers</td><td>20944</td></tr>",
                            "<tr><td>mystery-and-thriller</td><td>20949</td></tr>",
                            "<tr><td>mystery-and-thrillers</td><td>20950</td></tr>",
                            "<tr><td>mystery-crime-thriller</td><td>20961</td></tr>",
                            "<tr><td>mystery-detective-thriller</td><td>20966</td></tr>",
                            "<tr><td>mystery-horror-thriller</td><td>20973</td></tr>",
                            "<tr><td>mystery-suspense-thriller</td><td>20991</td></tr>",
                            "<tr><td>mystery-suspense-thriller-horror</td><td>20992</td></tr>",
                            "<tr><td>mystery-suspense-thrillers</td><td>20993</td></tr>",
                            "<tr><td>mystery-thriller</td><td>20994</td></tr>",
                            "<tr><td>mystery-thriller-and-suspense</td><td>20995</td></tr>",
                            "<tr><td>mystery-thriller-crime</td><td>20996</td></tr>",
                            "<tr><td>mystery-thriller-detective-spy</td><td>20997</td></tr>",
                            "<tr><td>mystery-thriller-horror</td><td>20998</td></tr>",
                            "<tr><td>mystery-thriller-spy</td><td>20999</td></tr>",
                            "<tr><td>mystery-thriller-suspence</td><td>21000</td></tr>",
                            "<tr><td>mystery-thriller-suspense</td><td>21001</td></tr>",
                            "<tr><td>mystery-thriller-suspense-horror</td><td>21002</td></tr>",
                            "<tr><td>mystery-thrillers</td><td>21003</td></tr>",
                            "<tr><td>nchs-legal-thrillers</td><td>21233</td></tr>",
                            "<tr><td>novel-thriller</td><td>22008</td></tr>",
                            "<tr><td>npr-top-100-killer-thrillers</td><td>22074</td></tr>",
                            "<tr><td>npr-top-100-thrillers</td><td>22079</td></tr>",
                            "<tr><td>police-thriller</td><td>23890</td></tr>",
                            "<tr><td>policier-thriller</td><td>23897</td></tr>",
                            "<tr><td>political-spy-thriller</td><td>23924</td></tr>",
                            "<tr><td>political-thriller</td><td>23928</td></tr>",
                            "<tr><td>political-thrillers</td><td>23929</td></tr>",
                            "<tr><td>psych-thriller</td><td>24498</td></tr>",
                            "<tr><td>psychological-thriller</td><td>24521</td></tr>",
                            "<tr><td>psychological-thrillers</td><td>24522</td></tr>",
                            "<tr><td>psychothriller</td><td>24559</td></tr>",
                            "<tr><td>religious-conspiracy-thriller</td><td>25687</td></tr>",
                            "<tr><td>religious-thriller</td><td>25707</td></tr>",
                            "<tr><td>romance-thriller</td><td>26173</td></tr>",
                            "<tr><td>romantic-thriller</td><td>26208</td></tr>",
                            "<tr><td>scandinavian-thrillers</td><td>26694</td></tr>",
                            "<tr><td>sci-fi-thriller</td><td>26806</td></tr>",
                            "<tr><td>science-fiction-thriller</td><td>26849</td></tr>",
                            "<tr><td>science-thriller</td><td>26878</td></tr>",
                            "<tr><td>science-thrillers</td><td>26879</td></tr>",
                            "<tr><td>scifi-thriller</td><td>26903</td></tr>",
                            "<tr><td>spy-novel-or-thriller</td><td>28478</td></tr>",
                            "<tr><td>spy-thriller</td><td>28482</td></tr>",
                            "<tr><td>spy-thriller-espionage</td><td>28483</td></tr>",
                            "<tr><td>spy-thrillers</td><td>28484</td></tr>",
                            "<tr><td>supence-thriller</td><td>28990</td></tr>",
                            "<tr><td>supernatural-thriller</td><td>29021</td></tr>",
                            "<tr><td>suspence-thriller</td><td>29075</td></tr>",
                            "<tr><td>suspense-and-thriller</td><td>29077</td></tr>",
                            "<tr><td>suspense-thriller</td><td>29083</td></tr>",
                            "<tr><td>suspense-thriller-horror</td><td>29084</td></tr>",
                            "<tr><td>suspense-thriller-mystery</td><td>29085</td></tr>",
                            "<tr><td>suspense-thrillers</td><td>29086</td></tr>",
                            "<tr><td>tbr-mystery-or-thriller</td><td>29343</td></tr>",
                            "<tr><td>tech-thriller</td><td>29421</td></tr>",
                            "<tr><td>techno-thriller</td><td>29431</td></tr>",
                            "<tr><td>techno-thrillers</td><td>29432</td></tr>",
                            "<tr><td>technothriller</td><td>29436</td></tr>",
                            "<tr><td>terrorism-thriller</td><td>29554</td></tr>",
                            "<tr><td>thriller</td><td>30358</td></tr>",
                            "<tr><td>thriller-action</td><td>30359</td></tr>",
                            "<tr><td>thriller-adventure</td><td>30360</td></tr>",
                            "<tr><td>thriller-and-horror</td><td>30361</td></tr>",
                            "<tr><td>thriller-crime</td><td>30362</td></tr>",
                            "<tr><td>thriller-deckare</td><td>30363</td></tr>",
                            "<tr><td>thriller-detective</td><td>30364</td></tr>",
                            "<tr><td>thriller-espionage</td><td>30365</td></tr>",
                            "<tr><td>thriller-espionage-mystery</td><td>30366</td></tr>",
                            "<tr><td>thriller-fiction</td><td>30367</td></tr>",
                            "<tr><td>thriller-horror</td><td>30368</td></tr>",
                            "<tr><td>thriller-legal</td><td>30369</td></tr>",
                            "<tr><td>thriller-legal-thriller</td><td>30370</td></tr>",
                            "<tr><td>thriller-medical</td><td>30371</td></tr>",
                            "<tr><td>thriller-military</td><td>30372</td></tr>",
                            "<tr><td>thriller-mystery</td><td>30373</td></tr>",
                            "<tr><td>thriller-mystery-horror</td><td>30374</td></tr>",
                            "<tr><td>thriller-mystery-suspense</td><td>30375</td></tr>",
                            "<tr><td>thriller-political</td><td>30376</td></tr>",
                            "<tr><td>thriller-psicológico</td><td>30377</td></tr>",
                            "<tr><td>thriller-romance</td><td>30378</td></tr>",
                            "<tr><td>thriller-spy</td><td>30379</td></tr>",
                            "<tr><td>thriller-spy-thriller</td><td>30380</td></tr>",
                            "<tr><td>thriller-suspense</td><td>30381</td></tr>",
                            "<tr><td>thriller-suspense-mystery</td><td>30382</td></tr>",
                            "<tr><td>thriller-to-read</td><td>30383</td></tr>",
                            "<tr><td>thriller_horror_mystery_sci-fi</td><td>30384</td></tr>",
                            "<tr><td>thrillere</td><td>30385</td></tr>",
                            "<tr><td>thrillers</td><td>30386</td></tr>",
                            "<tr><td>thrillers-and-crime</td><td>30387</td></tr>",
                            "<tr><td>thrillers-horror</td><td>30388</td></tr>",
                            "<tr><td>thrillers-mysteries</td><td>30389</td></tr>",
                            "<tr><td>thrillers-mystery</td><td>30390</td></tr>",
                            "<tr><td>thrillers-normal</td><td>30391</td></tr>",
                            "<tr><td>to-read-thriller</td><td>30834</td></tr>",
                            "<tr><td>war-thriller</td><td>32154</td></tr>",
                            "<tr><td>y-mystery-thriller</td><td>32980</td></tr>",
                            "</table>"
                        ]
                    }
                }
            ],
            "execution_count": 81
        },
        {
            "cell_type": "code",
            "source": [
                "-- -- Code Here:\n",
                "-- SELECT b.title, bt.tag_id, COUNT(bt.tag_id) AS count_tags\n",
                "-- FROM BooksDB.dbo.books AS b\n",
                "-- INNER JOIN BooksDB.dbo.tags AS t\n",
                "-- ON b.best_book_id = bt.goodreads_book_id\n",
                "-- GROUP BY bt.tag_id\n",
                "-- WHERE b.title LIKE \"Harry Potter and the Sorcer%\"\n",
                "-- ORDER BY count_tags DESC;\n",
                "\n",
                "SELECT TOP 5 * FROM BooksDB.dbo.books AS b\n",
                "SELECT TOP 5 * FROM BooksDB.dbo.book_tags AS bt\n",
                "SELECT TOP 5 * FROM BooksDB.dbo.to_read AS tr\n",
                ""
            ],
            "metadata": {
                "azdata_cell_guid": "0a9b9cd8-d436-486d-99e5-43ed1edb2778",
                "language": "sql"
            },
            "outputs": [
                {
                    "output_type": "display_data",
                    "data": {
                        "text/html": "(5 rows affected)"
                    },
                    "metadata": {}
                },
                {
                    "output_type": "display_data",
                    "data": {
                        "text/html": "(5 rows affected)"
                    },
                    "metadata": {}
                },
                {
                    "output_type": "display_data",
                    "data": {
                        "text/html": "(5 rows affected)"
                    },
                    "metadata": {}
                },
                {
                    "output_type": "display_data",
                    "data": {
                        "text/html": "Total execution time: 00:00:00.046"
                    },
                    "metadata": {}
                },
                {
                    "output_type": "execute_result",
                    "metadata": {},
                    "execution_count": 85,
                    "data": {
                        "application/vnd.dataresource+json": {
                            "schema": {
                                "fields": [
                                    {
                                        "name": "id"
                                    },
                                    {
                                        "name": "book_id"
                                    },
                                    {
                                        "name": "best_book_id"
                                    },
                                    {
                                        "name": "work_id"
                                    },
                                    {
                                        "name": "books_count"
                                    },
                                    {
                                        "name": "isbn"
                                    },
                                    {
                                        "name": "isbn13"
                                    },
                                    {
                                        "name": "authors"
                                    },
                                    {
                                        "name": "original_publication_year"
                                    },
                                    {
                                        "name": "original_title"
                                    },
                                    {
                                        "name": "title"
                                    },
                                    {
                                        "name": "language_code"
                                    },
                                    {
                                        "name": "average_rating"
                                    },
                                    {
                                        "name": "ratings_count"
                                    },
                                    {
                                        "name": "work_ratings_count"
                                    },
                                    {
                                        "name": "work_text_reviews_count"
                                    },
                                    {
                                        "name": "ratings_1"
                                    },
                                    {
                                        "name": "ratings_2"
                                    },
                                    {
                                        "name": "ratings_3"
                                    },
                                    {
                                        "name": "ratings_4"
                                    },
                                    {
                                        "name": "ratings_5"
                                    },
                                    {
                                        "name": "image_url"
                                    },
                                    {
                                        "name": "small_image_url"
                                    }
                                ]
                            },
                            "data": [
                                {
                                    "id": "1",
                                    "book_id": "2767052",
                                    "best_book_id": "2767052",
                                    "work_id": "2792775",
                                    "books_count": "272",
                                    "isbn": "439023483",
                                    "isbn13": "9780439023480",
                                    "authors": "Suzanne Collins",
                                    "original_publication_year": "2008",
                                    "original_title": "The Hunger Games",
                                    "title": "The Hunger Games (The Hunger Games, #1)",
                                    "language_code": "eng",
                                    "average_rating": "4.34",
                                    "ratings_count": "4780653",
                                    "work_ratings_count": "4942365",
                                    "work_text_reviews_count": "155254",
                                    "ratings_1": "66715",
                                    "ratings_2": "127936",
                                    "ratings_3": "560092",
                                    "ratings_4": "1481305",
                                    "ratings_5": "2706317",
                                    "image_url": "https://images.gr-assets.com/books/1447303603m/2767052.jpg",
                                    "small_image_url": "https://images.gr-assets.com/books/1447303603s/2767052.jpg"
                                },
                                {
                                    "id": "2",
                                    "book_id": "3",
                                    "best_book_id": "3",
                                    "work_id": "4640799",
                                    "books_count": "491",
                                    "isbn": "439554934",
                                    "isbn13": "9780439554930",
                                    "authors": "J.K. Rowling, Mary GrandPré",
                                    "original_publication_year": "1997",
                                    "original_title": "Harry Potter and the Philosopher's Stone",
                                    "title": "Harry Potter and the Sorcerer's Stone (Harry Potter, #1)",
                                    "language_code": "eng",
                                    "average_rating": "4.44",
                                    "ratings_count": "4602479",
                                    "work_ratings_count": "4800065",
                                    "work_text_reviews_count": "75867",
                                    "ratings_1": "75504",
                                    "ratings_2": "101676",
                                    "ratings_3": "455024",
                                    "ratings_4": "1156318",
                                    "ratings_5": "3011543",
                                    "image_url": "https://images.gr-assets.com/books/1474154022m/3.jpg",
                                    "small_image_url": "https://images.gr-assets.com/books/1474154022s/3.jpg"
                                },
                                {
                                    "id": "3",
                                    "book_id": "41865",
                                    "best_book_id": "41865",
                                    "work_id": "3212258",
                                    "books_count": "226",
                                    "isbn": "316015849",
                                    "isbn13": "9780316015840",
                                    "authors": "Stephenie Meyer",
                                    "original_publication_year": "2005",
                                    "original_title": "Twilight",
                                    "title": "Twilight (Twilight, #1)",
                                    "language_code": "en-US",
                                    "average_rating": "3.57",
                                    "ratings_count": "3866839",
                                    "work_ratings_count": "3916824",
                                    "work_text_reviews_count": "95009",
                                    "ratings_1": "456191",
                                    "ratings_2": "436802",
                                    "ratings_3": "793319",
                                    "ratings_4": "875073",
                                    "ratings_5": "1355439",
                                    "image_url": "https://images.gr-assets.com/books/1361039443m/41865.jpg",
                                    "small_image_url": "https://images.gr-assets.com/books/1361039443s/41865.jpg"
                                },
                                {
                                    "id": "4",
                                    "book_id": "2657",
                                    "best_book_id": "2657",
                                    "work_id": "3275794",
                                    "books_count": "487",
                                    "isbn": "61120081",
                                    "isbn13": "9780061120080",
                                    "authors": "Harper Lee",
                                    "original_publication_year": "1960",
                                    "original_title": "To Kill a Mockingbird",
                                    "title": "To Kill a Mockingbird",
                                    "language_code": "eng",
                                    "average_rating": "4.25",
                                    "ratings_count": "3198671",
                                    "work_ratings_count": "3340896",
                                    "work_text_reviews_count": "72586",
                                    "ratings_1": "60427",
                                    "ratings_2": "117415",
                                    "ratings_3": "446835",
                                    "ratings_4": "1001952",
                                    "ratings_5": "1714267",
                                    "image_url": "https://images.gr-assets.com/books/1361975680m/2657.jpg",
                                    "small_image_url": "https://images.gr-assets.com/books/1361975680s/2657.jpg"
                                },
                                {
                                    "id": "5",
                                    "book_id": "4671",
                                    "best_book_id": "4671",
                                    "work_id": "245494",
                                    "books_count": "1356",
                                    "isbn": "743273567",
                                    "isbn13": "9780743273560",
                                    "authors": "F. Scott Fitzgerald",
                                    "original_publication_year": "1925",
                                    "original_title": "The Great Gatsby",
                                    "title": "The Great Gatsby",
                                    "language_code": "eng",
                                    "average_rating": "3.89",
                                    "ratings_count": "2683664",
                                    "work_ratings_count": "2773745",
                                    "work_text_reviews_count": "51992",
                                    "ratings_1": "86236",
                                    "ratings_2": "197621",
                                    "ratings_3": "606158",
                                    "ratings_4": "936012",
                                    "ratings_5": "947718",
                                    "image_url": "https://images.gr-assets.com/books/1490528560m/4671.jpg",
                                    "small_image_url": "https://images.gr-assets.com/books/1490528560s/4671.jpg"
                                }
                            ]
                        },
                        "text/html": [
                            "<table>",
                            "<tr><th>id</th><th>book_id</th><th>best_book_id</th><th>work_id</th><th>books_count</th><th>isbn</th><th>isbn13</th><th>authors</th><th>original_publication_year</th><th>original_title</th><th>title</th><th>language_code</th><th>average_rating</th><th>ratings_count</th><th>work_ratings_count</th><th>work_text_reviews_count</th><th>ratings_1</th><th>ratings_2</th><th>ratings_3</th><th>ratings_4</th><th>ratings_5</th><th>image_url</th><th>small_image_url</th></tr>",
                            "<tr><td>1</td><td>2767052</td><td>2767052</td><td>2792775</td><td>272</td><td>439023483</td><td>9780439023480</td><td>Suzanne Collins</td><td>2008</td><td>The Hunger Games</td><td>The Hunger Games (The Hunger Games, #1)</td><td>eng</td><td>4.34</td><td>4780653</td><td>4942365</td><td>155254</td><td>66715</td><td>127936</td><td>560092</td><td>1481305</td><td>2706317</td><td>https://images.gr-assets.com/books/1447303603m/2767052.jpg</td><td>https://images.gr-assets.com/books/1447303603s/2767052.jpg</td></tr>",
                            "<tr><td>2</td><td>3</td><td>3</td><td>4640799</td><td>491</td><td>439554934</td><td>9780439554930</td><td>J.K. Rowling, Mary GrandPré</td><td>1997</td><td>Harry Potter and the Philosopher's Stone</td><td>Harry Potter and the Sorcerer's Stone (Harry Potter, #1)</td><td>eng</td><td>4.44</td><td>4602479</td><td>4800065</td><td>75867</td><td>75504</td><td>101676</td><td>455024</td><td>1156318</td><td>3011543</td><td>https://images.gr-assets.com/books/1474154022m/3.jpg</td><td>https://images.gr-assets.com/books/1474154022s/3.jpg</td></tr>",
                            "<tr><td>3</td><td>41865</td><td>41865</td><td>3212258</td><td>226</td><td>316015849</td><td>9780316015840</td><td>Stephenie Meyer</td><td>2005</td><td>Twilight</td><td>Twilight (Twilight, #1)</td><td>en-US</td><td>3.57</td><td>3866839</td><td>3916824</td><td>95009</td><td>456191</td><td>436802</td><td>793319</td><td>875073</td><td>1355439</td><td>https://images.gr-assets.com/books/1361039443m/41865.jpg</td><td>https://images.gr-assets.com/books/1361039443s/41865.jpg</td></tr>",
                            "<tr><td>4</td><td>2657</td><td>2657</td><td>3275794</td><td>487</td><td>61120081</td><td>9780061120080</td><td>Harper Lee</td><td>1960</td><td>To Kill a Mockingbird</td><td>To Kill a Mockingbird</td><td>eng</td><td>4.25</td><td>3198671</td><td>3340896</td><td>72586</td><td>60427</td><td>117415</td><td>446835</td><td>1001952</td><td>1714267</td><td>https://images.gr-assets.com/books/1361975680m/2657.jpg</td><td>https://images.gr-assets.com/books/1361975680s/2657.jpg</td></tr>",
                            "<tr><td>5</td><td>4671</td><td>4671</td><td>245494</td><td>1356</td><td>743273567</td><td>9780743273560</td><td>F. Scott Fitzgerald</td><td>1925</td><td>The Great Gatsby</td><td>The Great Gatsby</td><td>eng</td><td>3.89</td><td>2683664</td><td>2773745</td><td>51992</td><td>86236</td><td>197621</td><td>606158</td><td>936012</td><td>947718</td><td>https://images.gr-assets.com/books/1490528560m/4671.jpg</td><td>https://images.gr-assets.com/books/1490528560s/4671.jpg</td></tr>",
                            "</table>"
                        ]
                    }
                },
                {
                    "output_type": "execute_result",
                    "metadata": {},
                    "execution_count": 85,
                    "data": {
                        "application/vnd.dataresource+json": {
                            "schema": {
                                "fields": [
                                    {
                                        "name": "goodreads_book_id"
                                    },
                                    {
                                        "name": "tag_id"
                                    },
                                    {
                                        "name": "count"
                                    }
                                ]
                            },
                            "data": [
                                {
                                    "goodreads_book_id": "1",
                                    "tag_id": "30574",
                                    "count": "167697"
                                },
                                {
                                    "goodreads_book_id": "1",
                                    "tag_id": "11305",
                                    "count": "37174"
                                },
                                {
                                    "goodreads_book_id": "1",
                                    "tag_id": "11557",
                                    "count": "34173"
                                },
                                {
                                    "goodreads_book_id": "1",
                                    "tag_id": "8717",
                                    "count": "12986"
                                },
                                {
                                    "goodreads_book_id": "1",
                                    "tag_id": "33114",
                                    "count": "12716"
                                }
                            ]
                        },
                        "text/html": [
                            "<table>",
                            "<tr><th>goodreads_book_id</th><th>tag_id</th><th>count</th></tr>",
                            "<tr><td>1</td><td>30574</td><td>167697</td></tr>",
                            "<tr><td>1</td><td>11305</td><td>37174</td></tr>",
                            "<tr><td>1</td><td>11557</td><td>34173</td></tr>",
                            "<tr><td>1</td><td>8717</td><td>12986</td></tr>",
                            "<tr><td>1</td><td>33114</td><td>12716</td></tr>",
                            "</table>"
                        ]
                    }
                },
                {
                    "output_type": "execute_result",
                    "metadata": {},
                    "execution_count": 85,
                    "data": {
                        "application/vnd.dataresource+json": {
                            "schema": {
                                "fields": [
                                    {
                                        "name": "user_id"
                                    },
                                    {
                                        "name": "book_id"
                                    }
                                ]
                            },
                            "data": [
                                {
                                    "user_id": "1",
                                    "book_id": "112"
                                },
                                {
                                    "user_id": "1",
                                    "book_id": "235"
                                },
                                {
                                    "user_id": "1",
                                    "book_id": "533"
                                },
                                {
                                    "user_id": "1",
                                    "book_id": "1198"
                                },
                                {
                                    "user_id": "1",
                                    "book_id": "1874"
                                }
                            ]
                        },
                        "text/html": [
                            "<table>",
                            "<tr><th>user_id</th><th>book_id</th></tr>",
                            "<tr><td>1</td><td>112</td></tr>",
                            "<tr><td>1</td><td>235</td></tr>",
                            "<tr><td>1</td><td>533</td></tr>",
                            "<tr><td>1</td><td>1198</td></tr>",
                            "<tr><td>1</td><td>1874</td></tr>",
                            "</table>"
                        ]
                    }
                }
            ],
            "execution_count": 85
        },
        {
            "cell_type": "code",
            "source": [
                "--29021\n",
                "SELECT TOP 10 b.title, COUNT(bt.tag_id) AS tag_count\n",
                "FROM BooksDB.dbo.books AS b\n",
                "INNER JOIN BooksDB.dbo.book_tags AS bt\n",
                "ON b.book_id = bt.goodreads_book_id\n",
                "WHERE bt.tag_id = 29021\n",
                "GROUP BY b.title\n",
                "ORDER BY tag_count DESC;"
            ],
            "metadata": {
                "azdata_cell_guid": "cf0f8402-8024-462d-9d6f-f76077323b26",
                "language": "sql"
            },
            "outputs": [
                {
                    "output_type": "display_data",
                    "data": {
                        "text/html": "(2 rows affected)"
                    },
                    "metadata": {}
                },
                {
                    "output_type": "display_data",
                    "data": {
                        "text/html": "Total execution time: 00:00:00.397"
                    },
                    "metadata": {}
                },
                {
                    "output_type": "execute_result",
                    "metadata": {},
                    "execution_count": 94,
                    "data": {
                        "application/vnd.dataresource+json": {
                            "schema": {
                                "fields": [
                                    {
                                        "name": "title"
                                    },
                                    {
                                        "name": "tag_count"
                                    }
                                ]
                            },
                            "data": [
                                {
                                    "title": "The Servants of Twilight",
                                    "tag_count": "1"
                                },
                                {
                                    "title": "Showdown (Paradise, #1)",
                                    "tag_count": "1"
                                }
                            ]
                        },
                        "text/html": [
                            "<table>",
                            "<tr><th>title</th><th>tag_count</th></tr>",
                            "<tr><td>The Servants of Twilight</td><td>1</td></tr>",
                            "<tr><td>Showdown (Paradise, #1)</td><td>1</td></tr>",
                            "</table>"
                        ]
                    }
                }
            ],
            "execution_count": 94
        },
        {
            "cell_type": "markdown",
            "source": [
                "## **QUESTION 7:** What are the top 10 most popular book titles on the 'to read' list?\n",
                "\n",
                "**Part A:**  Explore how the **to\\_read** and **books** tables are organized, and then join them.  What will you use as a key?\n",
                "\n",
                "> Your Answer: I used book\\_id as the key for both tables.  The Ultimate Hitchhiker's Guide to the Galaxy is listed in 1812 users to\\_read list. \n",
                "\n",
                "**Part B:** Organize your newly joined table in a way that groups popularity based on the title based on users.\n",
                "\n",
                "> _Hint:_ Suggest using an alias for the aggregation you will need to run on the **user\\_id**\n",
                "\n",
                "> _Minimum Desired Output:_ title and aliased column"
            ],
            "metadata": {
                "azdata_cell_guid": "4e5349b7-24f6-481a-9d88-bb4f86abc624"
            },
            "attachments": {}
        },
        {
            "cell_type": "code",
            "source": [
                "-- Code Here:\n",
                "SELECT TOP 10 b.title, COUNT(user_id) AS count_users\n",
                "FROM BooksDB.dbo.books AS b\n",
                "INNER JOIN BooksDB.dbo.to_read AS tr\n",
                "ON b.book_id = tr.book_id\n",
                "GROUP BY b.title\n",
                "ORDER BY count_users DESC;"
            ],
            "metadata": {
                "azdata_cell_guid": "8af25df1-ce61-4152-8198-0b53c17642d0",
                "language": "sql"
            },
            "outputs": [
                {
                    "output_type": "display_data",
                    "data": {
                        "text/html": "(10 rows affected)"
                    },
                    "metadata": {}
                },
                {
                    "output_type": "display_data",
                    "data": {
                        "text/html": "Total execution time: 00:00:00.166"
                    },
                    "metadata": {}
                },
                {
                    "output_type": "execute_result",
                    "metadata": {},
                    "execution_count": 88,
                    "data": {
                        "application/vnd.dataresource+json": {
                            "schema": {
                                "fields": [
                                    {
                                        "name": "title"
                                    },
                                    {
                                        "name": "count_users"
                                    }
                                ]
                            },
                            "data": [
                                {
                                    "title": "The Ultimate Hitchhiker's Guide to the Galaxy",
                                    "count_users": "1812"
                                },
                                {
                                    "title": "The Hitchhiker's Guide to the Galaxy (Hitchhiker's Guide to the Galaxy, #1)",
                                    "count_users": "1767"
                                },
                                {
                                    "title": "The Lord of the Rings: The Art of The Fellowship of the Ring",
                                    "count_users": "1499"
                                },
                                {
                                    "title": "Harry Potter Boxed Set, Books 1-5 (Harry Potter, #1-5)",
                                    "count_users": "1498"
                                },
                                {
                                    "title": "Harry Potter and the Goblet of Fire (Harry Potter, #4)",
                                    "count_users": "1484"
                                },
                                {
                                    "title": "The Known World",
                                    "count_users": "1352"
                                },
                                {
                                    "title": "Harry Potter and the Prisoner of Azkaban (Harry Potter, #3)",
                                    "count_users": "1293"
                                },
                                {
                                    "title": "The Lord of the Rings: Weapons and Warfare",
                                    "count_users": "1211"
                                },
                                {
                                    "title": "Notes from a Small Island",
                                    "count_users": "1148"
                                },
                                {
                                    "title": "Harry Potter Collection (Harry Potter, #1-6)",
                                    "count_users": "1110"
                                }
                            ]
                        },
                        "text/html": [
                            "<table>",
                            "<tr><th>title</th><th>count_users</th></tr>",
                            "<tr><td>The Ultimate Hitchhiker's Guide to the Galaxy</td><td>1812</td></tr>",
                            "<tr><td>The Hitchhiker's Guide to the Galaxy (Hitchhiker's Guide to the Galaxy, #1)</td><td>1767</td></tr>",
                            "<tr><td>The Lord of the Rings: The Art of The Fellowship of the Ring</td><td>1499</td></tr>",
                            "<tr><td>Harry Potter Boxed Set, Books 1-5 (Harry Potter, #1-5)</td><td>1498</td></tr>",
                            "<tr><td>Harry Potter and the Goblet of Fire (Harry Potter, #4)</td><td>1484</td></tr>",
                            "<tr><td>The Known World</td><td>1352</td></tr>",
                            "<tr><td>Harry Potter and the Prisoner of Azkaban (Harry Potter, #3)</td><td>1293</td></tr>",
                            "<tr><td>The Lord of the Rings: Weapons and Warfare</td><td>1211</td></tr>",
                            "<tr><td>Notes from a Small Island</td><td>1148</td></tr>",
                            "<tr><td>Harry Potter Collection (Harry Potter, #1-6)</td><td>1110</td></tr>",
                            "</table>"
                        ]
                    }
                }
            ],
            "execution_count": 88
        },
        {
            "cell_type": "markdown",
            "source": [
                "## **QUESTION 8:** Largest 'To Read' Lists\n",
                "\n",
                "**Part A:**  Create a query that returns a table that contains the top 10 users with the most number of titles on their 'to read' list.    Group all the entries by user\\_id.  \n",
                "\n",
                "> _Hint:_ You might want an alias for the titles.\n",
                "> \n",
                "> _Minimum Desired Output:_  user\\_id and your aliased column of titles.\n",
                "\n",
                "**Part B:**  The longest list length is 15 titles total, and is shared by 4 different users.  Select one of the uses and print out their entire '**to read**' list."
            ],
            "metadata": {
                "azdata_cell_guid": "0b0090b0-2b28-44c6-8bb6-06b4c03c3ff1"
            },
            "attachments": {}
        },
        {
            "cell_type": "code",
            "source": [
                "-- Code Here:\n",
                "SELECT TOP 10 tr.user_id, COUNT(tr.book_id) AS book_count\n",
                "FROM BooksDB.dbo.books AS b\n",
                "INNER JOIN BooksDB.dbo.to_read AS tr\n",
                "ON b.book_id = tr.book_id\n",
                "GROUP BY tr.user_id\n",
                "ORDER BY book_count DESC;"
            ],
            "metadata": {
                "azdata_cell_guid": "c6c815f8-890d-4163-be63-3d300e320597",
                "tags": [],
                "language": "sql"
            },
            "outputs": [
                {
                    "output_type": "display_data",
                    "data": {
                        "text/html": "(10 rows affected)"
                    },
                    "metadata": {}
                },
                {
                    "output_type": "display_data",
                    "data": {
                        "text/html": "Total execution time: 00:00:00.144"
                    },
                    "metadata": {}
                },
                {
                    "output_type": "execute_result",
                    "metadata": {},
                    "execution_count": 89,
                    "data": {
                        "application/vnd.dataresource+json": {
                            "schema": {
                                "fields": [
                                    {
                                        "name": "user_id"
                                    },
                                    {
                                        "name": "book_count"
                                    }
                                ]
                            },
                            "data": [
                                {
                                    "user_id": "14771",
                                    "book_count": "15"
                                },
                                {
                                    "user_id": "12483",
                                    "book_count": "15"
                                },
                                {
                                    "user_id": "11932",
                                    "book_count": "15"
                                },
                                {
                                    "user_id": "38201",
                                    "book_count": "15"
                                },
                                {
                                    "user_id": "36923",
                                    "book_count": "14"
                                },
                                {
                                    "user_id": "41523",
                                    "book_count": "14"
                                },
                                {
                                    "user_id": "27933",
                                    "book_count": "14"
                                },
                                {
                                    "user_id": "37359",
                                    "book_count": "14"
                                },
                                {
                                    "user_id": "25734",
                                    "book_count": "13"
                                },
                                {
                                    "user_id": "51137",
                                    "book_count": "13"
                                }
                            ]
                        },
                        "text/html": [
                            "<table>",
                            "<tr><th>user_id</th><th>book_count</th></tr>",
                            "<tr><td>14771</td><td>15</td></tr>",
                            "<tr><td>12483</td><td>15</td></tr>",
                            "<tr><td>11932</td><td>15</td></tr>",
                            "<tr><td>38201</td><td>15</td></tr>",
                            "<tr><td>36923</td><td>14</td></tr>",
                            "<tr><td>41523</td><td>14</td></tr>",
                            "<tr><td>27933</td><td>14</td></tr>",
                            "<tr><td>37359</td><td>14</td></tr>",
                            "<tr><td>25734</td><td>13</td></tr>",
                            "<tr><td>51137</td><td>13</td></tr>",
                            "</table>"
                        ]
                    }
                }
            ],
            "execution_count": 89
        },
        {
            "cell_type": "code",
            "source": [
                "SELECT tr.user_id, tr.book_id, b.title\n",
                "FROM BooksDB.dbo.books AS b\n",
                "INNER JOIN BooksDB.dbo.to_read AS tr\n",
                "ON b.book_id = tr.book_id\n",
                "WHERE tr.user_id = 14771\n",
                ""
            ],
            "metadata": {
                "language": "sql",
                "azdata_cell_guid": "8e3902a5-1acc-4bd1-a95b-72a17dfffc10"
            },
            "outputs": [
                {
                    "output_type": "display_data",
                    "data": {
                        "text/html": "(15 rows affected)"
                    },
                    "metadata": {}
                },
                {
                    "output_type": "display_data",
                    "data": {
                        "text/html": "Total execution time: 00:00:00.184"
                    },
                    "metadata": {}
                },
                {
                    "output_type": "execute_result",
                    "metadata": {},
                    "execution_count": 90,
                    "data": {
                        "application/vnd.dataresource+json": {
                            "schema": {
                                "fields": [
                                    {
                                        "name": "user_id"
                                    },
                                    {
                                        "name": "book_id"
                                    },
                                    {
                                        "name": "title"
                                    }
                                ]
                            },
                            "data": [
                                {
                                    "user_id": "14771",
                                    "book_id": "34",
                                    "title": "The Fellowship of the Ring (The Lord of the Rings, #1)"
                                },
                                {
                                    "user_id": "14771",
                                    "book_id": "2",
                                    "title": "Harry Potter and the Order of the Phoenix (Harry Potter, #5)"
                                },
                                {
                                    "user_id": "14771",
                                    "book_id": "6",
                                    "title": "Harry Potter and the Goblet of Fire (Harry Potter, #4)"
                                },
                                {
                                    "user_id": "14771",
                                    "book_id": "30",
                                    "title": "J.R.R. Tolkien 4-Book Boxed Set: The Hobbit and The Lord of the Rings"
                                },
                                {
                                    "user_id": "14771",
                                    "book_id": "24",
                                    "title": "In a Sunburned Country"
                                },
                                {
                                    "user_id": "14771",
                                    "book_id": "4659",
                                    "title": "A Widow for One Year"
                                },
                                {
                                    "user_id": "14771",
                                    "book_id": "249",
                                    "title": "Tropic of Cancer"
                                },
                                {
                                    "user_id": "14771",
                                    "book_id": "1375",
                                    "title": "The Iliad/The Odyssey"
                                },
                                {
                                    "user_id": "14771",
                                    "book_id": "26",
                                    "title": "The Lost Continent: Travels in Small Town America"
                                },
                                {
                                    "user_id": "14771",
                                    "book_id": "431",
                                    "title": "The New York Trilogy"
                                },
                                {
                                    "user_id": "14771",
                                    "book_id": "119",
                                    "title": "The Lord of the Rings: The Art of The Fellowship of the Ring"
                                },
                                {
                                    "user_id": "14771",
                                    "book_id": "67",
                                    "title": "The Known World"
                                },
                                {
                                    "user_id": "14771",
                                    "book_id": "7797",
                                    "title": "Ten Apples Up On Top!"
                                },
                                {
                                    "user_id": "14771",
                                    "book_id": "456",
                                    "title": "Leviathan"
                                },
                                {
                                    "user_id": "14771",
                                    "book_id": "98",
                                    "title": "What to Expect the First Year (What to Expect)"
                                }
                            ]
                        },
                        "text/html": [
                            "<table>",
                            "<tr><th>user_id</th><th>book_id</th><th>title</th></tr>",
                            "<tr><td>14771</td><td>34</td><td>The Fellowship of the Ring (The Lord of the Rings, #1)</td></tr>",
                            "<tr><td>14771</td><td>2</td><td>Harry Potter and the Order of the Phoenix (Harry Potter, #5)</td></tr>",
                            "<tr><td>14771</td><td>6</td><td>Harry Potter and the Goblet of Fire (Harry Potter, #4)</td></tr>",
                            "<tr><td>14771</td><td>30</td><td>J.R.R. Tolkien 4-Book Boxed Set: The Hobbit and The Lord of the Rings</td></tr>",
                            "<tr><td>14771</td><td>24</td><td>In a Sunburned Country</td></tr>",
                            "<tr><td>14771</td><td>4659</td><td>A Widow for One Year</td></tr>",
                            "<tr><td>14771</td><td>249</td><td>Tropic of Cancer</td></tr>",
                            "<tr><td>14771</td><td>1375</td><td>The Iliad/The Odyssey</td></tr>",
                            "<tr><td>14771</td><td>26</td><td>The Lost Continent: Travels in Small Town America</td></tr>",
                            "<tr><td>14771</td><td>431</td><td>The New York Trilogy</td></tr>",
                            "<tr><td>14771</td><td>119</td><td>The Lord of the Rings: The Art of The Fellowship of the Ring</td></tr>",
                            "<tr><td>14771</td><td>67</td><td>The Known World</td></tr>",
                            "<tr><td>14771</td><td>7797</td><td>Ten Apples Up On Top!</td></tr>",
                            "<tr><td>14771</td><td>456</td><td>Leviathan</td></tr>",
                            "<tr><td>14771</td><td>98</td><td>What to Expect the First Year (What to Expect)</td></tr>",
                            "</table>"
                        ]
                    }
                }
            ],
            "execution_count": 90
        }
    ]
}